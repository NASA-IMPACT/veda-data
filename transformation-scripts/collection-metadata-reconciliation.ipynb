{
 "cells": [
  {
   "cell_type": "markdown",
   "metadata": {},
   "source": [
    "# Notebook to Reconcile Collection Metadata"
   ]
  },
  {
   "cell_type": "markdown",
   "metadata": {},
   "source": [
    "This notebook reconciles the collections in `/ingestion-data/collections` and retrieves the `summaries` value for each collection from the API, merges it to the existing collection in `veda-data` and posts the new collection to the API."
   ]
  },
  {
   "cell_type": "code",
   "execution_count": null,
   "metadata": {},
   "outputs": [],
   "source": [
    "import glob\n",
    "import json\n",
    "import requests\n",
    "from cognito_client import CognitoClient"
   ]
  },
  {
   "cell_type": "markdown",
   "metadata": {},
   "source": [
    "Set the testing mode to `True` when testing and `False` otherwise. When the testing mode is `True`, the notebook will be set to run against `dev` endpoints."
   ]
  },
  {
   "cell_type": "code",
   "execution_count": null,
   "metadata": {},
   "outputs": [],
   "source": [
    "testing_mode = True"
   ]
  },
  {
   "cell_type": "markdown",
   "metadata": {},
   "source": [
    "The following cell retrieves collection JSON files from the `collections` directory and save collectionIds to a list."
   ]
  },
  {
   "cell_type": "code",
   "execution_count": null,
   "metadata": {},
   "outputs": [],
   "source": [
    "local_collections_path = (\n",
    "    \"../ingestion-data/staging/collections/*.json\"\n",
    "    if testing_mode\n",
    "    else \"../ingestion-data/production/collections/*.json\"\n",
    ")\n",
    "\n",
    "json_file_paths = glob.glob(local_collections_path)\n",
    "\n",
    "file_paths_and_collection_ids = [\n",
    "    {\"filePath\": file_path, \"collectionId\": data[\"id\"]}\n",
    "    for file_path in json_file_paths\n",
    "    if \"id\" in (data := json.load(open(file_path, \"r\")))\n",
    "]"
   ]
  },
  {
   "cell_type": "markdown",
   "metadata": {},
   "source": [
    "Have your Cognito `username` and `password` ready to set up Cognito Client to retrieve a token that will be used to access the STAC Ingestor API."
   ]
  },
  {
   "cell_type": "code",
   "execution_count": null,
   "metadata": {},
   "outputs": [],
   "source": [
    "dev_endpoint = \"https://dev.openveda.cloud\"\n",
    "dev_client_id = \"CHANGE ME\"\n",
    "dev_user_pool_id = \"CHANGE ME\"\n",
    "dev_identity_pool_id = \"CHANGE ME\"\n",
    "\n",
    "staging_endpoint = \"https://staging-stac.delta-backend.com/\"\n",
    "staging_client_id = \"CHANGE ME\"\n",
    "staging_user_pool_id = \"CHANGE ME\"\n",
    "staging_identity_pool_id = \"CHANGE ME\"\n",
    "\n",
    "ingestor_staging_url = \"https://ig9v64uky8.execute-api.us-west-2.amazonaws.com/staging/\"\n",
    "ingestor_dev_url = \"https://dev.openveda.cloud\"\n",
    "\n",
    "if testing_mode:\n",
    "    STAC_INGESTOR_API = ingestor_dev_url\n",
    "    VEDA_STAC_API = dev_endpoint\n",
    "else:\n",
    "    STAC_INGESTOR_API = ingestor_staging_url\n",
    "    VEDA_STAC_API = staging_endpoint\n",
    "\n",
    "client = CognitoClient(\n",
    "    client_id=dev_client_id if testing_mode else staging_client_id,\n",
    "    user_pool_id=dev_user_pool_id if testing_mode else staging_user_pool_id,\n",
    "    identity_pool_id=dev_identity_pool_id if testing_mode else staging_identity_pool_id,\n",
    ")\n",
    "_ = client.login()"
   ]
  },
  {
   "cell_type": "markdown",
   "metadata": {},
   "source": [
    "The following cell sets up headers for requests."
   ]
  },
  {
   "cell_type": "code",
   "execution_count": null,
   "metadata": {},
   "outputs": [],
   "source": [
    "TOKEN = client.access_token\n",
    "authorization_header = f\"Bearer {TOKEN}\"\n",
    "headers = {\n",
    "    \"Authorization\": authorization_header,\n",
    "    \"content-type\": \"application/json\",\n",
    "    \"accept\": \"application/json\",\n",
    "}"
   ]
  },
  {
   "cell_type": "markdown",
   "metadata": {},
   "source": [
    "The following cell defines the functions that will be used to consolidate `summaries` and `links` to reconcile the collection metadata."
   ]
  },
  {
   "cell_type": "code",
   "execution_count": null,
   "metadata": {},
   "outputs": [],
   "source": [
    "def post_reconciled_collection(collection, collection_id):\n",
    "    collection_url = f\"{STAC_INGESTOR_API}api/stac/collections/{collection_id}\"\n",
    "    ingest_url = f\"{STAC_INGESTOR_API}api/ingest/collections\"\n",
    "\n",
    "    try:\n",
    "        response = requests.post(ingest_url, json=collection, headers=headers)\n",
    "        response.raise_for_status()\n",
    "        if response.status_code == 201:\n",
    "            print(\n",
    "                f\"Request was successful. Find the updated collection at {collection_url}\"\n",
    "            )\n",
    "        else:\n",
    "            print(\n",
    "                f\"Updating {collection_id} failed. Request failed with status code: {response.status_code}\"\n",
    "            )\n",
    "    except requests.RequestException as e:\n",
    "        print(\n",
    "            f\"Updating {collection_id} failed. An error occurred during the request: {e}\"\n",
    "        )\n",
    "    except Exception as e:\n",
    "        print(\n",
    "            f\"An unexpected error occurred while trying to update {collection_id}: {e}\"\n",
    "        )\n",
    "\n",
    "\n",
    "def merge_summaries(existing_summaries, retrieved_summaries):\n",
    "    merged_summaries_dict = existing_summaries.copy()\n",
    "\n",
    "    if retrieved_summaries:\n",
    "        for key, value in retrieved_summaries.items():\n",
    "            merged_summaries_dict.setdefault(key, value)\n",
    "\n",
    "    return merged_summaries_dict\n",
    "\n",
    "\n",
    "def retain_external_links(existing_links, retrieved_links):\n",
    "    unique_hrefs = set(link.get(\"href\") for link in existing_links)\n",
    "    additional_external_links = [\n",
    "        link\n",
    "        for link in retrieved_links\n",
    "        if link.get(\"rel\") == \"external\" and link.get(\"href\") not in unique_hrefs\n",
    "    ]\n",
    "\n",
    "    retained_links = existing_links + additional_external_links\n",
    "    return retained_links"
   ]
  },
  {
   "cell_type": "markdown",
   "metadata": {},
   "source": [
    "The following cell loops through `file_paths_and_collection_ids` to retrieve `summaries` and `links` information for each existing collection and publish the updated collection to the target ingestion `api/collections` endpoint."
   ]
  },
  {
   "cell_type": "code",
   "execution_count": null,
   "metadata": {},
   "outputs": [],
   "source": [
    "for item in file_paths_and_collection_ids:\n",
    "    collection_id = item[\"collectionId\"]\n",
    "    file_path = item[\"filePath\"]\n",
    "\n",
    "    if VEDA_STAC_API == dev_endpoint:\n",
    "        url = f\"{VEDA_STAC_API}api/stac/collections/{collection_id}\"\n",
    "    elif VEDA_STAC_API == staging_endpoint:\n",
    "        url = f\"{VEDA_STAC_API}collections/{collection_id}\"\n",
    "\n",
    "    try:\n",
    "        response = requests.get(url, headers=headers)\n",
    "        response.raise_for_status()\n",
    "        json_response = response.json()\n",
    "\n",
    "        retrieved_summaries = json_response.get(\"summaries\", {})\n",
    "        retrieved_links = json_response.get(\"links\", {})\n",
    "\n",
    "        with open(file_path, \"r\", encoding=\"utf-8\") as file:\n",
    "            collection = json.load(file)\n",
    "\n",
    "            existing_summaries = collection.get(\"summaries\", {})\n",
    "            existing_links = collection.get(\"links\", {})\n",
    "\n",
    "            collection[\"summaries\"] = merge_summaries(\n",
    "                existing_summaries, retrieved_summaries\n",
    "            )\n",
    "            collection[\"links\"] = retain_external_links(existing_links, retrieved_links)\n",
    "\n",
    "        # Publish the updated collection to the target ingestion `api/collections` endpoint\n",
    "        post_reconciled_collection(collection, collection_id)\n",
    "\n",
    "    except requests.RequestException as e:\n",
    "        print(f\"An error occurred for collectionId {collection_id}: {e}\")\n",
    "    except Exception as e:\n",
    "        print(f\"An unexpected error occurred for collectionId {collection_id}: {e}\")"
   ]
  }
 ],
 "metadata": {
  "kernelspec": {
   "display_name": "Python 3 (ipykernel)",
   "language": "python",
   "name": "python3"
  },
  "language_info": {
   "codemirror_mode": {
    "name": "ipython",
    "version": 3
   },
   "file_extension": ".py",
   "mimetype": "text/x-python",
   "name": "python",
   "nbconvert_exporter": "python",
   "pygments_lexer": "ipython3",
   "version": "3.8.15"
  }
 },
 "nbformat": 4,
 "nbformat_minor": 4
}
