{
 "cells": [
  {
   "cell_type": "markdown",
   "metadata": {},
   "source": [
    "# Notebook to Reconcile Collection Metadata"
   ]
  },
  {
   "cell_type": "markdown",
   "metadata": {},
   "source": [
    "This notebook reconciles the collections in `/ingestion-data/collections` and retrieves the summary for each collection from the API, merges it to the existing collection in `veda-data` and posts the new collection to the API."
   ]
  },
  {
   "cell_type": "code",
   "execution_count": 2,
   "metadata": {},
   "outputs": [],
   "source": [
    "import glob\n",
    "import json\n",
    "\n",
    "import requests\n",
    "from cognito_client import CognitoClient"
   ]
  },
  {
   "cell_type": "markdown",
   "metadata": {},
   "source": [
    "The following cell retrieves collection JSON files from `/ingestion-data/collections/` and save collectionIds to a list."
   ]
  },
  {
   "cell_type": "code",
   "execution_count": 4,
   "metadata": {},
   "outputs": [
    {
     "name": "stdout",
     "output_type": "stream",
     "text": [
      "[{'filePath': '../ingestion-data/collections/campfire-lst-night-diff.json', 'collectionId': 'campfire-lst-night-diff'}, {'filePath': '../ingestion-data/collections/OMI_trno2-COG.json', 'collectionId': 'OMI_trno2-COG'}, {'filePath': '../ingestion-data/collections/lis-global-da-tws.json', 'collectionId': 'lis-global-da-tws'}, {'filePath': '../ingestion-data/collections/EPA-annual-emissions_1B2b_Natural_Gas_Processing.json', 'collectionId': 'EPA-annual-emissions_1B2b_Natural_Gas_Processing'}, {'filePath': '../ingestion-data/collections/grdi-shdi-raster.json', 'collectionId': 'grdi-shdi-raster'}, {'filePath': '../ingestion-data/collections/conus-reach.json', 'collectionId': 'conus-reach'}, {'filePath': '../ingestion-data/collections/EPA-annual-emissions_1B1a_Coal_Mining_Underground.json', 'collectionId': 'EPA-annual-emissions_1B1a_Coal_Mining_Underground'}, {'filePath': '../ingestion-data/collections/ndvi_diff_Ian_2022-09-30_2022-09-05.json', 'collectionId': 'ndvi_diff_Ian_2022-09-30_2022-09-05'}, {'filePath': '../ingestion-data/collections/entropy_difference_2022-09-05_2022-09-30.json', 'collectionId': 'entropy_difference_2022-09-05_2022-09-30'}, {'filePath': '../ingestion-data/collections/snow-projections-median-585.json', 'collectionId': 'snow-projections-median-585'}, {'filePath': '../ingestion-data/collections/social-vulnerability-index-socioeconomic.json', 'collectionId': 'social-vulnerability-index-socioeconomic'}, {'filePath': '../ingestion-data/collections/EPA-annual-emissions_4B_Manure_Management.json', 'collectionId': 'EPA-annual-emissions_4B_Manure_Management'}, {'filePath': '../ingestion-data/collections/geoglam.json', 'collectionId': 'geoglam'}, {'filePath': '../ingestion-data/collections/OMSO2PCA-COG.json', 'collectionId': 'OMSO2PCA-COG'}, {'filePath': '../ingestion-data/collections/lis-global-da-tws-trend.json', 'collectionId': 'lis-global-da-tws-trend'}, {'filePath': '../ingestion-data/collections/EPA-annual-emissions_2B5_Petrochemical_Production.json', 'collectionId': 'EPA-annual-emissions_2B5_Petrochemical_Production'}, {'filePath': '../ingestion-data/collections/EPA-annual-emissions_1B2b_Natural_Gas_Production.json', 'collectionId': 'EPA-annual-emissions_1B2b_Natural_Gas_Production'}, {'filePath': '../ingestion-data/collections/facebook_population_density.json', 'collectionId': 'facebook_population_density'}, {'filePath': '../ingestion-data/collections/lis-tws-nonstationarity-index.json', 'collectionId': 'lis-tws-nonstationarity-index'}, {'filePath': '../ingestion-data/collections/modis-albedo-wsa-diff-2015-2022.json', 'collectionId': 'modis-albedo-wsa-diff-2015-2022'}, {'filePath': '../ingestion-data/collections/social-vulnerability-index-overall.json', 'collectionId': 'social-vulnerability-index-overall'}, {'filePath': '../ingestion-data/collections/ceos-co2-flux-budgets-mean.json', 'collectionId': 'ceos-co2-flux-budgets-mean'}, {'filePath': '../ingestion-data/collections/grdi-v1-raster.json', 'collectionId': 'grdi-v1-raster'}, {'filePath': '../ingestion-data/collections/EPA-annual-emissions_6A_Landfills_Industrial.json', 'collectionId': 'EPA-annual-emissions_6A_Landfills_Industrial'}, {'filePath': '../ingestion-data/collections/EPA-annual-emissions_6B_Wastewater_Treatment_Domestic.json', 'collectionId': 'EPA-annual-emissions_6B_Wastewater_Treatment_Domestic'}, {'filePath': '../ingestion-data/collections/snow-projections-median-245.json', 'collectionId': 'snow-projections-median-245'}, {'filePath': '../ingestion-data/collections/EPA-annual-emissions_6D_Composting.json', 'collectionId': 'EPA-annual-emissions_6D_Composting'}, {'filePath': '../ingestion-data/collections/ecco-surface-height-change.json', 'collectionId': 'ecco-surface-height-change'}, {'filePath': '../ingestion-data/collections/hls-l30-002-ej-reprocessed.json', 'collectionId': 'hls-l30-002-ej-reprocessed'}, {'filePath': '../ingestion-data/collections/houston-aod.json', 'collectionId': 'houston-aod'}, {'filePath': '../ingestion-data/collections/ls8-covid-19-example-data.json', 'collectionId': 'ls8-covid-19-example-data'}, {'filePath': '../ingestion-data/collections/IS2SITMOGR4-cog.json', 'collectionId': 'IS2SITMOGR4-cog'}, {'filePath': '../ingestion-data/collections/hls-bais2-v2.json', 'collectionId': 'hls-bais2-v2'}, {'filePath': '../ingestion-data/collections/recovery-proxy-maps-covid-19.json', 'collectionId': 'recovery-proxy-maps-covid-19'}, {'filePath': '../ingestion-data/collections/lis-global-da-swe.json', 'collectionId': 'lis-global-da-swe'}, {'filePath': '../ingestion-data/collections/EPA-annual-emissions_2C2_Ferroalloy_Production.json', 'collectionId': 'EPA-annual-emissions_2C2_Ferroalloy_Production'}, {'filePath': '../ingestion-data/collections/campfire-ndvi-diff.json', 'collectionId': 'campfire-ndvi-diff'}, {'filePath': '../ingestion-data/collections/lis-global-da-gpp-trend.json', 'collectionId': 'lis-global-da-gpp-trend'}, {'filePath': '../ingestion-data/collections/nightlights-500m-daily.json', 'collectionId': 'nightlights-500m-daily'}, {'filePath': '../ingestion-data/collections/EPA-annual-emissions_4A_Enteric_Fermentation.json', 'collectionId': 'EPA-annual-emissions_4A_Enteric_Fermentation'}, {'filePath': '../ingestion-data/collections/eis_fire_newfirepix.json', 'collectionId': 'eis_fire_newfirepix'}, {'filePath': '../ingestion-data/collections/barc-thomasfire.json', 'collectionId': 'barc-thomasfire'}, {'filePath': '../ingestion-data/collections/cygnss-watermask-ucar.json', 'collectionId': 'cygnss-watermask-ucar'}, {'filePath': '../ingestion-data/collections/nightlights-hd-1band.json', 'collectionId': 'nightlights-hd-1band'}, {'filePath': '../ingestion-data/collections/grdi-cdr-raster.json', 'collectionId': 'grdi-cdr-raster'}, {'filePath': '../ingestion-data/collections/modis-lst-night-diff-2015-2022.json', 'collectionId': 'modis-lst-night-diff-2015-2022'}, {'filePath': '../ingestion-data/collections/lis-global-da-gpp.json', 'collectionId': 'lis-global-da-gpp'}, {'filePath': '../ingestion-data/collections/lis-global-da-evap.json', 'collectionId': 'lis-global-da-evap'}, {'filePath': '../ingestion-data/collections/houston-lst-day.json', 'collectionId': 'houston-lst-day'}, {'filePath': '../ingestion-data/collections/landsat-c2l2-sr-antarctic-glaciers-pine-island.json', 'collectionId': 'landsat-c2l2-sr-antarctic-glaciers-pine-island'}, {'filePath': '../ingestion-data/collections/cygnss-watermask-ucberkeley.json', 'collectionId': 'cygnss-watermask-ucberkeley'}, {'filePath': '../ingestion-data/collections/EPA-monthly-emissions_1B2b_Natural_Gas_Production.json', 'collectionId': 'EPA-monthly-emissions_1B2b_Natural_Gas_Production'}, {'filePath': '../ingestion-data/collections/lis-global-da-qs.json', 'collectionId': 'lis-global-da-qs'}, {'filePath': '../ingestion-data/collections/lis-global-da-qsb.json', 'collectionId': 'lis-global-da-qsb'}, {'filePath': '../ingestion-data/collections/blue-tarp-planetscope.json', 'collectionId': 'blue-tarp-planetscope'}, {'filePath': '../ingestion-data/collections/landsat-c2l2-sr-lakes-aral-sea.json', 'collectionId': 'landsat-c2l2-sr-lakes-aral-sea'}, {'filePath': '../ingestion-data/collections/damage_probability_2022-10-03.json', 'collectionId': 'damage_probability_2022-10-03'}, {'filePath': '../ingestion-data/collections/caldor-fire-burn-severity.json', 'collectionId': 'caldor-fire-burn-severity'}, {'filePath': '../ingestion-data/collections/houston-lst-diff.json', 'collectionId': 'houston-lst-diff'}, {'filePath': '../ingestion-data/collections/co2-mean.json', 'collectionId': 'co2-mean'}, {'filePath': '../ingestion-data/collections/nceo_africa_2017.json', 'collectionId': 'nceo_africa_2017'}, {'filePath': '../ingestion-data/collections/grdi-vnl-slope-raster.json', 'collectionId': 'grdi-vnl-slope-raster'}, {'filePath': '../ingestion-data/collections/disturbance-probability-percentile.json', 'collectionId': 'disturbance-probability-percentile'}, {'filePath': '../ingestion-data/collections/landsat-c2l2-sr-lakes-tonle-sap.json', 'collectionId': 'landsat-c2l2-sr-lakes-tonle-sap'}, {'filePath': '../ingestion-data/collections/disalexi-etsuppression.json', 'collectionId': 'disalexi-etsuppression'}, {'filePath': '../ingestion-data/collections/social-vulnerability-index-overall-nopop.json', 'collectionId': 'social-vulnerability-index-overall-nopop'}, {'filePath': '../ingestion-data/collections/houston-aod-diff.json', 'collectionId': 'houston-aod-diff'}, {'filePath': '../ingestion-data/collections/EPA-monthly-emissions_1A_Combustion_Stationary.json', 'collectionId': 'EPA-monthly-emissions_1A_Combustion_Stationary'}, {'filePath': '../ingestion-data/collections/nightlights-hd-monthly.json', 'collectionId': 'nightlights-hd-monthly'}, {'filePath': '../ingestion-data/collections/social-vulnerability-index-household-nopop.json', 'collectionId': 'social-vulnerability-index-household-nopop'}, {'filePath': '../ingestion-data/collections/slowdown-proxy-covid-19-changing-landscapes.json', 'collectionId': 'slowdown-proxy-covid-19-changing-landscapes'}, {'filePath': '../ingestion-data/collections/EPA-daily-emissions_5_Forest_Fires.json', 'collectionId': 'EPA-daily-emissions_5_Forest_Fires'}, {'filePath': '../ingestion-data/collections/ceos-co2-flux-budgets.json', 'collectionId': 'ceos-co2-flux-budgets'}, {'filePath': '../ingestion-data/collections/eis_fire_fireline.json', 'collectionId': 'eis_fire_fireline'}, {'filePath': '../ingestion-data/collections/EPA-annual-emissions_6A_Landfills_Municipal.json', 'collectionId': 'EPA-annual-emissions_6A_Landfills_Municipal'}, {'filePath': '../ingestion-data/collections/houston-landcover.json', 'collectionId': 'houston-landcover'}, {'filePath': '../ingestion-data/collections/frp-max-thomasfire.json', 'collectionId': 'frp-max-thomasfire'}, {'filePath': '../ingestion-data/collections/social-vulnerability-index-minority.json', 'collectionId': 'social-vulnerability-index-minority'}, {'filePath': '../ingestion-data/collections/grdi-imr-raster.json', 'collectionId': 'grdi-imr-raster'}, {'filePath': '../ingestion-data/collections/landsat-c2l2-sr-lakes-lake-balaton.json', 'collectionId': 'landsat-c2l2-sr-lakes-lake-balaton'}, {'filePath': '../ingestion-data/collections/modis-fire-anomalies-diff-covid-19-changing-landscape.json', 'collectionId': 'modis-fire-anomalies-diff-covid-19-changing-landscape'}, {'filePath': '../ingestion-data/collections/landsat-nighttime-thermal.json', 'collectionId': 'landsat-nighttime-thermal'}, {'filePath': '../ingestion-data/collections/EPA-annual-emissions_1B2b_Natural_Gas_Transmission.json', 'collectionId': 'EPA-annual-emissions_1B2b_Natural_Gas_Transmission'}, {'filePath': '../ingestion-data/collections/lis-global-da-totalprecip.json', 'collectionId': 'lis-global-da-totalprecip'}, {'filePath': '../ingestion-data/collections/EPA-annual-emissions_6B_Wastewater_Treatment_Industrial.json', 'collectionId': 'EPA-annual-emissions_6B_Wastewater_Treatment_Industrial'}, {'filePath': '../ingestion-data/collections/hls-bais2.json', 'collectionId': 'hls-bais2'}, {'filePath': '../ingestion-data/collections/lis-tws-anomaly.json', 'collectionId': 'lis-tws-anomaly'}, {'filePath': '../ingestion-data/collections/EPA-annual-emissions_1B2a_Petroleum.json', 'collectionId': 'EPA-annual-emissions_1B2a_Petroleum'}, {'filePath': '../ingestion-data/collections/EPA-monthly-emissions_4F_Field_Burning.json', 'collectionId': 'EPA-monthly-emissions_4F_Field_Burning'}, {'filePath': '../ingestion-data/collections/CMIP585-winter-median-ta.json', 'collectionId': 'CMIP585-winter-median-ta'}, {'filePath': '../ingestion-data/collections/EPA-annual-emissions_5_Forest_Fires.json', 'collectionId': 'EPA-annual-emissions_5_Forest_Fires'}, {'filePath': '../ingestion-data/collections/grdi-vnl-raster.json', 'collectionId': 'grdi-vnl-raster'}, {'filePath': '../ingestion-data/collections/snow-projections-diff-245.json', 'collectionId': 'snow-projections-diff-245'}, {'filePath': '../ingestion-data/collections/campfire-nlcd.json', 'collectionId': 'campfire-nlcd'}, {'filePath': '../ingestion-data/collections/EPA-annual-emissions_1B2b_Natural_Gas_Distribution.json', 'collectionId': 'EPA-annual-emissions_1B2b_Natural_Gas_Distribution'}, {'filePath': '../ingestion-data/collections/togo-agriculture-covid-19.json', 'collectionId': 'togo-agriculture-covid-19'}, {'filePath': '../ingestion-data/collections/snow-projections-diff-585.json', 'collectionId': 'snow-projections-diff-585'}, {'filePath': '../ingestion-data/collections/houston-ndvi.json', 'collectionId': 'houston-ndvi'}, {'filePath': '../ingestion-data/collections/eis_fire_perimeter.json', 'collectionId': 'eis_fire_perimeter'}, {'filePath': '../ingestion-data/collections/CMIP245-winter-median-ta.json', 'collectionId': 'CMIP245-winter-median-ta'}, {'filePath': '../ingestion-data/collections/campfire-albedo-wsa-diff.json', 'collectionId': 'campfire-albedo-wsa-diff'}, {'filePath': '../ingestion-data/collections/houston-lst-night.json', 'collectionId': 'houston-lst-night'}, {'filePath': '../ingestion-data/collections/co2-diff.json', 'collectionId': 'co2-diff'}, {'filePath': '../ingestion-data/collections/blue-tarp-detection.json', 'collectionId': 'blue-tarp-detection'}, {'filePath': '../ingestion-data/collections/lis-etsuppression.json', 'collectionId': 'lis-etsuppression'}, {'filePath': '../ingestion-data/collections/EPA-annual-emissions_1B1a_Coal_Mining_Surface.json', 'collectionId': 'EPA-annual-emissions_1B1a_Coal_Mining_Surface'}, {'filePath': '../ingestion-data/collections/caldor-fire-behavior.json', 'collectionId': 'caldor-fire-behavior'}, {'filePath': '../ingestion-data/collections/lis-tvegsuppression.json', 'collectionId': 'lis-tvegsuppression'}, {'filePath': '../ingestion-data/collections/modis-annual-lai-2003-2020.json', 'collectionId': 'modis-annual-lai-2003-2020'}, {'filePath': '../ingestion-data/collections/EPA-annual-emissions_1A_Combustion_Mobile.json', 'collectionId': 'EPA-annual-emissions_1A_Combustion_Mobile'}, {'filePath': '../ingestion-data/collections/hls-s30-002-ej-reprocessed.json', 'collectionId': 'hls-s30-002-ej-reprocessed'}, {'filePath': '../ingestion-data/collections/EPA-monthly-emissions_4B_Manure_Management.json', 'collectionId': 'EPA-monthly-emissions_4B_Manure_Management'}, {'filePath': '../ingestion-data/collections/lis-global-da-streamflow.json', 'collectionId': 'lis-global-da-streamflow'}, {'filePath': '../ingestion-data/collections/pzd-anomaly-covid-19.json', 'collectionId': 'pzd-anomaly-covid-19'}, {'filePath': '../ingestion-data/collections/houston-urbanization.json', 'collectionId': 'houston-urbanization'}, {'filePath': '../ingestion-data/collections/social-vulnerability-index-housing.json', 'collectionId': 'social-vulnerability-index-housing'}, {'filePath': '../ingestion-data/collections/modis-lst-day-diff-2015-2022.json', 'collectionId': 'modis-lst-day-diff-2015-2022'}, {'filePath': '../ingestion-data/collections/hls-ndvi.json', 'collectionId': 'hls-ndvi'}, {'filePath': '../ingestion-data/collections/modis_diff.json', 'collectionId': 'modis_diff'}, {'filePath': '../ingestion-data/collections/landsat-c2l2-sr-lakes-vanern.json', 'collectionId': 'landsat-c2l2-sr-lakes-vanern'}, {'filePath': '../ingestion-data/collections/lis-global-da-gws.json', 'collectionId': 'lis-global-da-gws'}, {'filePath': '../ingestion-data/collections/no2-monthly-diff.json', 'collectionId': 'no2-monthly-diff'}, {'filePath': '../ingestion-data/collections/CMIP245-winter-median-pr.json', 'collectionId': 'CMIP245-winter-median-pr'}, {'filePath': '../ingestion-data/collections/EPA-annual-emissions_1A_Combustion_Stationary.json', 'collectionId': 'EPA-annual-emissions_1A_Combustion_Stationary'}, {'filePath': '../ingestion-data/collections/social-vulnerability-index-socioeconomic-nopop.json', 'collectionId': 'social-vulnerability-index-socioeconomic-nopop'}, {'filePath': '../ingestion-data/collections/landsat-c2l2-sr-antarctic-glaciers-thwaites.json', 'collectionId': 'landsat-c2l2-sr-antarctic-glaciers-thwaites'}, {'filePath': '../ingestion-data/collections/bangladesh-landcover-2001-2020.json', 'collectionId': 'bangladesh-landcover-2001-2020'}, {'filePath': '../ingestion-data/collections/mtbs-burn-severity.json', 'collectionId': 'mtbs-burn-severity'}, {'filePath': '../ingestion-data/collections/EPA-annual-emissions_4C_Rice_Cultivation.json', 'collectionId': 'EPA-annual-emissions_4C_Rice_Cultivation'}, {'filePath': '../ingestion-data/collections/landsat-c2l2-sr-lakes-lake-biwa.json', 'collectionId': 'landsat-c2l2-sr-lakes-lake-biwa'}, {'filePath': '../ingestion-data/collections/EPA-monthly-emissions_1B2a_Petroleum.json', 'collectionId': 'EPA-monthly-emissions_1B2a_Petroleum'}, {'filePath': '../ingestion-data/collections/MO_NPP_npp_vgpm.json', 'collectionId': 'MO_NPP_npp_vgpm'}, {'filePath': '../ingestion-data/collections/fldas-soil-moisture-anomalies.json', 'collectionId': 'fldas-soil-moisture-anomalies'}, {'filePath': '../ingestion-data/collections/modis-ndvi-diff-2015-2022.json', 'collectionId': 'modis-ndvi-diff-2015-2022'}, {'filePath': '../ingestion-data/collections/EPA-annual-emissions_1B1a_Abandoned_Coal.json', 'collectionId': 'EPA-annual-emissions_1B1a_Abandoned_Coal'}, {'filePath': '../ingestion-data/collections/no2-monthly.json', 'collectionId': 'no2-monthly'}, {'filePath': '../ingestion-data/collections/oco2-geos-l3-daily.json', 'collectionId': 'oco2-geos-l3-daily'}, {'filePath': '../ingestion-data/collections/social-vulnerability-index-housing-nopop.json', 'collectionId': 'social-vulnerability-index-housing-nopop'}, {'filePath': '../ingestion-data/collections/lis-tws-trend.json', 'collectionId': 'lis-tws-trend'}, {'filePath': '../ingestion-data/collections/sport-lis-vsm0_100cm-percentile.json', 'collectionId': 'sport-lis-vsm0_100cm-percentile'}, {'filePath': '../ingestion-data/collections/EPA-monthly-emissions_4C_Rice_Cultivation.json', 'collectionId': 'EPA-monthly-emissions_4C_Rice_Cultivation'}, {'filePath': '../ingestion-data/collections/social-vulnerability-index-minority-nopop.json', 'collectionId': 'social-vulnerability-index-minority-nopop'}, {'filePath': '../ingestion-data/collections/social-vulnerability-index-household.json', 'collectionId': 'social-vulnerability-index-household'}, {'filePath': '../ingestion-data/collections/grdi-filled-missing-values-count.json', 'collectionId': 'grdi-filled-missing-values-count'}, {'filePath': '../ingestion-data/collections/hls-swir-falsecolor-composite.json', 'collectionId': 'hls-swir-falsecolor-composite'}, {'filePath': '../ingestion-data/collections/combined_CMIP6_daily_GISS-E2-1-G_tas_kerchunk_DEMO.json', 'collectionId': 'combined_CMIP6_daily_GISS-E2-1-G_tas_kerchunk_DEMO'}, {'filePath': '../ingestion-data/collections/grdi-v1-built.json', 'collectionId': 'grdi-v1-built'}, {'filePath': '../ingestion-data/collections/EPA-annual-emissions_4F_Field_Burning.json', 'collectionId': 'EPA-annual-emissions_4F_Field_Burning'}, {'filePath': '../ingestion-data/collections/campfire-lst-day-diff.json', 'collectionId': 'campfire-lst-day-diff'}, {'filePath': '../ingestion-data/collections/CMIP585-winter-median-pr.json', 'collectionId': 'CMIP585-winter-median-pr'}]\n",
      "[{'filePath': '../ingestion-data/collections/nightlights-500m-daily.json', 'collectionId': 'nightlights-500m-daily'}]\n"
     ]
    }
   ],
   "source": [
    "json_file_paths = glob.glob(\"../ingestion-data/collections/*.json\")\n",
    "\n",
    "original_file_paths_and_collection_ids = [\n",
    "    {\"filePath\": file_path, \"collectionId\": data[\"id\"]}\n",
    "    for file_path in json_file_paths\n",
    "    if \"id\" in (data := json.load(open(file_path, \"r\")))\n",
    "]\n",
    "\n",
    "print(original_file_paths_and_collection_ids)\n",
    "\n",
    "test_file_paths_and_collection_ids = [\n",
    "    {\n",
    "        \"filePath\": \"../ingestion-data/collections/nightlights-500m-daily.json\",\n",
    "        \"collectionId\": \"nightlights-500m-daily\",\n",
    "    }\n",
    "]\n",
    "print(test_file_paths_and_collection_ids)"
   ]
  },
  {
   "cell_type": "markdown",
   "metadata": {},
   "source": [
    "Set the testing mode, True when testing and False otherwise."
   ]
  },
  {
   "cell_type": "code",
   "execution_count": null,
   "metadata": {},
   "outputs": [],
   "source": [
    "testing_mode = True\n",
    "\n",
    "file_paths_and_collection_ids = (\n",
    "    test_file_paths_and_collection_ids\n",
    "    if testing_mode\n",
    "    else original_file_paths_and_collection_ids\n",
    ")"
   ]
  },
  {
   "cell_type": "markdown",
   "metadata": {},
   "source": [
    "Have your Cognito `username` and `password` ready to set up Cognito Client to retrieve a token that will be used to access the STAC Ingestor API."
   ]
  },
  {
   "cell_type": "code",
   "execution_count": 24,
   "metadata": {},
   "outputs": [],
   "source": [
    "dev_endpoint = \"https://dev.delta-backend.com/\"\n",
    "dev_client_id = \"CHANGE ME\"\n",
    "dev_user_pool_id = \"CHANGE ME\"\n",
    "dev_identity_pool_id = \"CHANGE ME\"\n",
    "\n",
    "staging_endpoint = \"https://staging-stac.delta-backend.com/\"\n",
    "staging_client_id = \"CHANGE ME\"\n",
    "staging_user_pool_id = \"CHANGE ME\"\n",
    "staging_identity_pool_id = \"CHANGE ME\"\n",
    "\n",
    "ingestor_staging_url = \"https://ig9v64uky8.execute-api.us-west-2.amazonaws.com/staging/\"\n",
    "ingestor_dev_url = \"https://dev.delta-backend.com/\"\n",
    "\n",
    "if testing_mode:\n",
    "    STAC_INGESTOR_API = ingestor_dev_url\n",
    "    VEDA_STAC_API = dev_endpoint\n",
    "else:\n",
    "    STAC_INGESTOR_API = ingestor_staging_url\n",
    "    VEDA_STAC_API = staging_endpoint\n",
    "\n",
    "client = CognitoClient(\n",
    "    client_id=dev_client_id if testing_mode else staging_client_id,\n",
    "    user_pool_id=dev_user_pool_id if testing_mode else staging_user_pool_id,\n",
    "    identity_pool_id=dev_identity_pool_id if testing_mode else staging_identity_pool_id,\n",
    ")\n",
    "_ = client.login()"
   ]
  },
  {
   "cell_type": "markdown",
   "metadata": {},
   "source": [
    "The following cell sets up headers for requests."
   ]
  },
  {
   "cell_type": "code",
   "execution_count": 25,
   "metadata": {},
   "outputs": [],
   "source": [
    "TOKEN = client.access_token\n",
    "authorization_header = f\"Bearer {TOKEN}\"\n",
    "headers = {\n",
    "    \"Authorization\": authorization_header,\n",
    "    \"content-type\": \"application/json\",\n",
    "    \"accept\": \"application/json\",\n",
    "}"
   ]
  },
  {
   "cell_type": "code",
   "execution_count": 26,
   "metadata": {},
   "outputs": [],
   "source": [
    "def post_reconciled_collection(collection, collection_id):\n",
    "    collection_url = f\"{STAC_INGESTOR_API}api/stac/collections/{collection_id}\"\n",
    "    ingest_url = f\"{STAC_INGESTOR_API}api/ingest/collections\"\n",
    "\n",
    "    try:\n",
    "        response = requests.post(ingest_url, json=collection, headers=headers)\n",
    "        response.raise_for_status()\n",
    "        if response.status_code == 201:\n",
    "            print(\n",
    "                f\"Request was successful. Find the updated collection at {collection_url}\"\n",
    "            )\n",
    "        else:\n",
    "            print(\n",
    "                f\"Updating {collection_id} failed. Request failed with status code: {response.status_code}\"\n",
    "            )\n",
    "    except requests.RequestException as e:\n",
    "        print(\n",
    "            f\"Updating {collection_id} failed. An error occurred during the request: {e}\"\n",
    "        )\n",
    "    except Exception as e:\n",
    "        print(\n",
    "            f\"An unexpected error occurred while trying to update {collection_id}: {e}\"\n",
    "        )\n",
    "\n",
    "\n",
    "def merge_summaries(existing_summaries, retrieved_summaries):\n",
    "    merged_summaries_dict = existing_summaries.copy()\n",
    "\n",
    "    if retrieved_summaries:\n",
    "        for key, value in retrieved_summaries.items():\n",
    "            merged_summaries_dict.setdefault(key, value)\n",
    "\n",
    "    return merged_summaries_dict\n",
    "\n",
    "\n",
    "def retain_external_links(existing_links, retrieved_links):\n",
    "    unique_hrefs = set(link.get(\"href\") for link in existing_links)\n",
    "    additional_external_links = [\n",
    "        link\n",
    "        for link in retrieved_links\n",
    "        if link.get(\"rel\") == \"external\" and link.get(\"href\") not in unique_hrefs\n",
    "    ]\n",
    "\n",
    "    retained_links = existing_links + additional_external_links\n",
    "    return retained_links"
   ]
  },
  {
   "cell_type": "markdown",
   "metadata": {},
   "source": [
    "Get `summaries` information for each existing collection and merge back to the collection file"
   ]
  },
  {
   "cell_type": "code",
   "execution_count": null,
   "metadata": {},
   "outputs": [],
   "source": [
    "for item in file_paths_and_collection_ids:\n",
    "    collection_id = item[\"collectionId\"]\n",
    "    file_path = item[\"filePath\"]\n",
    "\n",
    "    if VEDA_STAC_API == dev_endpoint:\n",
    "        url = f\"{VEDA_STAC_API}api/stac/collections/{collection_id}\"\n",
    "    elif VEDA_STAC_API == staging_endpoint:\n",
    "        url = f\"{VEDA_STAC_API}collections/{collection_id}\"\n",
    "\n",
    "    try:\n",
    "        response = requests.get(url, headers=headers)\n",
    "        response.raise_for_status()\n",
    "        json_response = response.json()\n",
    "\n",
    "        retrieved_summaries = json_response.get(\"summaries\", {})\n",
    "        retrieved_links = json_response.get(\"links\", {})\n",
    "\n",
    "        with open(file_path, \"r\", encoding=\"utf-8\") as file:\n",
    "            collection = json.load(file)\n",
    "\n",
    "            existing_summaries = collection.get(\"summaries\", {})\n",
    "            existing_links = collection.get(\"links\", {})\n",
    "\n",
    "            collection[\"summaries\"] = merge_summaries(\n",
    "                existing_summaries, retrieved_summaries\n",
    "            )\n",
    "            collection[\"links\"] = retain_external_links(existing_links, retrieved_links)\n",
    "\n",
    "        # Publish the updated collection to the target ingestion `api/collections` endpoint\n",
    "        # post_reconciled_collection(collection, collection_id)\n",
    "\n",
    "    except requests.RequestException as e:\n",
    "        print(f\"An error occurred for collectionId {collection_id}: {e}\")\n",
    "    except Exception as e:\n",
    "        print(f\"An unexpected error occurred for collectionId {collection_id}: {e}\")"
   ]
  },
  {
   "cell_type": "code",
   "execution_count": null,
   "metadata": {},
   "outputs": [],
   "source": []
  }
 ],
 "metadata": {
  "kernelspec": {
   "display_name": "Python 3",
   "language": "python",
   "name": "python3"
  },
  "language_info": {
   "codemirror_mode": {
    "name": "ipython",
    "version": 3
   },
   "file_extension": ".py",
   "mimetype": "text/x-python",
   "name": "python",
   "nbconvert_exporter": "python",
   "pygments_lexer": "ipython3",
   "version": "3.11.7"
  }
 },
 "nbformat": 4,
 "nbformat_minor": 2
}
