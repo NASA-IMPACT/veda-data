{
 "cells": [
  {
   "cell_type": "markdown",
   "id": "dd5607aa-2e4e-4f14-a56b-40ec6cdb9c50",
   "metadata": {
    "tags": []
   },
   "source": [
    "---\n",
    "title: Create STAC metadata for a CMR collection, using GPM IMERG\n",
    "description: Tutorial for creating STAC metadata for a collection in CMR\n",
    "author: Aimee Barciauskas\n",
    "date: June 9, 2025\n",
    "execute:\n",
    "  freeze: true\n",
    "  cache: true\n",
    "---"
   ]
  },
  {
   "cell_type": "markdown",
   "id": "4b260955",
   "metadata": {},
   "source": [
    "## Run this notebook\n",
    "\n",
    "This notebook was written on a VEDA JupyterHub instance.\n",
    "\n",
    "See [VEDA Interactive Compute and Processing Environment docs](https://docs.openveda.cloud/user-guide/scientific-computing/getting-access.html) for information about how to gain access."
   ]
  },
  {
   "cell_type": "markdown",
   "id": "279606ac-6886-4cf0-8248-e26a84694a72",
   "metadata": {},
   "source": [
    "## Approach\n",
    "\n",
    "This notebook creates STAC collection metadata for the [GPM IMERG Final Precipitation L3 1 day 0.1 degree x 0.1 degree V07 (GPM_3IMERGDF) at GES DISC](https://search.earthdata.nasa.gov/search/granules?p=C2723754864-GES_DISC) dataset. "
   ]
  },
  {
   "cell_type": "markdown",
   "id": "eca29984-ac2b-4f41-8ae2-d8d57c8968ef",
   "metadata": {},
   "source": [
    "## Step 1: Install and import necessary libraries"
   ]
  },
  {
   "cell_type": "code",
   "execution_count": 1,
   "id": "ce71f2c2-0b47-4be5-9bad-d51a0ce56015",
   "metadata": {
    "tags": []
   },
   "outputs": [],
   "source": [
    "%%capture\n",
    "!pip install xstac"
   ]
  },
  {
   "cell_type": "code",
   "execution_count": 2,
   "id": "67e37cc9-6022-46c2-aa20-4bb87dd502f9",
   "metadata": {
    "tags": []
   },
   "outputs": [],
   "source": [
    "import earthaccess\n",
    "import json\n",
    "from datetime import datetime\n",
    "import pandas as pd\n",
    "import pystac\n",
    "import requests\n",
    "import s3fs\n",
    "import xstac\n",
    "import xarray as xr"
   ]
  },
  {
   "cell_type": "markdown",
   "id": "e256d2e4-6ff0-461d-a847-794aae86e444",
   "metadata": {},
   "source": [
    "## Step 2: Get Collection metadata from CMR"
   ]
  },
  {
   "cell_type": "code",
   "execution_count": 3,
   "id": "0d11fbe9-f562-481c-8648-f43b17896665",
   "metadata": {
    "tags": []
   },
   "outputs": [
    {
     "name": "stdin",
     "output_type": "stream",
     "text": [
      "Enter your Earthdata Login username:  aimeeb\n",
      "Enter your Earthdata password:  ········\n"
     ]
    },
    {
     "data": {
      "text/plain": [
       "<earthaccess.auth.Auth at 0x7fe42566dbb0>"
      ]
     },
     "execution_count": 3,
     "metadata": {},
     "output_type": "execute_result"
    }
   ],
   "source": [
    "earthaccess.login()"
   ]
  },
  {
   "cell_type": "code",
   "execution_count": 4,
   "id": "e3e24555-e74f-491a-a159-d3b26174a24c",
   "metadata": {
    "tags": []
   },
   "outputs": [],
   "source": [
    "collection_identifier = \"GPM_3IMERGDF.07\"\n",
    "collection_config = {\n",
    "    \"short_name\": \"GPM_3IMERGDF\",\n",
    "    \"version\": \"07\",\n",
    "    \"temporal_step\": \"P1D\",\n",
    "    \"variables\": {\n",
    "        \"precipitation\": {\"rescale\": [[0, 48]], \"colormap\": \"cfastie\"},\n",
    "        \"MWprecipitation\": {\"rescale\": [[0, 50]], \"colormap\": \"cfastie\"},\n",
    "        \"randomError\": {\"rescale\": [[0, 17469]], \"colormap\": \"reds\"},\n",
    "    },\n",
    "    \"reference_system\": \"4326\",\n",
    "}\n",
    "short_name, version, temporal_step, variables, reference_system = (\n",
    "    collection_config.values()\n",
    ")\n",
    "collection_query = earthaccess.collection_query()\n",
    "r = collection_query.short_name(short_name).version(version)\n",
    "cmr_collection = r.get(1)[0]"
   ]
  },
  {
   "cell_type": "markdown",
   "id": "2c65d201-50b4-477f-8a7f-4cf85bf66ceb",
   "metadata": {},
   "source": [
    "Pick out one granule to open for data cube dimensions and variables"
   ]
  },
  {
   "cell_type": "code",
   "execution_count": 5,
   "id": "fa6ab048-e747-46dc-8c55-b9d3aaa06a58",
   "metadata": {
    "tags": []
   },
   "outputs": [],
   "source": [
    "first_result = earthaccess.search_data(\n",
    "    short_name=short_name, version=version, cloud_hosted=True, count=1\n",
    ")"
   ]
  },
  {
   "cell_type": "code",
   "execution_count": 6,
   "id": "899f6e9b-ea60-4e39-9dd8-1b46fcbe48d2",
   "metadata": {
    "tags": []
   },
   "outputs": [
    {
     "data": {
      "text/plain": [
       "[Collection: {'ShortName': 'GPM_3IMERGDF', 'Version': '07'}\n",
       " Spatial coverage: {'HorizontalSpatialDomain': {'Geometry': {'BoundingRectangles': [{'WestBoundingCoordinate': -180.0, 'EastBoundingCoordinate': 180.0, 'NorthBoundingCoordinate': 90.0, 'SouthBoundingCoordinate': -90.0}]}}}\n",
       " Temporal coverage: {'RangeDateTime': {'BeginningDateTime': '1998-01-01T00:00:00.000Z', 'EndingDateTime': '1998-01-01T23:59:59.999Z'}}\n",
       " Size(MB): 26.3265686035156\n",
       " Data: ['https://data.gesdisc.earthdata.nasa.gov/data/GPM_L3/GPM_3IMERGDF.07/1998/01/3B-DAY.MS.MRG.3IMERG.19980101-S000000-E235959.V07B.nc4']]"
      ]
     },
     "execution_count": 6,
     "metadata": {},
     "output_type": "execute_result"
    }
   ],
   "source": [
    "first_result"
   ]
  },
  {
   "cell_type": "code",
   "execution_count": 7,
   "id": "06221618-a2a7-4e8e-bfe0-e836e6ad1323",
   "metadata": {
    "tags": []
   },
   "outputs": [
    {
     "data": {
      "text/plain": [
       "'s3://gesdisc-cumulus-prod-protected/GPM_L3/GPM_3IMERGDF.07/1998/01/3B-DAY.MS.MRG.3IMERG.19980101-S000000-E235959.V07B.nc4'"
      ]
     },
     "execution_count": 7,
     "metadata": {},
     "output_type": "execute_result"
    }
   ],
   "source": [
    "s3_link = first_result[0].data_links(access=\"direct\")[0]\n",
    "s3_link"
   ]
  },
  {
   "cell_type": "code",
   "execution_count": 8,
   "id": "9405cbcc-e001-4c75-93be-0b004ad51678",
   "metadata": {
    "tags": []
   },
   "outputs": [
    {
     "name": "stdout",
     "output_type": "stream",
     "text": [
      "CPU times: user 2.47 s, sys: 312 ms, total: 2.78 s\n",
      "Wall time: 3.61 s\n"
     ]
    }
   ],
   "source": [
    "%%time\n",
    "fs = s3fs.S3FileSystem(anon=False)\n",
    "ds_s3 = xr.open_dataset(fs.open(s3_link), engine=\"h5netcdf\", chunks={})"
   ]
  },
  {
   "cell_type": "markdown",
   "id": "4449a055-779e-4024-a871-ddf107cb27d2",
   "metadata": {
    "tags": []
   },
   "source": [
    "## Step 3: Generate STAC metadata\n",
    "\n",
    "The spatial and temporal extents are extracted from the CMR collection metadata."
   ]
  },
  {
   "cell_type": "code",
   "execution_count": 9,
   "id": "47cba6c5-2d6c-4829-8b49-ada67e6b5522",
   "metadata": {
    "tags": []
   },
   "outputs": [],
   "source": [
    "spatial_extent = cmr_collection[\"umm\"][\"SpatialExtent\"]\n",
    "bounding_rectangle = spatial_extent[\"HorizontalSpatialDomain\"][\"Geometry\"][\n",
    "    \"BoundingRectangles\"\n",
    "][0]\n",
    "extent_list = [\n",
    "    bounding_rectangle[\"WestBoundingCoordinate\"],\n",
    "    bounding_rectangle[\"SouthBoundingCoordinate\"],\n",
    "    bounding_rectangle[\"EastBoundingCoordinate\"],\n",
    "    bounding_rectangle[\"NorthBoundingCoordinate\"],\n",
    "]\n",
    "spatial_extent = list(map(int, extent_list))\n",
    "\n",
    "temporal_extent = cmr_collection[\"umm\"][\"TemporalExtents\"][0][\"RangeDateTimes\"][0]\n",
    "start = temporal_extent[\"BeginningDateTime\"]\n",
    "end = temporal_extent.get(\"EndingDateTime\", None)\n",
    "\n",
    "extent = pystac.Extent(\n",
    "    spatial=pystac.SpatialExtent(bboxes=[spatial_extent]),\n",
    "    temporal=pystac.TemporalExtent([[pd.to_datetime(start), pd.to_datetime(end)]]),\n",
    ")"
   ]
  },
  {
   "cell_type": "markdown",
   "id": "3351996d-f124-410d-a6a2-55abcdb2aecb",
   "metadata": {},
   "source": [
    "Add the provider information from CMR."
   ]
  },
  {
   "cell_type": "code",
   "execution_count": 10,
   "id": "e7dad951-557c-4121-b4fa-4c51ab4723a4",
   "metadata": {
    "tags": []
   },
   "outputs": [],
   "source": [
    "cmr_roles_to_pystac_roles = {\n",
    "    \"PROCESSOR\": pystac.ProviderRole.PROCESSOR,\n",
    "    \"DISTRIBUTOR\": pystac.ProviderRole.HOST,\n",
    "}\n",
    "\n",
    "\n",
    "def create_providers_from_data_centers(data_centers):\n",
    "    providers = []\n",
    "\n",
    "    for center in data_centers:\n",
    "        # Extracting necessary information from each data center\n",
    "        short_name = center.get(\"ShortName\", \"\")\n",
    "        long_name = center.get(\"LongName\", \"\")\n",
    "        roles = []\n",
    "        for role in center.get(\"Roles\", []):\n",
    "            if role in cmr_roles_to_pystac_roles:\n",
    "                roles.append(cmr_roles_to_pystac_roles[role])\n",
    "        url = next(\n",
    "            (\n",
    "                url_info[\"URL\"]\n",
    "                for url_info in center.get(\"ContactInformation\", {}).get(\n",
    "                    \"RelatedUrls\", []\n",
    "                )\n",
    "                if url_info.get(\"URLContentType\") == \"DataCenterURL\"\n",
    "            ),\n",
    "            None,\n",
    "        )\n",
    "\n",
    "        # Creating a PySTAC Provider object\n",
    "        provider = pystac.Provider(\n",
    "            name=short_name, description=long_name, roles=roles, url=url\n",
    "        )\n",
    "        providers.append(provider)\n",
    "\n",
    "    return providers\n",
    "\n",
    "\n",
    "data_centers = cmr_collection[\"umm\"][\"DataCenters\"]\n",
    "providers = create_providers_from_data_centers(data_centers)"
   ]
  },
  {
   "cell_type": "markdown",
   "id": "3c2bb7f1-4eb3-4d6d-9fd2-f3800c2cf57e",
   "metadata": {},
   "source": [
    "Put it all together to intialize a `pystac.Collection` instance."
   ]
  },
  {
   "cell_type": "code",
   "execution_count": 11,
   "id": "7a36bb5c-1425-4818-8d05-4c29bcd35590",
   "metadata": {},
   "outputs": [],
   "source": [
    "_id = short_name.replace(\".\", \"_\")\n",
    "description = cmr_collection[\"umm\"][\"Abstract\"]\n",
    "concept_id = cmr_collection[\"meta\"][\"concept-id\"]\n",
    "pystac_collection = pystac.Collection(\n",
    "    id=_id,\n",
    "    extent=extent,\n",
    "    description=cmr_collection[\"umm\"][\"Abstract\"],\n",
    "    providers=providers,\n",
    "    stac_extensions=[\"https://stac-extensions.github.io/datacube/v2.0.0/schema.json\"],\n",
    "    license=\"CC0-1.0\",\n",
    "    extra_fields={\"collection_concept_id\": concept_id},\n",
    ")"
   ]
  },
  {
   "cell_type": "markdown",
   "id": "3f31a852-c727-4a46-97c8-44de1e965345",
   "metadata": {},
   "source": [
    "That collection instance is used by `xstac` to generate additional metadata, specifically for the [`datacube extension`](https://github.com/stac-extensions/datacube) information."
   ]
  },
  {
   "cell_type": "code",
   "execution_count": 12,
   "id": "d66cd1e6-9c29-429d-b569-be5f6c69d6b4",
   "metadata": {
    "tags": []
   },
   "outputs": [
    {
     "data": {
      "text/plain": [
       "['https://schemas.stacspec.org/v1.0.0/collection-spec/json-schema/collection.json',\n",
       " 'https://stac-extensions.github.io/datacube/v2.2.0/schema.json']"
      ]
     },
     "execution_count": 12,
     "metadata": {},
     "output_type": "execute_result"
    }
   ],
   "source": [
    "collection_template = pystac_collection.to_dict()\n",
    "\n",
    "# see https://github.com/stac-utils/xstac/issues/30\n",
    "for k, v in ds_s3.variables.items():\n",
    "    attrs = {\n",
    "        name: xr.backends.zarr.encode_zarr_attr_value(value)\n",
    "        for name, value in v.attrs.items()\n",
    "    }\n",
    "    ds_s3[k].attrs = attrs\n",
    "\n",
    "collection = xstac.xarray_to_stac(\n",
    "    ds_s3,\n",
    "    collection_template,\n",
    "    temporal_dimension=\"time\",\n",
    "    temporal_step=temporal_step,\n",
    "    x_dimension=\"lon\",\n",
    "    y_dimension=\"lat\",\n",
    "    reference_system=reference_system,\n",
    "    validate=False,\n",
    ")\n",
    "\n",
    "collection.validate()"
   ]
  },
  {
   "cell_type": "markdown",
   "id": "80ce29f9-c3f4-432c-9cd2-d659ca0e63e4",
   "metadata": {},
   "source": [
    "Set the second value for the time extent to `None` since the dataset is ongoing. Otherwise the extent is just the extent of the first file in the collection."
   ]
  },
  {
   "cell_type": "code",
   "execution_count": 13,
   "id": "84c1d969-4c8c-4b33-a4da-5144fc73115c",
   "metadata": {
    "tags": []
   },
   "outputs": [],
   "source": [
    "collection.to_dict()[\"cube:dimensions\"][\"time\"][\"extent\"][1] = None"
   ]
  },
  {
   "cell_type": "code",
   "execution_count": 14,
   "id": "ae799bbb-06f8-499b-be53-c9ab86762ca7",
   "metadata": {
    "tags": []
   },
   "outputs": [],
   "source": [
    "cube_variables = collection.to_dict()[\"cube:variables\"]\n",
    "for variable in cube_variables.keys():\n",
    "    cube_variables[variable][\"shape\"][0] = None"
   ]
  },
  {
   "cell_type": "markdown",
   "id": "a2f407c4-0356-45f5-aac0-c97e62e49e77",
   "metadata": {},
   "source": [
    "Add [renders](https://github.com/stac-extensions/render) extension."
   ]
  },
  {
   "cell_type": "code",
   "execution_count": 15,
   "id": "f7f0bc3c-1c23-4b3f-8f70-5b8bc40d3115",
   "metadata": {
    "tags": []
   },
   "outputs": [],
   "source": [
    "collection.extra_fields[\"renders\"] = {}\n",
    "for vname, vvalue in variables.items():\n",
    "    collection.extra_fields[\"renders\"][vname] = {\n",
    "        \"title\": f\"Renders configuration for {vname}\",\n",
    "        \"resampling\": \"average\",\n",
    "        \"colormap_name\": vvalue[\"colormap\"],\n",
    "        \"rescale\": vvalue[\"rescale\"],\n",
    "        \"backend\": \"xarray\",\n",
    "    }\n",
    "    collection.to_dict()[\"cube:variables\"][vname][\"renders\"] = vname"
   ]
  },
  {
   "cell_type": "markdown",
   "id": "8fe0698b-9082-4516-b6d2-eec58fcab7ea",
   "metadata": {},
   "source": [
    "Add dashboard fields."
   ]
  },
  {
   "cell_type": "code",
   "execution_count": 16,
   "id": "dd78b26c-1bd5-44f3-9b64-856b9de3a775",
   "metadata": {},
   "outputs": [],
   "source": [
    "collection.extra_fields[\"dashboard:is_periodic\"] = True\n",
    "collection.extra_fields[\"dashboard:time_density\"] = \"day\""
   ]
  },
  {
   "cell_type": "markdown",
   "id": "e8156274-d9c5-47c9-a869-e55f214d8a06",
   "metadata": {},
   "source": [
    "## Step 4: Write to json"
   ]
  },
  {
   "cell_type": "code",
   "execution_count": 18,
   "id": "42d3023b-b551-43c1-9984-22553eb41fb1",
   "metadata": {},
   "outputs": [],
   "source": [
    "with open(f\"../ingestion-data/staging/collections/{collection.id}.json\", \"w+\") as f:\n",
    "    f.write(json.dumps(collection.to_dict(), indent=2))"
   ]
  }
 ],
 "metadata": {
  "kernelspec": {
   "display_name": "Python 3 (ipykernel)",
   "language": "python",
   "name": "python3"
  },
  "language_info": {
   "codemirror_mode": {
    "name": "ipython",
    "version": 3
   },
   "file_extension": ".py",
   "mimetype": "text/x-python",
   "name": "python",
   "nbconvert_exporter": "python",
   "pygments_lexer": "ipython3",
   "version": "3.12.7"
  }
 },
 "nbformat": 4,
 "nbformat_minor": 5
}
