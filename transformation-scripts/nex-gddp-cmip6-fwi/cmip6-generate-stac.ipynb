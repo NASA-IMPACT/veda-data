{
 "cells": [
  {
   "cell_type": "markdown",
   "id": "dac594b1-5237-42a1-bfdd-f878f573af2c",
   "metadata": {},
   "source": [
    "## STAC plan for FWI Metrics\n",
    "1 yearly collections will be \n",
    "- `fwi-metrics-mme50-yearly-245`\n",
    "  - Multi-asset items (an asset for each metric) will have STAC Item Ids like: `mme50-ssp245-fwi-metrics-yearly-1950`,... `mme50-ssp245-fwi-metrics-yearly-2100`\n",
    "\n",
    "\n",
    "Each scenario's STAC Collection will be padded with 65 years of historical records to make seamless time series from 1950-2100 possible. The STAC Items in these collections will each have 13 assets--one for each of the 13 FWI metrics. "
   ]
  },
  {
   "cell_type": "code",
   "execution_count": 1,
   "id": "0f8e7c3a-1ec3-4e82-8c9c-790be48da090",
   "metadata": {},
   "outputs": [],
   "source": [
    "!pip install -U pystac nbss-upload --quiet"
   ]
  },
  {
   "cell_type": "code",
   "execution_count": 2,
   "id": "e16eb677-1ac6-4860-9230-d2a403f0d8a2",
   "metadata": {},
   "outputs": [],
   "source": [
    "from datetime import datetime, timezone\n",
    "import pystac"
   ]
  },
  {
   "cell_type": "markdown",
   "id": "ff855143-dfef-4318-aeb2-e2108bceef90",
   "metadata": {
    "tags": []
   },
   "source": [
    "## Create `pystac.Collection`\n",
    "\n",
    "In this section we will be creating a `pystac.Collection` object. This is the part of that notebook that you should update.\n",
    "\n",
    "### Declare constants\n",
    "\n",
    "Start by declaring some string and boolean fields."
   ]
  },
  {
   "cell_type": "code",
   "execution_count": 3,
   "id": "dcf5702f-ed7c-4844-9fcd-a2e693f5ec05",
   "metadata": {
    "tags": []
   },
   "outputs": [],
   "source": [
    "COLLECTION_ID = \"fwi-metrics-mme50-yearly-245\"\n",
    "TITLE = \"Fire Weather Index Yearly SSP245\"\n",
    "DESCRIPTION = (\n",
    "    \"FWI is a general index of fire danger and the data are monthly and annual \"\n",
    "    \"multi-model ensemble’s of the 50th percentile of mean Fire Weather Index from the 33 GCMs\"\n",
    ")\n",
    "DASHBOARD__IS_PERIODIC = True\n",
    "DASHBOARD__TIME_DENSITY = \"year\"\n",
    "LICENSE = \"CC0-1.0\""
   ]
  },
  {
   "cell_type": "markdown",
   "id": "56c0d7e1-80c3-4f84-a8a0-b6a20e0ee80e",
   "metadata": {
    "tags": []
   },
   "source": [
    "### Extents\n",
    "\n",
    "The extents indicate the start (and potentially end) times of the data as well as the footprint of the data."
   ]
  },
  {
   "cell_type": "code",
   "execution_count": 4,
   "id": "99d23b77-e337-4fb6-8a41-da51b96e139c",
   "metadata": {
    "tags": []
   },
   "outputs": [],
   "source": [
    "# Time must be in UTC\n",
    "dt_begin = pystac.utils.str_to_datetime(\"1950-01-01T00:00:00Z\")\n",
    "dt_end = pystac.utils.str_to_datetime(\"2101-01-01T00:00:00Z\")\n",
    "\n",
    "extent = pystac.Extent(\n",
    "    pystac.SpatialExtent([[-180.0, -90.0, 180.0, 90.0]]),\n",
    "    pystac.TemporalExtent([[dt_begin, dt_end]]),\n",
    ")"
   ]
  },
  {
   "cell_type": "markdown",
   "id": "9c0b2c12-a44e-4fea-97de-c068e621d22c",
   "metadata": {},
   "source": [
    "### Providers\n",
    "\n",
    "We know that the data host, processor, and producter is \"VEDA\", but you can include other providers that fill other roles in the data creation pipeline."
   ]
  },
  {
   "cell_type": "code",
   "execution_count": 5,
   "id": "6956b82f-75a4-46c8-9006-85eed5123ebe",
   "metadata": {
    "tags": []
   },
   "outputs": [],
   "source": [
    "providers = [\n",
    "    pystac.Provider(\n",
    "        name=\"VEDA\",\n",
    "        roles=[pystac.ProviderRole.PROCESSOR, pystac.ProviderRole.HOST],\n",
    "        url=\"https://github.com/nasa-impact/veda-data-pipelines\",\n",
    "    )\n",
    "]"
   ]
  },
  {
   "cell_type": "markdown",
   "id": "9c96a6d7-c471-42de-882a-5606e5946f99",
   "metadata": {},
   "source": [
    "## Item Assets"
   ]
  },
  {
   "cell_type": "code",
   "execution_count": 6,
   "id": "ff6ec796-6590-41be-a2de-23965b4674f9",
   "metadata": {},
   "outputs": [],
   "source": [
    "METRICS = [\n",
    "    \"FFMC\",\n",
    "    \"FWI_P25\",\n",
    "    \"FWI_P50\",\n",
    "    \"FWI_P75\",\n",
    "    \"FWI_P95\",\n",
    "    \"DMC\",\n",
    "    \"DC\",\n",
    "    \"ISI\",\n",
    "    \"BUI\",\n",
    "    \"FWI\",\n",
    "    \"FWI_N15\",\n",
    "    \"FWI_N30\",\n",
    "    \"FWI_N45\",\n",
    "]\n",
    "\n",
    "asset_properties = {\n",
    "    \"type\": \"image/tiff; application=geotiff; profile=cloud-optimized\",\n",
    "    \"roles\": [\"data\", \"layer\"],\n",
    "}\n",
    "item_assets = {}\n",
    "for metric in METRICS:\n",
    "    asset = asset_properties\n",
    "    asset[\"title\"] = metric\n",
    "    item_assets[metric] = asset"
   ]
  },
  {
   "cell_type": "markdown",
   "id": "6f0b36ad-f5a0-4201-a64e-20dd63d6f565",
   "metadata": {},
   "source": [
    "### Put it together\n",
    "\n",
    "Now take your constants and the extents and providers and create a `pystac.Collection`"
   ]
  },
  {
   "cell_type": "code",
   "execution_count": 7,
   "id": "f762b2c8-997a-40b0-8e30-526155048946",
   "metadata": {
    "tags": []
   },
   "outputs": [],
   "source": [
    "collection = pystac.Collection(\n",
    "    id=COLLECTION_ID,\n",
    "    title=TITLE,\n",
    "    description=DESCRIPTION,\n",
    "    extra_fields={\n",
    "        \"dashboard:is_periodic\": DASHBOARD__IS_PERIODIC,\n",
    "        \"dashboard:time_density\": DASHBOARD__TIME_DENSITY,\n",
    "        \"item_assets\": item_assets,\n",
    "        \"sci:doi\": \"https://www.nccs.nasa.gov/services/data-collections/land-based-products/nex-gddp-cmip6\",\n",
    "    },\n",
    "    license=LICENSE,\n",
    "    extent=extent,\n",
    "    providers=providers,\n",
    ")"
   ]
  },
  {
   "cell_type": "markdown",
   "id": "daf17ade-d2f4-42d4-ba6a-916fcc41a435",
   "metadata": {},
   "source": [
    "### Try it out!\n",
    "\n",
    "Now that you have a collection you can try it out and make sure that it looks how you expect and that it passes validation checks."
   ]
  },
  {
   "cell_type": "code",
   "execution_count": 8,
   "id": "5d53bbe2-cbfd-4993-b98f-17d8a63e0e13",
   "metadata": {
    "tags": []
   },
   "outputs": [
    {
     "data": {
      "text/plain": [
       "['https://schemas.stacspec.org/v1.0.0/collection-spec/json-schema/collection.json']"
      ]
     },
     "execution_count": 8,
     "metadata": {},
     "output_type": "execute_result"
    }
   ],
   "source": [
    "collection.validate()"
   ]
  },
  {
   "cell_type": "code",
   "execution_count": 9,
   "id": "880af165-0b1a-4f20-835e-f8eed28f100a",
   "metadata": {
    "tags": []
   },
   "outputs": [
    {
     "data": {
      "text/plain": [
       "{'type': 'Collection',\n",
       " 'id': 'fwi-metrics-mme50-yearly-245',\n",
       " 'stac_version': '1.0.0',\n",
       " 'description': 'FWI is a general index of fire danger and the data are monthly and annual multi-model ensemble’s of the 50th percentile of mean Fire Weather Index from the 33 GCMs',\n",
       " 'links': [],\n",
       " 'dashboard:is_periodic': True,\n",
       " 'dashboard:time_density': 'year',\n",
       " 'item_assets': {'FFMC': {'type': 'image/tiff; application=geotiff; profile=cloud-optimized',\n",
       "   'roles': ['data', 'layer'],\n",
       "   'title': 'FWI_N45'},\n",
       "  'FWI_P25': {'type': 'image/tiff; application=geotiff; profile=cloud-optimized',\n",
       "   'roles': ['data', 'layer'],\n",
       "   'title': 'FWI_N45'},\n",
       "  'FWI_P50': {'type': 'image/tiff; application=geotiff; profile=cloud-optimized',\n",
       "   'roles': ['data', 'layer'],\n",
       "   'title': 'FWI_N45'},\n",
       "  'FWI_P75': {'type': 'image/tiff; application=geotiff; profile=cloud-optimized',\n",
       "   'roles': ['data', 'layer'],\n",
       "   'title': 'FWI_N45'},\n",
       "  'FWI_P95': {'type': 'image/tiff; application=geotiff; profile=cloud-optimized',\n",
       "   'roles': ['data', 'layer'],\n",
       "   'title': 'FWI_N45'},\n",
       "  'DMC': {'type': 'image/tiff; application=geotiff; profile=cloud-optimized',\n",
       "   'roles': ['data', 'layer'],\n",
       "   'title': 'FWI_N45'},\n",
       "  'DC': {'type': 'image/tiff; application=geotiff; profile=cloud-optimized',\n",
       "   'roles': ['data', 'layer'],\n",
       "   'title': 'FWI_N45'},\n",
       "  'ISI': {'type': 'image/tiff; application=geotiff; profile=cloud-optimized',\n",
       "   'roles': ['data', 'layer'],\n",
       "   'title': 'FWI_N45'},\n",
       "  'BUI': {'type': 'image/tiff; application=geotiff; profile=cloud-optimized',\n",
       "   'roles': ['data', 'layer'],\n",
       "   'title': 'FWI_N45'},\n",
       "  'FWI': {'type': 'image/tiff; application=geotiff; profile=cloud-optimized',\n",
       "   'roles': ['data', 'layer'],\n",
       "   'title': 'FWI_N45'},\n",
       "  'FWI_N15': {'type': 'image/tiff; application=geotiff; profile=cloud-optimized',\n",
       "   'roles': ['data', 'layer'],\n",
       "   'title': 'FWI_N45'},\n",
       "  'FWI_N30': {'type': 'image/tiff; application=geotiff; profile=cloud-optimized',\n",
       "   'roles': ['data', 'layer'],\n",
       "   'title': 'FWI_N45'},\n",
       "  'FWI_N45': {'type': 'image/tiff; application=geotiff; profile=cloud-optimized',\n",
       "   'roles': ['data', 'layer'],\n",
       "   'title': 'FWI_N45'}},\n",
       " 'sci:doi': 'https://www.nccs.nasa.gov/services/data-collections/land-based-products/nex-gddp-cmip6',\n",
       " 'title': 'Fire Weather Index Yearly SSP245',\n",
       " 'extent': {'spatial': {'bbox': [[-180.0, -90.0, 180.0, 90.0]]},\n",
       "  'temporal': {'interval': [['1950-01-01T00:00:00Z',\n",
       "     '2101-01-01T00:00:00Z']]}},\n",
       " 'license': 'CC0-1.0',\n",
       " 'providers': [{'name': 'VEDA',\n",
       "   'roles': [<ProviderRole.PROCESSOR: 'processor'>,\n",
       "    <ProviderRole.HOST: 'host'>],\n",
       "   'url': 'https://github.com/nasa-impact/veda-data-pipelines'}]}"
      ]
     },
     "execution_count": 9,
     "metadata": {},
     "output_type": "execute_result"
    }
   ],
   "source": [
    "collection.to_dict()"
   ]
  },
  {
   "cell_type": "markdown",
   "id": "00eea9f2-fbcf-418a-b9d1-9ba8c08a939b",
   "metadata": {},
   "source": [
    "## Upload this notebook\n",
    "\n",
    "You can upload the notebook to anyplace you like, but one of the easiest ones is [notebook sharing space](https://notebooksharing.space/). Just change the following cell from \"Raw\" to \"Code\", run it and copy the output link."
   ]
  },
  {
   "cell_type": "markdown",
   "id": "46966a1c-0c23-4eb4-9ff5-0d9a1e6d00f8",
   "metadata": {},
   "source": [
    "<div class=\"alert-warning\">\n",
    "    \n",
    "Before uploading make sure:\n",
    "1) you have not hard-coded any secrets or access keys.\n",
    "2) you have saved this notebook. Hint (ctrl+s) will do it\n",
    "    \n",
    "</div>"
   ]
  },
  {
   "cell_type": "raw",
   "id": "ac66583e-8c68-47ab-95e2-8b570dba1f6b",
   "metadata": {},
   "source": [
    "!nbss-upload new-collection.ipynb"
   ]
  }
 ],
 "metadata": {
  "kernelspec": {
   "display_name": "Python 3 (ipykernel)",
   "language": "python",
   "name": "python3"
  },
  "language_info": {
   "codemirror_mode": {
    "name": "ipython",
    "version": 3
   },
   "file_extension": ".py",
   "mimetype": "text/x-python",
   "name": "python",
   "nbconvert_exporter": "python",
   "pygments_lexer": "ipython3",
   "version": "3.10.8"
  }
 },
 "nbformat": 4,
 "nbformat_minor": 5
}
