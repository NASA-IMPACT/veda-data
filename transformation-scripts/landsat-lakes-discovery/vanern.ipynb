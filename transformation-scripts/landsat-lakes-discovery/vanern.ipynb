{
 "cells": [
  {
   "cell_type": "markdown",
   "id": "43ed7626-f53e-4626-8959-2489cf147eb7",
   "metadata": {},
   "source": [
    "## Find scenes for selected path/row"
   ]
  },
  {
   "cell_type": "code",
   "execution_count": 1,
   "id": "54a98614-fb80-4831-a6b5-3f7399050ca4",
   "metadata": {},
   "outputs": [],
   "source": [
    "from pystac_client import Client\n",
    "\n",
    "# Search against the Planetary Computer STAC API\n",
    "catalog = Client.open(\n",
    "  \"https://planetarycomputer.microsoft.com/api/stac/v1\"\n",
    ")\n",
    "\n",
    "# Define your area of interest\n",
    "aoi = {\n",
    "  \"type\": \"Polygon\",\n",
    "  \"coordinates\": [\n",
    "    [\n",
    "      [11.72877026555824, 58.22234804213801],\n",
    "      [15.209467246270748, 58.22234804213801],\n",
    "      [15.209467246270748, 59.52443624797786],\n",
    "      [11.72877026555824, 59.52443624797786],\n",
    "      [11.72877026555824, 58.22234804213801]\n",
    "    ]\n",
    "  ]\n",
    "}\n",
    "\n",
    "# Define your temporal range\n",
    "daterange = {\"interval\": [\"1982-08-22T00:00:00Z\", \"2023-06-21T23:59:59Z\"]}\n",
    "\n",
    "# Define your search with CQL2 syntax\n",
    "search = catalog.search(filter_lang=\"cql2-json\", filter={\n",
    "  \"op\": \"and\",\n",
    "  \"args\": [\n",
    "    {\"op\": \"s_intersects\", \"args\": [{\"property\": \"geometry\"}, aoi]},\n",
    "    {\"op\": \"anyinteracts\", \"args\": [{\"property\": \"datetime\"}, daterange]},\n",
    "    {\"op\": \"=\", \"args\": [{\"property\": \"collection\"}, \"landsat-c2-l2\"]},\n",
    "    {\"op\": \"in\", \"args\": [{\"property\": \"landsat:wrs_path\"}, [\"195\"]]},\n",
    "    {\"op\": \"in\", \"args\": [{\"property\": \"landsat:wrs_row\"}, [\"019\"]]},\n",
    "    {\"op\": \"<=\", \"args\": [{\"property\": \"eo:cloud_cover\"}, 10]}\n",
    "  ]\n",
    "})"
   ]
  },
  {
   "cell_type": "markdown",
   "id": "f38d08dd-ee81-40e7-8365-126f5fc7f583",
   "metadata": {},
   "source": [
    "## Extract scene IDs"
   ]
  },
  {
   "cell_type": "code",
   "execution_count": 2,
   "id": "f70575de-2a10-44e9-98f7-71b051b9bd42",
   "metadata": {
    "tags": []
   },
   "outputs": [
    {
     "data": {
      "text/plain": [
       "134"
      ]
     },
     "execution_count": 2,
     "metadata": {},
     "output_type": "execute_result"
    }
   ],
   "source": [
    "items = [item.assets[\"red\"].href.split(\"/\")[-1].strip(\"_B4.TIF\").strip(\"_B3.TIF\") for item in search.get_items()]\n",
    "len(items)"
   ]
  },
  {
   "cell_type": "markdown",
   "id": "07db9b0b-3a18-42a9-a8ff-b8a188409b26",
   "metadata": {
    "tags": []
   },
   "source": [
    "## Generate collection dict"
   ]
  },
  {
   "cell_type": "code",
   "execution_count": 3,
   "id": "0c733c91-e0a3-4ca0-8aba-46167f9db964",
   "metadata": {},
   "outputs": [],
   "source": [
    "LAKE_NAME = \"Vänern\"\n",
    "LAKE_NAME_SLUG = \"vanern\""
   ]
  },
  {
   "cell_type": "code",
   "execution_count": 4,
   "id": "3849a5cc-5ba3-4826-ad23-dc33ef087e62",
   "metadata": {},
   "outputs": [
    {
     "name": "stdout",
     "output_type": "stream",
     "text": [
      "(10.69941816, 57.35328549, 15.98482535, 59.83119443)\n",
      "['1984-04-18T09:40:30Z', '2023-06-09T10:12:43Z']\n"
     ]
    }
   ],
   "source": [
    "import datetime\n",
    "\n",
    "xmin = ymin = 1000\n",
    "xmax = ymax = -1000\n",
    "\n",
    "mindate = datetime.datetime(2100, 1, 1, tzinfo=datetime.timezone.utc)\n",
    "maxdate = datetime.datetime(1900, 1, 1, tzinfo=datetime.timezone.utc)\n",
    "\n",
    "for item in search.get_items():\n",
    "    xmin = min(xmin, item.bbox[0])\n",
    "    ymin = min(ymin, item.bbox[1])\n",
    "    xmax = max(xmax, item.bbox[2])\n",
    "    ymax = max(ymax, item.bbox[3])\n",
    "    \n",
    "    mindate = min(mindate, item.datetime)\n",
    "    maxdate = max(maxdate, item.datetime)\n",
    "\n",
    "BBOX = (xmin, ymin, xmax, ymax)\n",
    "print(BBOX)\n",
    "\n",
    "MIN_DATE = mindate\n",
    "MAX_DATE = maxdate\n",
    "\n",
    "COLLECTION_INTERVAL = [d.strftime(\"%Y-%m-%dT%H:%M:%S\") + \"Z\" for d in (mindate, maxdate)]\n",
    "print(COLLECTION_INTERVAL)"
   ]
  },
  {
   "cell_type": "code",
   "execution_count": 5,
   "id": "d1558909-6bd8-4161-a710-4ce0f0502fc3",
   "metadata": {},
   "outputs": [],
   "source": [
    "collection = {\n",
    "  \"id\": f\"landsat-c2l2-sr-lakes-{LAKE_NAME_SLUG}\",\n",
    "  \"type\": \"Collection\",\n",
    "  \"title\": f\"Selected Landsat 7 through 9 Surface Reflectance Scenes for {LAKE_NAME}\",\n",
    "  \"extent\": {\n",
    "    \"spatial\": {\n",
    "      \"bbox\": BBOX\n",
    "    },\n",
    "    \"temporal\": {\n",
    "      \"interval\": [\n",
    "        [\n",
    "          f\"{MIN_DATE:%Y-%m-%dT%H:%M:%S}Z\",\n",
    "          f\"{MAX_DATE:%Y-%m-%dT%H:%M:%S}Z\"\n",
    "        ]\n",
    "      ]\n",
    "    }\n",
    "  },\n",
    "  \"license\": \"https://d9-wret.s3.us-west-2.amazonaws.com/assets/palladium/production/s3fs-public/atoms/files/Landsat_Data_Policy.pdf\",\n",
    "  \"summaries\": {\n",
    "    \"datetime\": [\n",
    "    ],\n",
    "    \"cog_default\": {\n",
    "      \"max\": None,\n",
    "      \"min\": None\n",
    "    }\n",
    "  },\n",
    "  \"description\": f\"Selected low-cloud-cover Landsat Collection-2 Level-2 Surface Reflectance scenes covering {LAKE_NAME}. Products from multiple missions and instruments are combined in this single collection for the purpose of visualizing RGB images. Note that the full item records are not interchangeable across instruments for purposes other than visualization and that the assets available are not the same for each instrument.\",\n",
    "  \"item_assets\": {\n",
    "    \"red\": {\n",
    "      \"type\": \"image/vnd.stac.geotiff; cloud-optimized=true\",\n",
    "      \"roles\": [\n",
    "        \"data\"\n",
    "      ],\n",
    "      \"title\": \"Red Band (B4)\",\n",
    "      \"eo:bands\": [\n",
    "        {\n",
    "          \"gsd\": 30,\n",
    "          \"name\": \"B4\",\n",
    "          \"common_name\": \"red\",\n",
    "          \"center_wavelength\": 0.65\n",
    "        }\n",
    "      ],\n",
    "      \"description\": \"Collection 2 Level-2 Red Band (B4) Surface Reflectance\"\n",
    "    },\n",
    "    \"blue\": {\n",
    "      \"type\": \"image/vnd.stac.geotiff; cloud-optimized=true\",\n",
    "      \"roles\": [\n",
    "        \"data\"\n",
    "      ],\n",
    "      \"title\": \"Blue Band (B2)\",\n",
    "      \"eo:bands\": [\n",
    "        {\n",
    "          \"gsd\": 30,\n",
    "          \"name\": \"B2\",\n",
    "          \"common_name\": \"blue\",\n",
    "          \"center_wavelength\": 0.48\n",
    "        }\n",
    "      ],\n",
    "      \"description\": \"Collection 2 Level-2 Blue Band (B2) Surface Reflectance\"\n",
    "    },\n",
    "    \"green\": {\n",
    "      \"type\": \"image/vnd.stac.geotiff; cloud-optimized=true\",\n",
    "      \"roles\": [\n",
    "        \"data\"\n",
    "      ],\n",
    "      \"title\": \"Green Band (B3)\",\n",
    "      \"eo:bands\": [\n",
    "        {\n",
    "          \"gsd\": 30,\n",
    "          \"name\": \"B3\",\n",
    "          \"common_name\": \"green\",\n",
    "          \"center_wavelength\": 0.56\n",
    "        }\n",
    "      ],\n",
    "      \"description\": \"Collection 2 Level-2 Green Band (B3) Surface Reflectance\"\n",
    "    },\n",
    "    \"thumbnail\": {\n",
    "      \"type\": \"image/jpeg\",\n",
    "      \"roles\": [\n",
    "        \"thumbnail\"\n",
    "      ],\n",
    "      \"title\": \"Thumbnail image\"\n",
    "    },\n",
    "    \"cog_default\": {\n",
    "      \"type\": \"image/tiff; application=geotiff; profile=cloud-optimized\",\n",
    "      \"roles\": [\n",
    "        \"data\",\n",
    "        \"layer\"\n",
    "      ],\n",
    "      \"title\": \"Default COG Layer\",\n",
    "      \"description\": \"Cloud optimized default layer to display on map\"\n",
    "    }\n",
    "  },\n",
    "  \"stac_version\": \"1.0.0\",\n",
    "  \"dashboard:is_periodic\": \"false\",\n",
    "  \"dashboard:time_density\": \"day\"\n",
    "}"
   ]
  },
  {
   "cell_type": "markdown",
   "id": "8fa8e4c0-2fc5-4c9c-8e09-bcce9076b90b",
   "metadata": {
    "tags": []
   },
   "source": [
    "## Write to files"
   ]
  },
  {
   "cell_type": "code",
   "execution_count": 6,
   "id": "c8297cb0-b600-4b96-a3bd-1b2b8b1d05d1",
   "metadata": {
    "tags": []
   },
   "outputs": [],
   "source": [
    "import json\n",
    "\n",
    "with open(f\"{LAKE_NAME_SLUG}-scenes.json\", \"w\") as fobj:\n",
    "    json.dump(items, fobj, indent=2)\n",
    "    \n",
    "with open(f\"{LAKE_NAME_SLUG}-collection.json\", \"w\") as fobj:\n",
    "    json.dump(collection, fobj, indent=2)"
   ]
  }
 ],
 "metadata": {
  "kernelspec": {
   "display_name": "Python 3 (ipykernel)",
   "language": "python",
   "name": "python3"
  },
  "language_info": {
   "codemirror_mode": {
    "name": "ipython",
    "version": 3
   },
   "file_extension": ".py",
   "mimetype": "text/x-python",
   "name": "python",
   "nbconvert_exporter": "python",
   "pygments_lexer": "ipython3",
   "version": "3.10.10"
  }
 },
 "nbformat": 4,
 "nbformat_minor": 5
}
