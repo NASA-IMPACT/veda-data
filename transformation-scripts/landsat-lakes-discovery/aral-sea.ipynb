{
 "cells": [
  {
   "attachments": {},
   "cell_type": "markdown",
   "id": "e41ae32f-cd83-4d30-8697-f1ef8c25e5ba",
   "metadata": {},
   "source": [
    "## Find scenes for selected path/row"
   ]
  },
  {
   "cell_type": "code",
   "execution_count": 1,
   "id": "4c1413d1-38a2-4dbe-b45e-60a087496509",
   "metadata": {
    "tags": []
   },
   "outputs": [],
   "source": [
    "from pystac_client import Client\n",
    "\n",
    "# Search against the Planetary Computer STAC API\n",
    "catalog = Client.open(\n",
    "  \"https://planetarycomputer.microsoft.com/api/stac/v1\"\n",
    ")\n",
    "\n",
    "# Define your area of interest\n",
    "aoi = {\n",
    "  \"type\": \"Polygon\",\n",
    "  \"coordinates\": [\n",
    "    [\n",
    "      [54.6355092639692, 42.68420851174815],\n",
    "      [63.69846542906245, 42.68420851174815],\n",
    "      [63.69846542906245, 47.318581705920565],\n",
    "      [54.6355092639692, 47.318581705920565],\n",
    "      [54.6355092639692, 42.68420851174815]\n",
    "    ]\n",
    "  ]\n",
    "}\n",
    "\n",
    "# Define your temporal range\n",
    "daterange = {\"interval\": [\"1982-08-22T00:00:00Z\", \"2023-06-21T23:59:59Z\"]}\n",
    "\n",
    "# Define your search with CQL2 syntax\n",
    "search = catalog.search(filter_lang=\"cql2-json\", filter={\n",
    "  \"op\": \"and\",\n",
    "  \"args\": [\n",
    "    {\"op\": \"s_intersects\", \"args\": [{\"property\": \"geometry\"}, aoi]},\n",
    "    {\"op\": \"anyinteracts\", \"args\": [{\"property\": \"datetime\"}, daterange]},\n",
    "    {\"op\": \"=\", \"args\": [{\"property\": \"collection\"}, \"landsat-c2-l2\"]},\n",
    "    {\"op\": \"in\", \"args\": [{\"property\": \"landsat:wrs_path\"}, [\"160\", \"161\"]]},\n",
    "    {\"op\": \"in\", \"args\": [{\"property\": \"landsat:wrs_row\"}, [\"028\", \"029\"]]},\n",
    "    {\"op\": \"<=\", \"args\": [{\"property\": \"eo:cloud_cover\"}, 5]}\n",
    "  ]\n",
    "})"
   ]
  },
  {
   "attachments": {},
   "cell_type": "markdown",
   "id": "2aecb27a-f4ed-4276-9055-353236052276",
   "metadata": {},
   "source": [
    "## Extract scene IDs"
   ]
  },
  {
   "cell_type": "code",
   "execution_count": 2,
   "id": "3986f14c-fac5-49b1-8448-f2fdb105104e",
   "metadata": {
    "tags": []
   },
   "outputs": [
    {
     "name": "stderr",
     "output_type": "stream",
     "text": [
      "/Users/ividito/.pyenv/versions/3.11.1/envs/veda-data/lib/python3.11/site-packages/pystac_client/item_search.py:826: FutureWarning: get_items() is deprecated, use items() instead\n",
      "  warnings.warn(\n"
     ]
    }
   ],
   "source": [
    "items = [item.assets[\"red\"].href.split(\"/\")[-1].strip(\"_B4.TIF\").strip(\"_B3.TIF\") for item in search.get_items()]\n",
    "len(items)"
   ]
  },
  {
   "attachments": {},
   "cell_type": "markdown",
   "id": "d4dba3d5-82a3-461e-9e4c-7b273a2234c3",
   "metadata": {},
   "source": [
    "## Generate collection dict"
   ]
  },
  {
   "cell_type": "code",
   "execution_count": null,
   "id": "014a3a74-6b0e-4896-ba07-13fa1ffba721",
   "metadata": {},
   "outputs": [],
   "source": [
    "LAKE_NAME = \"the Aral Sea\"\n",
    "LAKE_NAME_SLUG = \"aral-sea\""
   ]
  },
  {
   "cell_type": "code",
   "execution_count": null,
   "id": "ad49d2db-5e39-4b93-ac82-75a1f44ca20f",
   "metadata": {},
   "outputs": [
    {
     "name": "stdout",
     "output_type": "stream",
     "text": [
      "(56.91258402, 43.48369514, 63.64131735, 47.12012485)\n",
      "['1986-04-10T06:12:19Z', '2023-06-20T06:40:19Z']\n"
     ]
    }
   ],
   "source": [
    "import datetime\n",
    "\n",
    "xmin = ymin = 1000\n",
    "xmax = ymax = -1000\n",
    "\n",
    "mindate = datetime.datetime(2100, 1, 1, tzinfo=datetime.timezone.utc)\n",
    "maxdate = datetime.datetime(1900, 1, 1, tzinfo=datetime.timezone.utc)\n",
    "\n",
    "for item in search.get_items():\n",
    "    xmin = min(xmin, item.bbox[0])\n",
    "    ymin = min(ymin, item.bbox[1])\n",
    "    xmax = max(xmax, item.bbox[2])\n",
    "    ymax = max(ymax, item.bbox[3])\n",
    "    \n",
    "    mindate = min(mindate, item.datetime)\n",
    "    maxdate = max(maxdate, item.datetime)\n",
    "\n",
    "BBOX = (xmin, ymin, xmax, ymax)\n",
    "print(BBOX)\n",
    "\n",
    "MIN_DATE = mindate\n",
    "MAX_DATE = maxdate\n",
    "\n",
    "COLLECTION_INTERVAL = [d.strftime(\"%Y-%m-%dT%H:%M:%S\") + \"Z\" for d in (mindate, maxdate)]\n",
    "print(COLLECTION_INTERVAL)"
   ]
  },
  {
   "cell_type": "code",
   "execution_count": null,
   "id": "c2fa6870-b60f-4b81-8b91-1fb2ca6a101d",
   "metadata": {},
   "outputs": [],
   "source": [
    "collection_id = f\"landsat-c2l2-sr-lakes-{LAKE_NAME_SLUG}\"\n",
    "collection = {\n",
    "  \"id\": f\"{collection_id}\",\n",
    "  \"type\": \"Collection\",\n",
    "  \"title\": f\"Selected Landsat 7 through 9 Surface Reflectance Scenes for {LAKE_NAME}\",\n",
    "  \"extent\": {\n",
    "    \"spatial\": {\n",
    "      \"bbox\": BBOX\n",
    "    },\n",
    "    \"temporal\": {\n",
    "      \"interval\": [\n",
    "        [\n",
    "          f\"{MIN_DATE:%Y-%m-%dT%H:%M:%S}Z\",\n",
    "          f\"{MAX_DATE:%Y-%m-%dT%H:%M:%S}Z\"\n",
    "        ]\n",
    "      ]\n",
    "    }\n",
    "  },\n",
    "  \"license\": \"https://d9-wret.s3.us-west-2.amazonaws.com/assets/palladium/production/s3fs-public/atoms/files/Landsat_Data_Policy.pdf\",\n",
    "  \"summaries\": {\n",
    "    \"datetime\": [\n",
    "    ],\n",
    "    \"cog_default\": {\n",
    "      \"max\": None,\n",
    "      \"min\": None\n",
    "    }\n",
    "  },\n",
    "  \"description\": f\"Selected low-cloud-cover Landsat Collection-2 Level-2 Surface Reflectance scenes covering {LAKE_NAME}. Products from multiple missions and instruments are combined in this single collection for the purpose of visualizing RGB images. Note that the full item records are not interchangeable across instruments for purposes other than visualization and that the assets available are not the same for each instrument.\",\n",
    "  \"item_assets\": {\n",
    "    \"red\": {\n",
    "      \"type\": \"image/vnd.stac.geotiff; cloud-optimized=true\",\n",
    "      \"roles\": [\n",
    "        \"data\"\n",
    "      ],\n",
    "      \"title\": \"Red Band (B4)\",\n",
    "      \"eo:bands\": [\n",
    "        {\n",
    "          \"gsd\": 30,\n",
    "          \"name\": \"B4\",\n",
    "          \"common_name\": \"red\",\n",
    "          \"center_wavelength\": 0.65\n",
    "        }\n",
    "      ],\n",
    "      \"description\": \"Collection 2 Level-2 Red Band (B4) Surface Reflectance\"\n",
    "    },\n",
    "    \"blue\": {\n",
    "      \"type\": \"image/vnd.stac.geotiff; cloud-optimized=true\",\n",
    "      \"roles\": [\n",
    "        \"data\"\n",
    "      ],\n",
    "      \"title\": \"Blue Band (B2)\",\n",
    "      \"eo:bands\": [\n",
    "        {\n",
    "          \"gsd\": 30,\n",
    "          \"name\": \"B2\",\n",
    "          \"common_name\": \"blue\",\n",
    "          \"center_wavelength\": 0.48\n",
    "        }\n",
    "      ],\n",
    "      \"description\": \"Collection 2 Level-2 Blue Band (B2) Surface Reflectance\"\n",
    "    },\n",
    "    \"green\": {\n",
    "      \"type\": \"image/vnd.stac.geotiff; cloud-optimized=true\",\n",
    "      \"roles\": [\n",
    "        \"data\"\n",
    "      ],\n",
    "      \"title\": \"Green Band (B3)\",\n",
    "      \"eo:bands\": [\n",
    "        {\n",
    "          \"gsd\": 30,\n",
    "          \"name\": \"B3\",\n",
    "          \"common_name\": \"green\",\n",
    "          \"center_wavelength\": 0.56\n",
    "        }\n",
    "      ],\n",
    "      \"description\": \"Collection 2 Level-2 Green Band (B3) Surface Reflectance\"\n",
    "    },\n",
    "    \"thumbnail\": {\n",
    "      \"type\": \"image/jpeg\",\n",
    "      \"roles\": [\n",
    "        \"thumbnail\"\n",
    "      ],\n",
    "      \"title\": \"Thumbnail image\"\n",
    "    },\n",
    "    \"cog_default\": {\n",
    "      \"type\": \"image/tiff; application=geotiff; profile=cloud-optimized\",\n",
    "      \"roles\": [\n",
    "        \"data\",\n",
    "        \"layer\"\n",
    "      ],\n",
    "      \"title\": \"Default COG Layer\",\n",
    "      \"description\": \"Cloud optimized default layer to display on map\"\n",
    "    }\n",
    "  },\n",
    "  \"stac_version\": \"1.0.0\",\n",
    "  \"dashboard:is_periodic\": \"false\",\n",
    "  \"dashboard:time_density\": \"day\"\n",
    "}"
   ]
  },
  {
   "attachments": {},
   "cell_type": "markdown",
   "id": "fa8a8e28-0281-4e6a-b475-2aaf941006fc",
   "metadata": {},
   "source": [
    "## Write to files"
   ]
  },
  {
   "cell_type": "code",
   "execution_count": null,
   "id": "a4baa5d0-a822-488b-9e93-61b11e167f11",
   "metadata": {
    "tags": []
   },
   "outputs": [],
   "source": [
    "import json\n",
    "\n",
    "with open(f\"{LAKE_NAME_SLUG}-scenes.json\", \"w\") as fobj:\n",
    "    json.dump(items, fobj, indent=2)\n",
    "    \n",
    "with open(f\"{LAKE_NAME_SLUG}-collection.json\", \"w\") as fobj:\n",
    "    json.dump(collection, fobj, indent=2)"
   ]
  },
  {
   "cell_type": "code",
   "execution_count": null,
   "id": "0c733567",
   "metadata": {},
   "outputs": [],
   "source": [
    "item_links = {\"links\": [\n",
    "                {\n",
    "                    \"rel\": \"collection\",\n",
    "                    \"type\": \"application/json\",\n",
    "                    \"href\": f\"https://staging-stac.delta-backend.com/collections/{collection_id}\"\n",
    "                },\n",
    "                {\n",
    "                    \"rel\": \"parent\",\n",
    "                    \"type\": \"application/json\",\n",
    "                    \"href\": f\"https://staging-stac.delta-backend.com/collections/{collection_id}\"\n",
    "                },\n",
    "                {\n",
    "                    \"rel\": \"root\",\n",
    "                    \"type\": \"application/json\",\n",
    "                    \"href\": \"https://staging-stac.delta-backend.com/\"\n",
    "                },\n",
    "                {\n",
    "                    \"rel\": \"self\",\n",
    "                    \"type\": \"application/geo+json\",\n",
    "                    \"href\": f\"https://staging-stac.delta-backend.com/collections/{collection_id}/items/LC08_L2SR_001113_20230125_20230208_02_T2_SR\"\n",
    "                }\n",
    "            ]}\n",
    "\n"
   ]
  },
  {
   "cell_type": "code",
   "execution_count": null,
   "id": "4c820c51",
   "metadata": {},
   "outputs": [],
   "source": [
    "def replace_and_check(input_string):\n",
    "    expected_prefix = \"https://landsateuwest.blob.core.windows.net/landsat-c2/\"\n",
    "\n",
    "    if not input_string.startswith(expected_prefix):\n",
    "        raise ValueError(f\"Input string does not match expected pattern - {input_string}.\")\n",
    "\n",
    "    replacement_prefix = \"s3://usgs-landsat/collection02/\"\n",
    "    replaced_string = input_string.replace(expected_prefix, replacement_prefix)\n",
    "\n",
    "    return replaced_string\n",
    "\n",
    "def remove_keys(dictionary, keys_to_keep):\n",
    "    return {key: value for key, value in dictionary.items() if key in keys_to_keep}\n",
    "\n",
    "bands = ['red', 'green', 'blue']\n",
    "\n",
    "with open(f\"{LAKE_NAME_SLUG}-items.json\", \"w\") as file:\n",
    "    for item in search.items_as_dicts():\n",
    "        item.update(item_links)\n",
    "        item['collection'] = collection_id\n",
    "        item['assets'] = remove_keys(item['assets'], bands)\n",
    "        for i in bands:\n",
    "            item['assets'][i]['href'] = replace_and_check(item['assets'][i]['href'])\n",
    "        file.write(json.dumps(item) + \"\\n\")  "
   ]
  },
  {
   "cell_type": "code",
   "execution_count": null,
   "id": "42dc901d",
   "metadata": {},
   "outputs": [],
   "source": [
    "%load_ext dotenv\n",
    "%dotenv\n",
    "# non-sensitive secret - to make sure env is loaded\n",
    "# .env should be in same directory as notebook and should be formatted as follows:\n",
    "# DB_HOSTNAME=hostname\n",
    "# DB_USERNAME=username\n",
    "# DB_PASSWORD=password\n",
    "# DB_NAME (not used, just a flag to make sure env is loaded)\n",
    "!echo $DB_NAME"
   ]
  },
  {
   "cell_type": "code",
   "execution_count": null,
   "id": "49b41832",
   "metadata": {},
   "outputs": [],
   "source": [
    "!pypgstac load collections {LAKE_NAME_SLUG}-collection.json --dsn postgresql://$DB_USERNAME:$DB_PASSWORD@$DB_HOSTNAME:5432/postgis --method upsert"
   ]
  },
  {
   "cell_type": "code",
   "execution_count": null,
   "id": "c55df1ce",
   "metadata": {},
   "outputs": [],
   "source": [
    "!pypgstac load items {LAKE_NAME_SLUG}-items.json --dsn postgresql://$DB_USERNAME:$DB_PASSWORD@$DB_HOSTNAME:5432/postgis --method upsert"
   ]
  }
 ],
 "metadata": {
  "kernelspec": {
   "display_name": "Python 3.11.1 64-bit ('veda-data')",
   "language": "python",
   "name": "python3"
  },
  "language_info": {
   "codemirror_mode": {
    "name": "ipython",
    "version": 3
   },
   "file_extension": ".py",
   "mimetype": "text/x-python",
   "name": "python",
   "nbconvert_exporter": "python",
   "pygments_lexer": "ipython3",
   "version": "3.11.1"
  },
  "vscode": {
   "interpreter": {
    "hash": "080db1d87f05ee1069c892ca2ad46e9146c5cedbfae60a7747915a0f923a7e3a"
   }
  }
 },
 "nbformat": 4,
 "nbformat_minor": 5
}
