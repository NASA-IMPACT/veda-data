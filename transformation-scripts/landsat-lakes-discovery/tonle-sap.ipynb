{
 "cells": [
  {
   "attachments": {},
   "cell_type": "markdown",
   "id": "2eae9ff7-b41f-4b60-a0ed-822b1217ef54",
   "metadata": {},
   "source": [
    "## Find scenes for selected path/row"
   ]
  },
  {
   "cell_type": "code",
   "execution_count": 1,
   "id": "8176bd68-88f8-4a81-8e9b-2fefa02b0e89",
   "metadata": {
    "tags": []
   },
   "outputs": [],
   "source": [
    "from pystac_client import Client\n",
    "\n",
    "# Search against the Planetary Computer STAC API\n",
    "catalog = Client.open(\"https://planetarycomputer.microsoft.com/api/stac/v1\")\n",
    "\n",
    "# Define your area of interest\n",
    "aoi = {\n",
    "    \"type\": \"Polygon\",\n",
    "    \"coordinates\": [\n",
    "        [\n",
    "            [100.94980227825175, 11.538853844083988],\n",
    "            [105.89367732791578, 11.538853844083988],\n",
    "            [105.89367732791578, 14.437153553167747],\n",
    "            [100.94980227825175, 14.437153553167747],\n",
    "            [100.94980227825175, 11.538853844083988],\n",
    "        ]\n",
    "    ],\n",
    "}\n",
    "\n",
    "# Define your temporal range\n",
    "daterange = {\"interval\": [\"1982-08-22T00:00:00Z\", \"2023-06-21T23:59:59Z\"]}\n",
    "\n",
    "# Define your search with CQL2 syntax\n",
    "search = catalog.search(\n",
    "    filter_lang=\"cql2-json\",\n",
    "    filter={\n",
    "        \"op\": \"and\",\n",
    "        \"args\": [\n",
    "            {\"op\": \"s_intersects\", \"args\": [{\"property\": \"geometry\"}, aoi]},\n",
    "            {\"op\": \"anyinteracts\", \"args\": [{\"property\": \"datetime\"}, daterange]},\n",
    "            {\"op\": \"=\", \"args\": [{\"property\": \"collection\"}, \"landsat-c2-l2\"]},\n",
    "            {\"op\": \"in\", \"args\": [{\"property\": \"landsat:wrs_path\"}, [\"126\", \"127\"]]},\n",
    "            {\"op\": \"in\", \"args\": [{\"property\": \"landsat:wrs_row\"}, [\"051\"]]},\n",
    "            {\"op\": \"<=\", \"args\": [{\"property\": \"eo:cloud_cover\"}, 5]},\n",
    "        ],\n",
    "    },\n",
    ")"
   ]
  },
  {
   "attachments": {},
   "cell_type": "markdown",
   "id": "a4b3f8f6-2d56-49a9-a855-9724f1cc45db",
   "metadata": {},
   "source": [
    "## Extract scene IDs"
   ]
  },
  {
   "cell_type": "code",
   "execution_count": 2,
   "id": "781bf81a-d2d0-4b1f-9f5b-8c1c6388c540",
   "metadata": {
    "tags": []
   },
   "outputs": [
    {
     "name": "stderr",
     "output_type": "stream",
     "text": [
      "/Users/ividito/.pyenv/versions/3.11.1/envs/veda-data/lib/python3.11/site-packages/pystac_client/item_search.py:826: FutureWarning: get_items() is deprecated, use items() instead\n",
      "  warnings.warn(\n"
     ]
    },
    {
     "data": {
      "text/plain": [
       "330"
      ]
     },
     "execution_count": 2,
     "metadata": {},
     "output_type": "execute_result"
    }
   ],
   "source": [
    "items = [\n",
    "    item.assets[\"red\"].href.split(\"/\")[-1].strip(\"_B4.TIF\").strip(\"_B3.TIF\")\n",
    "    for item in search.get_items()\n",
    "]\n",
    "len(items)"
   ]
  },
  {
   "attachments": {},
   "cell_type": "markdown",
   "id": "4fad3e60-568c-4890-90cf-93807d8101f9",
   "metadata": {},
   "source": [
    "## Generate collection dict"
   ]
  },
  {
   "cell_type": "code",
   "execution_count": 3,
   "id": "ff23e74c-b092-43e8-8fb7-09232c0b73c1",
   "metadata": {},
   "outputs": [],
   "source": [
    "LAKE_NAME = \"Tonlé Sap\"\n",
    "LAKE_NAME_SLUG = \"tonle-sap\""
   ]
  },
  {
   "cell_type": "code",
   "execution_count": 4,
   "id": "f6e00ca3-ffbf-4d62-b6df-1be1cd62aa1a",
   "metadata": {
    "tags": []
   },
   "outputs": [
    {
     "name": "stdout",
     "output_type": "stream",
     "text": [
      "(101.93844223, 11.94560442, 106.37030883, 14.06740558)\n",
      "['1987-12-04T02:48:00Z', '2023-05-05T01:16:34Z']\n"
     ]
    }
   ],
   "source": [
    "import datetime\n",
    "\n",
    "xmin = ymin = 1000\n",
    "xmax = ymax = -1000\n",
    "\n",
    "mindate = datetime.datetime(2100, 1, 1, tzinfo=datetime.timezone.utc)\n",
    "maxdate = datetime.datetime(1900, 1, 1, tzinfo=datetime.timezone.utc)\n",
    "\n",
    "for item in search.get_items():\n",
    "    xmin = min(xmin, item.bbox[0])\n",
    "    ymin = min(ymin, item.bbox[1])\n",
    "    xmax = max(xmax, item.bbox[2])\n",
    "    ymax = max(ymax, item.bbox[3])\n",
    "\n",
    "    mindate = min(mindate, item.datetime)\n",
    "    maxdate = max(maxdate, item.datetime)\n",
    "\n",
    "BBOX = (xmin, ymin, xmax, ymax)\n",
    "print(BBOX)\n",
    "\n",
    "MIN_DATE = mindate\n",
    "MAX_DATE = maxdate\n",
    "\n",
    "COLLECTION_INTERVAL = [\n",
    "    d.strftime(\"%Y-%m-%dT%H:%M:%S\") + \"Z\" for d in (mindate, maxdate)\n",
    "]\n",
    "print(COLLECTION_INTERVAL)"
   ]
  },
  {
   "cell_type": "code",
   "execution_count": 5,
   "id": "c58bc898-4172-4e59-95dc-19b04273f019",
   "metadata": {},
   "outputs": [],
   "source": [
    "collection_id = f\"landsat-c2l2-sr-lakes-{LAKE_NAME_SLUG}\"\n",
    "collection = {\n",
    "    \"id\": f\"{collection_id}\",\n",
    "    \"type\": \"Collection\",\n",
    "    \"title\": f\"Selected Landsat 7 through 9 Surface Reflectance Scenes for {LAKE_NAME}\",\n",
    "    \"extent\": {\n",
    "        \"spatial\": {\"bbox\": BBOX},\n",
    "        \"temporal\": {\n",
    "            \"interval\": [\n",
    "                [f\"{MIN_DATE:%Y-%m-%dT%H:%M:%S}Z\", f\"{MAX_DATE:%Y-%m-%dT%H:%M:%S}Z\"]\n",
    "            ]\n",
    "        },\n",
    "    },\n",
    "    \"license\": \"https://d9-wret.s3.us-west-2.amazonaws.com/assets/palladium/production/s3fs-public/atoms/files/Landsat_Data_Policy.pdf\",\n",
    "    \"summaries\": {\"datetime\": [], \"cog_default\": {\"max\": None, \"min\": None}},\n",
    "    \"description\": f\"Selected low-cloud-cover Landsat Collection-2 Level-2 Surface Reflectance scenes covering {LAKE_NAME}. Products from multiple missions and instruments are combined in this single collection for the purpose of visualizing RGB images. Note that the full item records are not interchangeable across instruments for purposes other than visualization and that the assets available are not the same for each instrument.\",\n",
    "    \"item_assets\": {\n",
    "        \"red\": {\n",
    "            \"type\": \"image/vnd.stac.geotiff; cloud-optimized=true\",\n",
    "            \"roles\": [\"data\"],\n",
    "            \"title\": \"Red Band (B4)\",\n",
    "            \"eo:bands\": [\n",
    "                {\n",
    "                    \"gsd\": 30,\n",
    "                    \"name\": \"B4\",\n",
    "                    \"common_name\": \"red\",\n",
    "                    \"center_wavelength\": 0.65,\n",
    "                }\n",
    "            ],\n",
    "            \"description\": \"Collection 2 Level-2 Red Band (B4) Surface Reflectance\",\n",
    "        },\n",
    "        \"blue\": {\n",
    "            \"type\": \"image/vnd.stac.geotiff; cloud-optimized=true\",\n",
    "            \"roles\": [\"data\"],\n",
    "            \"title\": \"Blue Band (B2)\",\n",
    "            \"eo:bands\": [\n",
    "                {\n",
    "                    \"gsd\": 30,\n",
    "                    \"name\": \"B2\",\n",
    "                    \"common_name\": \"blue\",\n",
    "                    \"center_wavelength\": 0.48,\n",
    "                }\n",
    "            ],\n",
    "            \"description\": \"Collection 2 Level-2 Blue Band (B2) Surface Reflectance\",\n",
    "        },\n",
    "        \"green\": {\n",
    "            \"type\": \"image/vnd.stac.geotiff; cloud-optimized=true\",\n",
    "            \"roles\": [\"data\"],\n",
    "            \"title\": \"Green Band (B3)\",\n",
    "            \"eo:bands\": [\n",
    "                {\n",
    "                    \"gsd\": 30,\n",
    "                    \"name\": \"B3\",\n",
    "                    \"common_name\": \"green\",\n",
    "                    \"center_wavelength\": 0.56,\n",
    "                }\n",
    "            ],\n",
    "            \"description\": \"Collection 2 Level-2 Green Band (B3) Surface Reflectance\",\n",
    "        },\n",
    "        \"thumbnail\": {\n",
    "            \"type\": \"image/jpeg\",\n",
    "            \"roles\": [\"thumbnail\"],\n",
    "            \"title\": \"Thumbnail image\",\n",
    "        },\n",
    "        \"cog_default\": {\n",
    "            \"type\": \"image/tiff; application=geotiff; profile=cloud-optimized\",\n",
    "            \"roles\": [\"data\", \"layer\"],\n",
    "            \"title\": \"Default COG Layer\",\n",
    "            \"description\": \"Cloud optimized default layer to display on map\",\n",
    "        },\n",
    "    },\n",
    "    \"stac_version\": \"1.0.0\",\n",
    "    \"dashboard:is_periodic\": \"false\",\n",
    "    \"dashboard:time_density\": \"day\",\n",
    "}"
   ]
  },
  {
   "attachments": {},
   "cell_type": "markdown",
   "id": "2dd00e03-9ef3-44f9-b497-98740fccf32f",
   "metadata": {},
   "source": [
    "## Write to files"
   ]
  },
  {
   "cell_type": "code",
   "execution_count": 6,
   "id": "f4dbf0d3-ccef-4651-b279-f881f7f9d84f",
   "metadata": {
    "tags": []
   },
   "outputs": [],
   "source": [
    "import json\n",
    "\n",
    "with open(f\"{LAKE_NAME_SLUG}-scenes.json\", \"w\") as fobj:\n",
    "    json.dump(items, fobj, indent=2)\n",
    "\n",
    "with open(f\"{LAKE_NAME_SLUG}-collection.json\", \"w\") as fobj:\n",
    "    json.dump(collection, fobj, indent=2)"
   ]
  },
  {
   "cell_type": "code",
   "execution_count": 7,
   "id": "e1e23144",
   "metadata": {},
   "outputs": [],
   "source": [
    "item_links = {\n",
    "    \"links\": [\n",
    "        {\n",
    "            \"rel\": \"collection\",\n",
    "            \"type\": \"application/json\",\n",
    "            \"href\": f\"https://staging-stac.delta-backend.com/collections/{collection_id}\",\n",
    "        },\n",
    "        {\n",
    "            \"rel\": \"parent\",\n",
    "            \"type\": \"application/json\",\n",
    "            \"href\": f\"https://staging-stac.delta-backend.com/collections/{collection_id}\",\n",
    "        },\n",
    "        {\n",
    "            \"rel\": \"root\",\n",
    "            \"type\": \"application/json\",\n",
    "            \"href\": \"https://staging-stac.delta-backend.com/\",\n",
    "        },\n",
    "        {\n",
    "            \"rel\": \"self\",\n",
    "            \"type\": \"application/geo+json\",\n",
    "            \"href\": f\"https://staging-stac.delta-backend.com/collections/{collection_id}/items/LC08_L2SR_001113_20230125_20230208_02_T2_SR\",\n",
    "        },\n",
    "    ]\n",
    "}"
   ]
  },
  {
   "cell_type": "code",
   "execution_count": 8,
   "id": "48e9732a",
   "metadata": {},
   "outputs": [],
   "source": [
    "def replace_and_check(input_string):\n",
    "    expected_prefix = \"https://landsateuwest.blob.core.windows.net/landsat-c2/\"\n",
    "\n",
    "    if not input_string.startswith(expected_prefix):\n",
    "        raise ValueError(\n",
    "            f\"Input string does not match expected pattern - {input_string}.\"\n",
    "        )\n",
    "\n",
    "    replacement_prefix = \"s3://usgs-landsat/collection02/\"\n",
    "    replaced_string = input_string.replace(expected_prefix, replacement_prefix)\n",
    "\n",
    "    return replaced_string\n",
    "\n",
    "\n",
    "def remove_keys(dictionary, keys_to_keep):\n",
    "    return {key: value for key, value in dictionary.items() if key in keys_to_keep}\n",
    "\n",
    "\n",
    "bands = [\"red\", \"green\", \"blue\"]\n",
    "\n",
    "with open(f\"{LAKE_NAME_SLUG}-items.json\", \"w\") as file:\n",
    "    for item in search.items_as_dicts():\n",
    "        item.update(item_links)\n",
    "        item[\"collection\"] = collection_id\n",
    "        item[\"assets\"] = remove_keys(item[\"assets\"], bands)\n",
    "        for i in bands:\n",
    "            item[\"assets\"][i][\"href\"] = replace_and_check(item[\"assets\"][i][\"href\"])\n",
    "        file.write(json.dumps(item) + \"\\n\")"
   ]
  },
  {
   "cell_type": "code",
   "execution_count": 9,
   "id": "7e0cafc8",
   "metadata": {},
   "outputs": [
    {
     "name": "stdout",
     "output_type": "stream",
     "text": [
      "postgis_staging\n"
     ]
    }
   ],
   "source": [
    "%load_ext dotenv\n",
    "%dotenv\n",
    "# non-sensitive secret - to make sure env is loaded\n",
    "# .env should be in same directory as notebook and should be formatted as follows:\n",
    "# DB_HOSTNAME=hostname\n",
    "# DB_USERNAME=username\n",
    "# DB_PASSWORD=password\n",
    "# DB_NAME (not used, just a flag to make sure env is loaded)\n",
    "!echo $DB_NAME"
   ]
  },
  {
   "cell_type": "code",
   "execution_count": 10,
   "id": "e6b719d6",
   "metadata": {},
   "outputs": [],
   "source": [
    "!pypgstac load collections {LAKE_NAME_SLUG}-collection.json --dsn postgresql://$DB_USERNAME:$DB_PASSWORD@$DB_HOSTNAME:5432/postgis --method upsert"
   ]
  },
  {
   "cell_type": "code",
   "execution_count": 11,
   "id": "c080e51e",
   "metadata": {},
   "outputs": [],
   "source": [
    "!pypgstac load items {LAKE_NAME_SLUG}-items.json --dsn postgresql://$DB_USERNAME:$DB_PASSWORD@$DB_HOSTNAME:5432/postgis --method upsert"
   ]
  }
 ],
 "metadata": {
  "kernelspec": {
   "display_name": "Python 3.11.1 64-bit ('veda-data')",
   "language": "python",
   "name": "python3"
  },
  "language_info": {
   "codemirror_mode": {
    "name": "ipython",
    "version": 3
   },
   "file_extension": ".py",
   "mimetype": "text/x-python",
   "name": "python",
   "nbconvert_exporter": "python",
   "pygments_lexer": "ipython3",
   "version": "3.11.1"
  },
  "vscode": {
   "interpreter": {
    "hash": "080db1d87f05ee1069c892ca2ad46e9146c5cedbfae60a7747915a0f923a7e3a"
   }
  }
 },
 "nbformat": 4,
 "nbformat_minor": 5
}
