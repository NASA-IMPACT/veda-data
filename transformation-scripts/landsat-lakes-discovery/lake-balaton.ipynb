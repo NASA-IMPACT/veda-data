{
 "cells": [
  {
   "cell_type": "markdown",
   "id": "be8b51ed-ff59-4c03-ae36-fc50386a46b3",
   "metadata": {},
   "source": [
    "## Find scenes for selected path/row"
   ]
  },
  {
   "cell_type": "code",
   "execution_count": 1,
   "id": "8176bd68-88f8-4a81-8e9b-2fefa02b0e89",
   "metadata": {
    "tags": []
   },
   "outputs": [],
   "source": [
    "from pystac_client import Client\n",
    "\n",
    "# Search against the Planetary Computer STAC API\n",
    "catalog = Client.open(\n",
    "  \"https://planetarycomputer.microsoft.com/api/stac/v1\"\n",
    ")\n",
    "\n",
    "# Define your area of interest\n",
    "aoi = {\n",
    "  \"type\": \"Polygon\",\n",
    "  \"coordinates\": [\n",
    "    [\n",
    "      [16.64828162951298, 46.416154263750144],\n",
    "      [18.717592307140762, 46.416154263750144],\n",
    "      [18.717592307140762, 47.267800037379345],\n",
    "      [16.64828162951298, 47.267800037379345],\n",
    "      [16.64828162951298, 46.416154263750144]\n",
    "    ]\n",
    "  ]\n",
    "}\n",
    "\n",
    "# Define your temporal range\n",
    "daterange = {\"interval\": [\"1982-08-22T00:00:00Z\", \"2023-06-21T23:59:59Z\"]}\n",
    "\n",
    "# Define your search with CQL2 syntax\n",
    "search = catalog.search(filter_lang=\"cql2-json\", filter={\n",
    "  \"op\": \"and\",\n",
    "  \"args\": [\n",
    "    {\"op\": \"s_intersects\", \"args\": [{\"property\": \"geometry\"}, aoi]},\n",
    "    {\"op\": \"anyinteracts\", \"args\": [{\"property\": \"datetime\"}, daterange]},\n",
    "    {\"op\": \"=\", \"args\": [{\"property\": \"collection\"}, \"landsat-c2-l2\"]},\n",
    "    {\"op\": \"in\", \"args\": [{\"property\": \"landsat:wrs_path\"}, [\"189\"]]},\n",
    "    {\"op\": \"in\", \"args\": [{\"property\": \"landsat:wrs_row\"}, [\"027\"]]},\n",
    "    {\"op\": \"<=\", \"args\": [{\"property\": \"eo:cloud_cover\"}, 5]}\n",
    "  ]\n",
    "})"
   ]
  },
  {
   "cell_type": "markdown",
   "id": "61357afc-7281-4fcc-8425-a1894e56d79f",
   "metadata": {},
   "source": [
    "## Extract scene IDs"
   ]
  },
  {
   "cell_type": "code",
   "execution_count": 2,
   "id": "781bf81a-d2d0-4b1f-9f5b-8c1c6388c540",
   "metadata": {
    "tags": []
   },
   "outputs": [
    {
     "data": {
      "text/plain": [
       "186"
      ]
     },
     "execution_count": 2,
     "metadata": {},
     "output_type": "execute_result"
    }
   ],
   "source": [
    "items = [item.assets[\"red\"].href.split(\"/\")[-1].strip(\"_B4.TIF\").strip(\"_B3.TIF\") for item in search.get_items()]\n",
    "len(items)"
   ]
  },
  {
   "cell_type": "markdown",
   "id": "270f3a17-fa97-4a76-b9b9-f7adb499c0f4",
   "metadata": {},
   "source": [
    "## Generate collection dict"
   ]
  },
  {
   "cell_type": "code",
   "execution_count": 3,
   "id": "15647697-0294-475d-9163-8dbe3f293dcc",
   "metadata": {
    "tags": []
   },
   "outputs": [],
   "source": [
    "LAKE_NAME = \"Lake Balaton\"\n",
    "LAKE_NAME_SLUG = \"lake-balaton\""
   ]
  },
  {
   "cell_type": "code",
   "execution_count": 4,
   "id": "56230505-4907-4fc7-bb2a-f5be100093a3",
   "metadata": {
    "tags": []
   },
   "outputs": [
    {
     "name": "stdout",
     "output_type": "stream",
     "text": [
      "(15.04798484, 46.34951509, 19.16156268, 48.51911491)\n",
      "['1984-09-15T09:09:32Z', '2023-05-22T07:35:18Z']\n"
     ]
    }
   ],
   "source": [
    "import datetime\n",
    "\n",
    "xmin = ymin = 1000\n",
    "xmax = ymax = -1000\n",
    "\n",
    "mindate = datetime.datetime(2100, 1, 1, tzinfo=datetime.timezone.utc)\n",
    "maxdate = datetime.datetime(1900, 1, 1, tzinfo=datetime.timezone.utc)\n",
    "\n",
    "for item in search.get_items():\n",
    "    xmin = min(xmin, item.bbox[0])\n",
    "    ymin = min(ymin, item.bbox[1])\n",
    "    xmax = max(xmax, item.bbox[2])\n",
    "    ymax = max(ymax, item.bbox[3])\n",
    "    \n",
    "    mindate = min(mindate, item.datetime)\n",
    "    maxdate = max(maxdate, item.datetime)\n",
    "\n",
    "BBOX = (xmin, ymin, xmax, ymax)\n",
    "print(BBOX)\n",
    "\n",
    "MIN_DATE = mindate\n",
    "MAX_DATE = maxdate\n",
    "\n",
    "COLLECTION_INTERVAL = [d.strftime(\"%Y-%m-%dT%H:%M:%S\") + \"Z\" for d in (mindate, maxdate)]\n",
    "print(COLLECTION_INTERVAL)"
   ]
  },
  {
   "cell_type": "code",
   "execution_count": 5,
   "id": "dff29fbf-0001-42c0-9058-7fb93ab0396d",
   "metadata": {
    "tags": []
   },
   "outputs": [],
   "source": [
    "collection = {\n",
    "  \"id\": f\"landsat-c2l2-sr-lakes-{LAKE_NAME_SLUG}\",\n",
    "  \"type\": \"Collection\",\n",
    "  \"title\": f\"Selected Landsat 7 through 9 Surface Reflectance Scenes for {LAKE_NAME}\",\n",
    "  \"extent\": {\n",
    "    \"spatial\": {\n",
    "      \"bbox\": BBOX\n",
    "    },\n",
    "    \"temporal\": {\n",
    "      \"interval\": [\n",
    "        [\n",
    "          f\"{MIN_DATE:%Y-%m-%dT%H:%M:%S}Z\",\n",
    "          f\"{MAX_DATE:%Y-%m-%dT%H:%M:%S}Z\"\n",
    "        ]\n",
    "      ]\n",
    "    }\n",
    "  },\n",
    "  \"license\": \"https://d9-wret.s3.us-west-2.amazonaws.com/assets/palladium/production/s3fs-public/atoms/files/Landsat_Data_Policy.pdf\",\n",
    "  \"summaries\": {\n",
    "    \"datetime\": [\n",
    "    ],\n",
    "    \"cog_default\": {\n",
    "      \"max\": None,\n",
    "      \"min\": None\n",
    "    }\n",
    "  },\n",
    "  \"description\": f\"Selected low-cloud-cover Landsat Collection-2 Level-2 Surface Reflectance scenes covering {LAKE_NAME}. Products from multiple missions and instruments are combined in this single collection for the purpose of visualizing RGB images. Note that the full item records are not interchangeable across instruments for purposes other than visualization and that the assets available are not the same for each instrument.\",\n",
    "  \"item_assets\": {\n",
    "    \"red\": {\n",
    "      \"type\": \"image/vnd.stac.geotiff; cloud-optimized=true\",\n",
    "      \"roles\": [\n",
    "        \"data\"\n",
    "      ],\n",
    "      \"title\": \"Red Band (B4)\",\n",
    "      \"eo:bands\": [\n",
    "        {\n",
    "          \"gsd\": 30,\n",
    "          \"name\": \"B4\",\n",
    "          \"common_name\": \"red\",\n",
    "          \"center_wavelength\": 0.65\n",
    "        }\n",
    "      ],\n",
    "      \"description\": \"Collection 2 Level-2 Red Band (B4) Surface Reflectance\"\n",
    "    },\n",
    "    \"blue\": {\n",
    "      \"type\": \"image/vnd.stac.geotiff; cloud-optimized=true\",\n",
    "      \"roles\": [\n",
    "        \"data\"\n",
    "      ],\n",
    "      \"title\": \"Blue Band (B2)\",\n",
    "      \"eo:bands\": [\n",
    "        {\n",
    "          \"gsd\": 30,\n",
    "          \"name\": \"B2\",\n",
    "          \"common_name\": \"blue\",\n",
    "          \"center_wavelength\": 0.48\n",
    "        }\n",
    "      ],\n",
    "      \"description\": \"Collection 2 Level-2 Blue Band (B2) Surface Reflectance\"\n",
    "    },\n",
    "    \"green\": {\n",
    "      \"type\": \"image/vnd.stac.geotiff; cloud-optimized=true\",\n",
    "      \"roles\": [\n",
    "        \"data\"\n",
    "      ],\n",
    "      \"title\": \"Green Band (B3)\",\n",
    "      \"eo:bands\": [\n",
    "        {\n",
    "          \"gsd\": 30,\n",
    "          \"name\": \"B3\",\n",
    "          \"common_name\": \"green\",\n",
    "          \"center_wavelength\": 0.56\n",
    "        }\n",
    "      ],\n",
    "      \"description\": \"Collection 2 Level-2 Green Band (B3) Surface Reflectance\"\n",
    "    },\n",
    "    \"thumbnail\": {\n",
    "      \"type\": \"image/jpeg\",\n",
    "      \"roles\": [\n",
    "        \"thumbnail\"\n",
    "      ],\n",
    "      \"title\": \"Thumbnail image\"\n",
    "    },\n",
    "    \"cog_default\": {\n",
    "      \"type\": \"image/tiff; application=geotiff; profile=cloud-optimized\",\n",
    "      \"roles\": [\n",
    "        \"data\",\n",
    "        \"layer\"\n",
    "      ],\n",
    "      \"title\": \"Default COG Layer\",\n",
    "      \"description\": \"Cloud optimized default layer to display on map\"\n",
    "    }\n",
    "  },\n",
    "  \"stac_version\": \"1.0.0\",\n",
    "  \"dashboard:is_periodic\": \"false\",\n",
    "  \"dashboard:time_density\": \"day\"\n",
    "}"
   ]
  },
  {
   "cell_type": "markdown",
   "id": "f8b91ab1-c92c-4fed-b012-6271a9988be4",
   "metadata": {},
   "source": [
    "## Write to files"
   ]
  },
  {
   "cell_type": "code",
   "execution_count": 6,
   "id": "2bbb4330-787a-4ceb-99a4-a79a12c2f3a2",
   "metadata": {
    "tags": []
   },
   "outputs": [],
   "source": [
    "import json\n",
    "\n",
    "with open(f\"{LAKE_NAME_SLUG}-scenes.json\", \"w\") as fobj:\n",
    "    json.dump(items, fobj, indent=2)\n",
    "    \n",
    "with open(f\"{LAKE_NAME_SLUG}-collection.json\", \"w\") as fobj:\n",
    "    json.dump(collection, fobj, indent=2)"
   ]
  }
 ],
 "metadata": {
  "kernelspec": {
   "display_name": "Python 3 (ipykernel)",
   "language": "python",
   "name": "python3"
  },
  "language_info": {
   "codemirror_mode": {
    "name": "ipython",
    "version": 3
   },
   "file_extension": ".py",
   "mimetype": "text/x-python",
   "name": "python",
   "nbconvert_exporter": "python",
   "pygments_lexer": "ipython3",
   "version": "3.10.10"
  }
 },
 "nbformat": 4,
 "nbformat_minor": 5
}
