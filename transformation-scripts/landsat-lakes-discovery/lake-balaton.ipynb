{
 "cells": [
  {
   "cell_type": "markdown",
   "id": "be8b51ed-ff59-4c03-ae36-fc50386a46b3",
   "metadata": {},
   "source": [
    "## Find scenes for selected path/row"
   ]
  },
  {
   "cell_type": "code",
   "execution_count": 43,
   "id": "8176bd68-88f8-4a81-8e9b-2fefa02b0e89",
   "metadata": {
    "tags": []
   },
   "outputs": [],
   "source": [
    "from pystac_client import Client\n",
    "\n",
    "# Search against the Planetary Computer STAC API\n",
    "catalog = Client.open(\n",
    "  \"https://planetarycomputer.microsoft.com/api/stac/v1\"\n",
    ")\n",
    "\n",
    "# Define your area of interest\n",
    "aoi = {\n",
    "  \"type\": \"Polygon\",\n",
    "  \"coordinates\": [\n",
    "    [\n",
    "      [16.64828162951298, 46.416154263750144],\n",
    "      [18.717592307140762, 46.416154263750144],\n",
    "      [18.717592307140762, 47.267800037379345],\n",
    "      [16.64828162951298, 47.267800037379345],\n",
    "      [16.64828162951298, 46.416154263750144]\n",
    "    ]\n",
    "  ]\n",
    "}\n",
    "\n",
    "# Define your temporal range\n",
    "daterange = {\"interval\": [\"1982-08-22T00:00:00Z\", \"2023-06-21T23:59:59Z\"]}\n",
    "\n",
    "# Define your search with CQL2 syntax\n",
    "search = catalog.search(filter_lang=\"cql2-json\", filter={\n",
    "  \"op\": \"and\",\n",
    "  \"args\": [\n",
    "    {\"op\": \"s_intersects\", \"args\": [{\"property\": \"geometry\"}, aoi]},\n",
    "    {\"op\": \"anyinteracts\", \"args\": [{\"property\": \"datetime\"}, daterange]},\n",
    "    {\"op\": \"=\", \"args\": [{\"property\": \"collection\"}, \"landsat-c2-l2\"]},\n",
    "    {\"op\": \"in\", \"args\": [{\"property\": \"landsat:wrs_path\"}, [\"189\"]]},\n",
    "    {\"op\": \"in\", \"args\": [{\"property\": \"landsat:wrs_row\"}, [\"027\"]]},\n",
    "    {\"op\": \"<=\", \"args\": [{\"property\": \"eo:cloud_cover\"}, 5]}\n",
    "  ]\n",
    "})"
   ]
  },
  {
   "cell_type": "markdown",
   "id": "61357afc-7281-4fcc-8425-a1894e56d79f",
   "metadata": {},
   "source": [
    "## Extract scene IDs"
   ]
  },
  {
   "cell_type": "code",
   "execution_count": 44,
   "id": "781bf81a-d2d0-4b1f-9f5b-8c1c6388c540",
   "metadata": {
    "tags": []
   },
   "outputs": [
    {
     "name": "stderr",
     "output_type": "stream",
     "text": [
      "/Users/ividito/.pyenv/versions/3.11.1/envs/veda-data/lib/python3.11/site-packages/pystac_client/item_search.py:826: FutureWarning: get_items() is deprecated, use items() instead\n",
      "  warnings.warn(\n"
     ]
    },
    {
     "data": {
      "text/plain": [
       "186"
      ]
     },
     "execution_count": 44,
     "metadata": {},
     "output_type": "execute_result"
    }
   ],
   "source": [
    "items = [item.assets[\"red\"].href.split(\"/\")[-1].strip(\"_B4.TIF\").strip(\"_B3.TIF\") for item in search.get_items()]\n",
    "len(items)"
   ]
  },
  {
   "cell_type": "markdown",
   "id": "270f3a17-fa97-4a76-b9b9-f7adb499c0f4",
   "metadata": {},
   "source": [
    "## Generate collection dict"
   ]
  },
  {
   "cell_type": "code",
   "execution_count": 45,
   "id": "15647697-0294-475d-9163-8dbe3f293dcc",
   "metadata": {
    "tags": []
   },
   "outputs": [],
   "source": [
    "LAKE_NAME = \"Lake Balaton\"\n",
    "LAKE_NAME_SLUG = \"lake-balaton\""
   ]
  },
  {
   "cell_type": "code",
   "execution_count": 46,
   "id": "56230505-4907-4fc7-bb2a-f5be100093a3",
   "metadata": {
    "tags": []
   },
   "outputs": [
    {
     "name": "stdout",
     "output_type": "stream",
     "text": [
      "(15.04798484, 46.34951509, 19.16156268, 48.51911491)\n",
      "['1984-09-15T09:09:32Z', '2023-05-22T07:35:18Z']\n"
     ]
    }
   ],
   "source": [
    "import datetime\n",
    "\n",
    "xmin = ymin = 1000\n",
    "xmax = ymax = -1000\n",
    "\n",
    "mindate = datetime.datetime(2100, 1, 1, tzinfo=datetime.timezone.utc)\n",
    "maxdate = datetime.datetime(1900, 1, 1, tzinfo=datetime.timezone.utc)\n",
    "\n",
    "for item in search.get_items():\n",
    "    xmin = min(xmin, item.bbox[0])\n",
    "    ymin = min(ymin, item.bbox[1])\n",
    "    xmax = max(xmax, item.bbox[2])\n",
    "    ymax = max(ymax, item.bbox[3])\n",
    "    \n",
    "    mindate = min(mindate, item.datetime)\n",
    "    maxdate = max(maxdate, item.datetime)\n",
    "\n",
    "BBOX = (xmin, ymin, xmax, ymax)\n",
    "print(BBOX)\n",
    "\n",
    "MIN_DATE = mindate\n",
    "MAX_DATE = maxdate\n",
    "\n",
    "COLLECTION_INTERVAL = [d.strftime(\"%Y-%m-%dT%H:%M:%S\") + \"Z\" for d in (mindate, maxdate)]\n",
    "print(COLLECTION_INTERVAL)"
   ]
  },
  {
   "cell_type": "code",
   "execution_count": 47,
   "id": "dff29fbf-0001-42c0-9058-7fb93ab0396d",
   "metadata": {
    "tags": []
   },
   "outputs": [],
   "source": [
    "collection_id = f\"landsat-c2l2-sr-lakes-{LAKE_NAME_SLUG}\"\n",
    "collection = {\n",
    "  \"id\": f\"landsat-c2l2-sr-lakes-{LAKE_NAME_SLUG}\",\n",
    "  \"type\": \"Collection\",\n",
    "  \"title\": f\"Selected Landsat 7 through 9 Surface Reflectance Scenes for {LAKE_NAME}\",\n",
    "  \"extent\": {\n",
    "    \"spatial\": {\n",
    "      \"bbox\": BBOX\n",
    "    },\n",
    "    \"temporal\": {\n",
    "      \"interval\": [\n",
    "        [\n",
    "          f\"{MIN_DATE:%Y-%m-%dT%H:%M:%S}Z\",\n",
    "          f\"{MAX_DATE:%Y-%m-%dT%H:%M:%S}Z\"\n",
    "        ]\n",
    "      ]\n",
    "    }\n",
    "  },\n",
    "  \"license\": \"https://d9-wret.s3.us-west-2.amazonaws.com/assets/palladium/production/s3fs-public/atoms/files/Landsat_Data_Policy.pdf\",\n",
    "  \"summaries\": {\n",
    "    \"datetime\": [\n",
    "    ],\n",
    "    \"cog_default\": {\n",
    "      \"max\": None,\n",
    "      \"min\": None\n",
    "    }\n",
    "  },\n",
    "  \"description\": f\"Selected low-cloud-cover Landsat Collection-2 Level-2 Surface Reflectance scenes covering {LAKE_NAME}. Products from multiple missions and instruments are combined in this single collection for the purpose of visualizing RGB images. Note that the full item records are not interchangeable across instruments for purposes other than visualization and that the assets available are not the same for each instrument.\",\n",
    "  \"item_assets\": {\n",
    "    \"red\": {\n",
    "      \"type\": \"image/vnd.stac.geotiff; cloud-optimized=true\",\n",
    "      \"roles\": [\n",
    "        \"data\"\n",
    "      ],\n",
    "      \"title\": \"Red Band (B4)\",\n",
    "      \"eo:bands\": [\n",
    "        {\n",
    "          \"gsd\": 30,\n",
    "          \"name\": \"B4\",\n",
    "          \"common_name\": \"red\",\n",
    "          \"center_wavelength\": 0.65\n",
    "        }\n",
    "      ],\n",
    "      \"description\": \"Collection 2 Level-2 Red Band (B4) Surface Reflectance\"\n",
    "    },\n",
    "    \"blue\": {\n",
    "      \"type\": \"image/vnd.stac.geotiff; cloud-optimized=true\",\n",
    "      \"roles\": [\n",
    "        \"data\"\n",
    "      ],\n",
    "      \"title\": \"Blue Band (B2)\",\n",
    "      \"eo:bands\": [\n",
    "        {\n",
    "          \"gsd\": 30,\n",
    "          \"name\": \"B2\",\n",
    "          \"common_name\": \"blue\",\n",
    "          \"center_wavelength\": 0.48\n",
    "        }\n",
    "      ],\n",
    "      \"description\": \"Collection 2 Level-2 Blue Band (B2) Surface Reflectance\"\n",
    "    },\n",
    "    \"green\": {\n",
    "      \"type\": \"image/vnd.stac.geotiff; cloud-optimized=true\",\n",
    "      \"roles\": [\n",
    "        \"data\"\n",
    "      ],\n",
    "      \"title\": \"Green Band (B3)\",\n",
    "      \"eo:bands\": [\n",
    "        {\n",
    "          \"gsd\": 30,\n",
    "          \"name\": \"B3\",\n",
    "          \"common_name\": \"green\",\n",
    "          \"center_wavelength\": 0.56\n",
    "        }\n",
    "      ],\n",
    "      \"description\": \"Collection 2 Level-2 Green Band (B3) Surface Reflectance\"\n",
    "    },\n",
    "    \"thumbnail\": {\n",
    "      \"type\": \"image/jpeg\",\n",
    "      \"roles\": [\n",
    "        \"thumbnail\"\n",
    "      ],\n",
    "      \"title\": \"Thumbnail image\"\n",
    "    },\n",
    "    \"cog_default\": {\n",
    "      \"type\": \"image/tiff; application=geotiff; profile=cloud-optimized\",\n",
    "      \"roles\": [\n",
    "        \"data\",\n",
    "        \"layer\"\n",
    "      ],\n",
    "      \"title\": \"Default COG Layer\",\n",
    "      \"description\": \"Cloud optimized default layer to display on map\"\n",
    "    }\n",
    "  },\n",
    "  \"stac_version\": \"1.0.0\",\n",
    "  \"dashboard:is_periodic\": \"false\",\n",
    "  \"dashboard:time_density\": \"day\"\n",
    "}"
   ]
  },
  {
   "cell_type": "markdown",
   "id": "f8b91ab1-c92c-4fed-b012-6271a9988be4",
   "metadata": {},
   "source": [
    "## Write to files"
   ]
  },
  {
   "cell_type": "code",
   "execution_count": 48,
   "id": "2bbb4330-787a-4ceb-99a4-a79a12c2f3a2",
   "metadata": {
    "tags": []
   },
   "outputs": [],
   "source": [
    "import json\n",
    "\n",
    "with open(f\"{LAKE_NAME_SLUG}-scenes.json\", \"w\") as fobj:\n",
    "    json.dump(items, fobj, indent=2)\n",
    "    \n",
    "with open(f\"{LAKE_NAME_SLUG}-collection.json\", \"w\") as fobj:\n",
    "    json.dump(collection, fobj, indent=2)"
   ]
  },
  {
   "cell_type": "code",
   "execution_count": 49,
   "id": "8e7b2f77",
   "metadata": {},
   "outputs": [],
   "source": [
    "item_links = {\"links\": [\n",
    "                {\n",
    "                    \"rel\": \"collection\",\n",
    "                    \"type\": \"application/json\",\n",
    "                    \"href\": f\"https://staging-stac.delta-backend.com/collections/{collection_id}\"\n",
    "                },\n",
    "                {\n",
    "                    \"rel\": \"parent\",\n",
    "                    \"type\": \"application/json\",\n",
    "                    \"href\": f\"https://staging-stac.delta-backend.com/collections/{collection_id}\"\n",
    "                },\n",
    "                {\n",
    "                    \"rel\": \"root\",\n",
    "                    \"type\": \"application/json\",\n",
    "                    \"href\": \"https://staging-stac.delta-backend.com/\"\n",
    "                },\n",
    "                {\n",
    "                    \"rel\": \"self\",\n",
    "                    \"type\": \"application/geo+json\",\n",
    "                    \"href\": f\"https://staging-stac.delta-backend.com/collections/{collection_id}/items/LC08_L2SR_001113_20230125_20230208_02_T2_SR\"\n",
    "                }\n",
    "            ]}\n",
    "\n",
    "with open(f\"{LAKE_NAME_SLUG}-items.json\", \"w\") as file:\n",
    "    for item in search.items_as_dicts():\n",
    "        item.update(item_links)\n",
    "        item['collection'] = collection_id\n",
    "        file.write(json.dumps(item) + \"\\n\")\n"
   ]
  },
  {
   "cell_type": "code",
   "execution_count": 64,
   "id": "2fe8d692",
   "metadata": {},
   "outputs": [
    {
     "name": "stdout",
     "output_type": "stream",
     "text": [
      "postgis_staging\n"
     ]
    }
   ],
   "source": [
    "%reload_ext dotenv\n",
    "%dotenv -o\n",
    "# non-sensitive secret - to make sure env is loaded\n",
    "# .env should be in same directory as notebook and should be formatted as follows:\n",
    "# DB_HOSTNAME=hostname\n",
    "# DB_USERNAME=username\n",
    "# DB_PASSWORD=password\n",
    "# DB_NAME (not used, just a flag to make sure env is loaded)\n",
    "!echo $DB_NAME\n"
   ]
  },
  {
   "cell_type": "code",
   "execution_count": 69,
   "id": "bf75d1ca",
   "metadata": {},
   "outputs": [],
   "source": [
    "!pypgstac load collections lake-balaton-collection.json --dsn postgresql://$DB_USERNAME:$DB_PASSWORD@$DB_HOSTNAME:5432/postgis --method upsert\n"
   ]
  },
  {
   "cell_type": "code",
   "execution_count": 70,
   "id": "d80b42eb",
   "metadata": {},
   "outputs": [],
   "source": [
    "!pypgstac load items lake-balaton-items.json --dsn postgresql://$DB_USERNAME:$DB_PASSWORD@$DB_HOSTNAME:5432/postgis --method upsert"
   ]
  }
 ],
 "metadata": {
  "kernelspec": {
   "display_name": "Python 3.11.1 64-bit ('veda-data')",
   "language": "python",
   "name": "python3"
  },
  "language_info": {
   "codemirror_mode": {
    "name": "ipython",
    "version": 3
   },
   "file_extension": ".py",
   "mimetype": "text/x-python",
   "name": "python",
   "nbconvert_exporter": "python",
   "pygments_lexer": "ipython3",
   "version": "3.11.1"
  },
  "vscode": {
   "interpreter": {
    "hash": "080db1d87f05ee1069c892ca2ad46e9146c5cedbfae60a7747915a0f923a7e3a"
   }
  }
 },
 "nbformat": 4,
 "nbformat_minor": 5
}
