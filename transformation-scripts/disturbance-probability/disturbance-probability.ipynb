{
 "cells": [
  {
   "attachments": {},
   "cell_type": "markdown",
   "id": "6bb4d8f6-cfef-4d85-bb9b-c1d6b0192824",
   "metadata": {},
   "source": [
    "## Authenticate with VEDA backend"
   ]
  },
  {
   "cell_type": "code",
   "execution_count": 48,
   "id": "db71852a-c1e1-4d2e-94a4-63b5b5892e55",
   "metadata": {
    "tags": []
   },
   "outputs": [
    {
     "name": "stdout",
     "output_type": "stream",
     "text": [
      "\u001b[33mWARNING: You are using pip version 22.0.4; however, version 23.2.1 is available.\n",
      "You should consider upgrading via the '/Users/kathrynaberger/Documents/Work/veda-docs/_env/bin/python -m pip install --upgrade pip' command.\u001b[0m\u001b[33m\n",
      "\u001b[0mNote: you may need to restart the kernel to use updated packages.\n"
     ]
    }
   ],
   "source": [
    "%pip install cognito-client --quiet"
   ]
  },
  {
   "cell_type": "markdown",
   "id": "20ae7996",
   "metadata": {},
   "source": [
    "Running the following cell will trigger a request for your `CognitoClient` `username` and `password`. If you do not already have these credentails please reach out to our VEDA Data Services team for an account to be set up for you. The first time you log in using the `CognitoClient` in this notebook with the new credentials, you'll be prompted to set a new password. "
   ]
  },
  {
   "cell_type": "code",
   "execution_count": 49,
   "id": "8ea93d39-8283-4697-881b-95633a924d08",
   "metadata": {},
   "outputs": [],
   "source": [
    "from cognito_client import CognitoClient\n",
    "\n",
    "client = CognitoClient(\n",
    "    client_id=\"o8c93cebc17upumgstlbqm44f\",\n",
    "    user_pool_id=\"us-west-2_9mMSsMcxw\",\n",
    "    identity_pool_id=\"us-west-2:40f39c19-ab88-4d0b-85a3-3bad4eacbfc0\",\n",
    ")\n",
    "_ = client.login()\n",
    "\n",
    "TOKEN = client.access_token"
   ]
  },
  {
   "cell_type": "code",
   "execution_count": 50,
   "id": "fee35629-2bde-4956-a80a-44626b3de62a",
   "metadata": {},
   "outputs": [],
   "source": [
    "import os\n",
    "\n",
    "import rio_cogeo\n",
    "import rasterio\n",
    "import boto3\n",
    "import requests"
   ]
  },
  {
   "attachments": {},
   "cell_type": "markdown",
   "id": "9ca5a45c-6d87-4e0a-8472-cd63e19ecc8b",
   "metadata": {},
   "source": [
    "## Define item metadata"
   ]
  },
  {
   "cell_type": "code",
   "execution_count": 42,
   "id": "ed0999b4-36c2-4bcf-8ab6-bcd8738deb52",
   "metadata": {},
   "outputs": [],
   "source": [
    "API = \"https://ig9v64uky8.execute-api.us-west-2.amazonaws.com/staging/\"\n",
    "\n",
    "LOCAL_FILE_PATH = \"spec_prob_mosaic_2022-10-03_day.tif\"\n",
    "\n",
    "TARGET_FILENAME = \"spec_prob_mosaic_2022-10-03_day.tif\""
   ]
  },
  {
   "attachments": {},
   "cell_type": "markdown",
   "id": "1035711c-64ee-4e0e-82af-277595f8a415",
   "metadata": {},
   "source": [
    "## Validate data format"
   ]
  },
  {
   "cell_type": "markdown",
   "id": "47e7e5fa",
   "metadata": {},
   "source": [
    "The following code is used to test whether the data format you are planning to upload is Cloud Optimized GeoTiff (COG) that enables more efficient workflows in the cloud environment. If the validation process identifies that it is not a COG, it will convert it into one. "
   ]
  },
  {
   "cell_type": "code",
   "execution_count": 43,
   "id": "286370d2-953b-4bc7-8b43-7db4250a4dd9",
   "metadata": {},
   "outputs": [
    {
     "ename": "RasterioIOError",
     "evalue": "spec_prob_mosaic_2022-10-03_day.tif: No such file or directory",
     "output_type": "error",
     "traceback": [
      "\u001b[0;31m---------------------------------------------------------------------------\u001b[0m",
      "\u001b[0;31mCPLE_OpenFailedError\u001b[0m                      Traceback (most recent call last)",
      "\u001b[0;32mrasterio/_base.pyx\u001b[0m in \u001b[0;36mrasterio._base.DatasetBase.__init__\u001b[0;34m()\u001b[0m\n",
      "\u001b[0;32mrasterio/_base.pyx\u001b[0m in \u001b[0;36mrasterio._base.open_dataset\u001b[0;34m()\u001b[0m\n",
      "\u001b[0;32mrasterio/_err.pyx\u001b[0m in \u001b[0;36mrasterio._err.exc_wrap_pointer\u001b[0;34m()\u001b[0m\n",
      "\u001b[0;31mCPLE_OpenFailedError\u001b[0m: spec_prob_mosaic_2022-10-03_day.tif: No such file or directory",
      "\nDuring handling of the above exception, another exception occurred:\n",
      "\u001b[0;31mRasterioIOError\u001b[0m                           Traceback (most recent call last)",
      "\u001b[0;32m/var/folders/s9/q707z2_n1sjd38cvg62wg4c40000gn/T/ipykernel_2161/2569718684.py\u001b[0m in \u001b[0;36m<cell line: 1>\u001b[0;34m()\u001b[0m\n\u001b[0;32m----> 1\u001b[0;31m \u001b[0mfile_is_a_cog\u001b[0m \u001b[0;34m=\u001b[0m \u001b[0mrio_cogeo\u001b[0m\u001b[0;34m.\u001b[0m\u001b[0mcog_validate\u001b[0m\u001b[0;34m(\u001b[0m\u001b[0mLOCAL_FILE_PATH\u001b[0m\u001b[0;34m)\u001b[0m\u001b[0;34m\u001b[0m\u001b[0;34m\u001b[0m\u001b[0m\n\u001b[0m\u001b[1;32m      2\u001b[0m \u001b[0;32mif\u001b[0m \u001b[0;32mnot\u001b[0m \u001b[0mfile_is_a_cog\u001b[0m\u001b[0;34m:\u001b[0m\u001b[0;34m\u001b[0m\u001b[0;34m\u001b[0m\u001b[0m\n\u001b[1;32m      3\u001b[0m     \u001b[0;32mraise\u001b[0m \u001b[0mValueError\u001b[0m\u001b[0;34m(\u001b[0m\u001b[0;34m)\u001b[0m\u001b[0;34m\u001b[0m\u001b[0;34m\u001b[0m\u001b[0m\n\u001b[1;32m      4\u001b[0m     \u001b[0mprint\u001b[0m\u001b[0;34m(\u001b[0m\u001b[0;34m\"File is not a COG - converting\"\u001b[0m\u001b[0;34m)\u001b[0m\u001b[0;34m\u001b[0m\u001b[0;34m\u001b[0m\u001b[0m\n\u001b[1;32m      5\u001b[0m     \u001b[0mrio_cogeo\u001b[0m\u001b[0;34m.\u001b[0m\u001b[0mcog_translate\u001b[0m\u001b[0;34m(\u001b[0m\u001b[0mLOCAL_FILE_PATH\u001b[0m\u001b[0;34m,\u001b[0m \u001b[0mLOCAL_FILE_PATH\u001b[0m\u001b[0;34m,\u001b[0m \u001b[0min_memory\u001b[0m\u001b[0;34m=\u001b[0m\u001b[0;32mTrue\u001b[0m\u001b[0;34m)\u001b[0m\u001b[0;34m\u001b[0m\u001b[0;34m\u001b[0m\u001b[0m\n",
      "\u001b[0;32m~/Documents/Work/veda-docs/_env/lib/python3.9/site-packages/rio_cogeo/cogeo.py\u001b[0m in \u001b[0;36mcog_validate\u001b[0;34m(src_path, strict, config, quiet)\u001b[0m\n\u001b[1;32m    443\u001b[0m \u001b[0;34m\u001b[0m\u001b[0m\n\u001b[1;32m    444\u001b[0m     \u001b[0;32mwith\u001b[0m \u001b[0mrasterio\u001b[0m\u001b[0;34m.\u001b[0m\u001b[0mEnv\u001b[0m\u001b[0;34m(\u001b[0m\u001b[0;34m**\u001b[0m\u001b[0mconfig\u001b[0m\u001b[0;34m)\u001b[0m\u001b[0;34m:\u001b[0m\u001b[0;34m\u001b[0m\u001b[0;34m\u001b[0m\u001b[0m\n\u001b[0;32m--> 445\u001b[0;31m         \u001b[0;32mwith\u001b[0m \u001b[0mrasterio\u001b[0m\u001b[0;34m.\u001b[0m\u001b[0mopen\u001b[0m\u001b[0;34m(\u001b[0m\u001b[0msrc_path\u001b[0m\u001b[0;34m)\u001b[0m \u001b[0;32mas\u001b[0m \u001b[0msrc\u001b[0m\u001b[0;34m:\u001b[0m\u001b[0;34m\u001b[0m\u001b[0;34m\u001b[0m\u001b[0m\n\u001b[0m\u001b[1;32m    446\u001b[0m             \u001b[0;32mif\u001b[0m \u001b[0;32mnot\u001b[0m \u001b[0msrc\u001b[0m\u001b[0;34m.\u001b[0m\u001b[0mdriver\u001b[0m \u001b[0;34m==\u001b[0m \u001b[0;34m\"GTiff\"\u001b[0m\u001b[0;34m:\u001b[0m\u001b[0;34m\u001b[0m\u001b[0;34m\u001b[0m\u001b[0m\n\u001b[1;32m    447\u001b[0m                 \u001b[0merrors\u001b[0m\u001b[0;34m.\u001b[0m\u001b[0mappend\u001b[0m\u001b[0;34m(\u001b[0m\u001b[0;34m\"The file is not a GeoTIFF\"\u001b[0m\u001b[0;34m)\u001b[0m\u001b[0;34m\u001b[0m\u001b[0;34m\u001b[0m\u001b[0m\n",
      "\u001b[0;32m~/Documents/Work/veda-docs/_env/lib/python3.9/site-packages/rasterio/env.py\u001b[0m in \u001b[0;36mwrapper\u001b[0;34m(*args, **kwds)\u001b[0m\n\u001b[1;32m    449\u001b[0m \u001b[0;34m\u001b[0m\u001b[0m\n\u001b[1;32m    450\u001b[0m         \u001b[0;32mwith\u001b[0m \u001b[0menv_ctor\u001b[0m\u001b[0;34m(\u001b[0m\u001b[0msession\u001b[0m\u001b[0;34m=\u001b[0m\u001b[0msession\u001b[0m\u001b[0;34m)\u001b[0m\u001b[0;34m:\u001b[0m\u001b[0;34m\u001b[0m\u001b[0;34m\u001b[0m\u001b[0m\n\u001b[0;32m--> 451\u001b[0;31m             \u001b[0;32mreturn\u001b[0m \u001b[0mf\u001b[0m\u001b[0;34m(\u001b[0m\u001b[0;34m*\u001b[0m\u001b[0margs\u001b[0m\u001b[0;34m,\u001b[0m \u001b[0;34m**\u001b[0m\u001b[0mkwds\u001b[0m\u001b[0;34m)\u001b[0m\u001b[0;34m\u001b[0m\u001b[0;34m\u001b[0m\u001b[0m\n\u001b[0m\u001b[1;32m    452\u001b[0m \u001b[0;34m\u001b[0m\u001b[0m\n\u001b[1;32m    453\u001b[0m     \u001b[0;32mreturn\u001b[0m \u001b[0mwrapper\u001b[0m\u001b[0;34m\u001b[0m\u001b[0;34m\u001b[0m\u001b[0m\n",
      "\u001b[0;32m~/Documents/Work/veda-docs/_env/lib/python3.9/site-packages/rasterio/__init__.py\u001b[0m in \u001b[0;36mopen\u001b[0;34m(fp, mode, driver, width, height, count, crs, transform, dtype, nodata, sharing, **kwargs)\u001b[0m\n\u001b[1;32m    302\u001b[0m \u001b[0;34m\u001b[0m\u001b[0m\n\u001b[1;32m    303\u001b[0m         \u001b[0;32mif\u001b[0m \u001b[0mmode\u001b[0m \u001b[0;34m==\u001b[0m \u001b[0;34m\"r\"\u001b[0m\u001b[0;34m:\u001b[0m\u001b[0;34m\u001b[0m\u001b[0;34m\u001b[0m\u001b[0m\n\u001b[0;32m--> 304\u001b[0;31m             \u001b[0mdataset\u001b[0m \u001b[0;34m=\u001b[0m \u001b[0mDatasetReader\u001b[0m\u001b[0;34m(\u001b[0m\u001b[0mpath\u001b[0m\u001b[0;34m,\u001b[0m \u001b[0mdriver\u001b[0m\u001b[0;34m=\u001b[0m\u001b[0mdriver\u001b[0m\u001b[0;34m,\u001b[0m \u001b[0msharing\u001b[0m\u001b[0;34m=\u001b[0m\u001b[0msharing\u001b[0m\u001b[0;34m,\u001b[0m \u001b[0;34m**\u001b[0m\u001b[0mkwargs\u001b[0m\u001b[0;34m)\u001b[0m\u001b[0;34m\u001b[0m\u001b[0;34m\u001b[0m\u001b[0m\n\u001b[0m\u001b[1;32m    305\u001b[0m         \u001b[0;32melif\u001b[0m \u001b[0mmode\u001b[0m \u001b[0;34m==\u001b[0m \u001b[0;34m\"r+\"\u001b[0m\u001b[0;34m:\u001b[0m\u001b[0;34m\u001b[0m\u001b[0;34m\u001b[0m\u001b[0m\n\u001b[1;32m    306\u001b[0m             dataset = get_writer_for_path(path, driver=driver)(\n",
      "\u001b[0;32mrasterio/_base.pyx\u001b[0m in \u001b[0;36mrasterio._base.DatasetBase.__init__\u001b[0;34m()\u001b[0m\n",
      "\u001b[0;31mRasterioIOError\u001b[0m: spec_prob_mosaic_2022-10-03_day.tif: No such file or directory"
     ]
    }
   ],
   "source": [
    "file_is_a_cog = rio_cogeo.cog_validate(LOCAL_FILE_PATH)\n",
    "if not file_is_a_cog:\n",
    "    raise ValueError()\n",
    "    print(\"File is not a COG - converting\")\n",
    "    rio_cogeo.cog_translate(LOCAL_FILE_PATH, LOCAL_FILE_PATH, in_memory=True)"
   ]
  },
  {
   "attachments": {},
   "cell_type": "markdown",
   "id": "a41dbfc8-475b-430a-bd6b-84275857b2ec",
   "metadata": {},
   "source": [
    "## Upload file to S3"
   ]
  },
  {
   "cell_type": "markdown",
   "id": "6fb9cc0f",
   "metadata": {},
   "source": [
    "The following code will upload your COG data into `veda-data-store-staging` bucket. It will use the `TARGET_FILENAME` to assign the correct month and year values we have provided earlier in this notebook, under the `disturbance-probability-percentile` bucket on `S3`."
   ]
  },
  {
   "cell_type": "code",
   "execution_count": 44,
   "id": "5b3fb388-f021-4719-aca7-7f9bebb0f378",
   "metadata": {},
   "outputs": [],
   "source": [
    "s3 = boto3.client(\"s3\")\n",
    "BUCKET = \"veda-data-store-staging\"\n",
    "KEY = f\"{BUCKET}/disturbance-probability-percentile/{TARGET_FILENAME}\"\n",
    "S3_FILE_LOCATION = f\"s3://{KEY}\"\n",
    "\n",
    "if False:\n",
    "    s3.upload_file(LOCAL_FILE_PATH, KEY)"
   ]
  },
  {
   "attachments": {},
   "cell_type": "markdown",
   "id": "2943e433-0ce7-43af-9802-7d90f5abe26c",
   "metadata": {},
   "source": [
    "## Construct dataset definition"
   ]
  },
  {
   "cell_type": "code",
   "execution_count": 53,
   "id": "4a046ad1-c5ad-4212-ac33-bb7c3e0f7a97",
   "metadata": {},
   "outputs": [
    {
     "name": "stdout",
     "output_type": "stream",
     "text": [
      "{\n",
      "  \"collection\": \"disturbance-probability-percentile\",\n",
      "  \"title\": \"Near Real-time Disturbance probability map (%)\",\n",
      "  \"data_type\": \"cog\",\n",
      "  \"spatial_extent\": {\n",
      "    \"bbox\": [\n",
      "      [\n",
      "        -84.132,\n",
      "        25.224,\n",
      "        -79.853,\n",
      "        30.728\n",
      "      ]\n",
      "    ]\n",
      "  },\n",
      "  \"temporal_extent\": {\n",
      "    \"startdate\": \"2022-10-03T00:00:00Z\",\n",
      "    \"enddate\": \"2022-10-03T23:59:59Z\"\n",
      "  },\n",
      "  \"license\": \"CC0-1.0\",\n",
      "  \"providers\": [\n",
      "    {\n",
      "      \"name\": \"Su Ye\",\n",
      "      \"description\": \"Su Ye was a Postdoc associate of GERS lab who developed the core disturbance detection algorithms and built the NRT platform.\",\n",
      "      \"roles\": [\n",
      "        \"producer\"\n",
      "      ],\n",
      "      \"url\": \"https://gers.users.earthengine.app/view/nrt-conus\"\n",
      "    },\n",
      "    {\n",
      "      \"name\": \"Zhe Zhu\",\n",
      "      \"description\": \"Zhe Zhu is an Assistant Professor in the Department of Natural Resources & the Environment at the University of Connecticut. Zhe led the development of the core disturbanc detection algorithms.\",\n",
      "      \"roles\": [\n",
      "        \"producer\"\n",
      "      ],\n",
      "      \"url\": \"https://gers.users.earthengine.app/view/nrt-conus\"\n",
      "    },\n",
      "    {\n",
      "      \"name\": \"Global Environmental Remote Sensing Laboratory\",\n",
      "      \"description\": \"The Global Environmental Remote Sensing Laboratory (GERS Lab) at the University of Connecticut uses quantitative remote sensing to understand how the world is changing.\",\n",
      "      \"roles\": [\n",
      "        \"host\"\n",
      "      ],\n",
      "      \"url\": \"https://gerslab.uconn.edu/\"\n",
      "    }\n",
      "  ],\n",
      "  \"description\": \"The UCONN GERS lab developed a near real-time platform ('CONUS Disturbance Watcher') for detecting land disturbances from Harmonized Landsat Sentinel-2 (HLS) dataset. The platform first applied Stochastic Continuous Change Detection (S-CCD) to update spectral change magnitudes and other disturbance features based upon the latest images, and then predicts disturbance probability using the pre-trained models from historical disturbance datasets.\",\n",
      "  \"is_periodic\": false,\n",
      "  \"time_density\": null,\n",
      "  \"sample_files\": [\n",
      "    \"s3://veda-data-store-staging/disturbance-probability-percentile/spec_prob_mosaic_2022-10-03_day.tif\"\n",
      "  ],\n",
      "  \"discovery_items\": [\n",
      "    {\n",
      "      \"discovery\": \"s3\",\n",
      "      \"prefix\": \"disturbance-probability-percentile/\",\n",
      "      \"bucket\": \"veda-data-store-staging\",\n",
      "      \"filename_regex\": \"(.*)spec_prob_mosaic_2022-10-03_day.tif$\"\n",
      "    }\n",
      "  ]\n",
      "}\n"
     ]
    }
   ],
   "source": [
    "dataset = {\n",
    "    \"collection\": \"disturbance-probability-percentile\",\n",
    "    \"title\": \"Near Real-time Disturbance probability map (%)\",\n",
    "    \"data_type\": \"cog\",\n",
    "    \"spatial_extent\": {\"bbox\": [[-84.132, 25.224, -79.853, 30.728]]},\n",
    "    \"temporal_extent\": {\n",
    "        \"startdate\": \"2022-10-03T00:00:00Z\",\n",
    "        \"enddate\": \"2022-10-03T23:59:59Z\",\n",
    "    },\n",
    "    \"license\": \"CC0-1.0\",\n",
    "    \"providers\": [\n",
    "        {\n",
    "            \"name\": \"Su Ye\",\n",
    "            \"description\": \"Su Ye was a Postdoc associate of GERS lab who developed the core disturbance detection algorithms and built the NRT platform.\",\n",
    "            \"roles\": [\n",
    "                \"producer\",\n",
    "            ],\n",
    "            \"url\": \"https://gers.users.earthengine.app/view/nrt-conus\",\n",
    "        },\n",
    "        {\n",
    "            \"name\": \"Zhe Zhu\",\n",
    "            \"description\": \"Zhe Zhu is an Assistant Professor in the Department of Natural Resources & the Environment at the University of Connecticut. Zhe led the development of the core disturbanc detection algorithms.\",\n",
    "            \"roles\": [\n",
    "                \"producer\",\n",
    "            ],\n",
    "            \"url\": \"https://gers.users.earthengine.app/view/nrt-conus\",\n",
    "        },\n",
    "        {\n",
    "            \"name\": \"Global Environmental Remote Sensing Laboratory\",\n",
    "            \"description\": \"The Global Environmental Remote Sensing Laboratory (GERS Lab) at the University of Connecticut uses quantitative remote sensing to understand how the world is changing.\",\n",
    "            \"roles\": [\n",
    "                \"host\",\n",
    "            ],\n",
    "            \"url\": \"https://gerslab.uconn.edu/\",\n",
    "        },\n",
    "    ],\n",
    "    \"description\": \"The UCONN GERS lab developed a near real-time platform ('CONUS Disturbance Watcher') for detecting land disturbances from Harmonized Landsat Sentinel-2 (HLS) dataset. The platform first applied Stochastic Continuous Change Detection (S-CCD) to update spectral change magnitudes and other disturbance features based upon the latest images, and then predicts disturbance probability using the pre-trained models from historical disturbance datasets.\",\n",
    "    \"is_periodic\": False,\n",
    "    \"time_density\": None,\n",
    "    \"sample_files\": [S3_FILE_LOCATION],\n",
    "    \"discovery_items\": [\n",
    "        {\n",
    "            \"discovery\": \"s3\",\n",
    "            \"prefix\": \"disturbance-probability-percentile/\",\n",
    "            \"bucket\": \"veda-data-store-staging\",\n",
    "            \"filename_regex\": f\"(.*){TARGET_FILENAME}$\",\n",
    "        }\n",
    "    ],\n",
    "}\n",
    "import json\n",
    "\n",
    "print(json.dumps(dataset, indent=2))"
   ]
  },
  {
   "attachments": {},
   "cell_type": "markdown",
   "id": "98371241-acf4-4e2d-bb44-24dcf1c03d51",
   "metadata": {},
   "source": [
    "## Validate dataset definition"
   ]
  },
  {
   "cell_type": "markdown",
   "id": "be31f24a",
   "metadata": {},
   "source": [
    "The following code block is used to validate the above dataset definition, and if valid, confirms that it is ready to be published on the VEDA Platform. "
   ]
  },
  {
   "cell_type": "code",
   "execution_count": 54,
   "id": "cbe0b0b3-0dcb-4339-a110-079dae3dfca7",
   "metadata": {},
   "outputs": [
    {
     "ename": "HTTPError",
     "evalue": "500 Server Error: Internal Server Error for url: https://ig9v64uky8.execute-api.us-west-2.amazonaws.com/staging/dataset/validate",
     "output_type": "error",
     "traceback": [
      "\u001b[0;31m---------------------------------------------------------------------------\u001b[0m",
      "\u001b[0;31mHTTPError\u001b[0m                                 Traceback (most recent call last)",
      "\u001b[0;32m/var/folders/s9/q707z2_n1sjd38cvg62wg4c40000gn/T/ipykernel_2161/149992075.py\u001b[0m in \u001b[0;36m<cell line: 8>\u001b[0;34m()\u001b[0m\n\u001b[1;32m      6\u001b[0m }\n\u001b[1;32m      7\u001b[0m \u001b[0mresponse\u001b[0m \u001b[0;34m=\u001b[0m \u001b[0mrequests\u001b[0m\u001b[0;34m.\u001b[0m\u001b[0mpost\u001b[0m\u001b[0;34m(\u001b[0m\u001b[0;34m(\u001b[0m\u001b[0mAPI\u001b[0m \u001b[0;34m+\u001b[0m \u001b[0;34m\"dataset/validate\"\u001b[0m\u001b[0;34m)\u001b[0m\u001b[0;34m,\u001b[0m \u001b[0mjson\u001b[0m\u001b[0;34m=\u001b[0m\u001b[0mdataset\u001b[0m\u001b[0;34m,\u001b[0m \u001b[0mheaders\u001b[0m\u001b[0;34m=\u001b[0m\u001b[0mheaders\u001b[0m\u001b[0;34m)\u001b[0m\u001b[0;34m\u001b[0m\u001b[0;34m\u001b[0m\u001b[0m\n\u001b[0;32m----> 8\u001b[0;31m \u001b[0mresponse\u001b[0m\u001b[0;34m.\u001b[0m\u001b[0mraise_for_status\u001b[0m\u001b[0;34m(\u001b[0m\u001b[0;34m)\u001b[0m\u001b[0;34m\u001b[0m\u001b[0;34m\u001b[0m\u001b[0m\n\u001b[0m\u001b[1;32m      9\u001b[0m \u001b[0mprint\u001b[0m\u001b[0;34m(\u001b[0m\u001b[0mresponse\u001b[0m\u001b[0;34m.\u001b[0m\u001b[0mtext\u001b[0m\u001b[0;34m)\u001b[0m\u001b[0;34m\u001b[0m\u001b[0;34m\u001b[0m\u001b[0m\n",
      "\u001b[0;32m~/Documents/Work/veda-docs/_env/lib/python3.9/site-packages/requests/models.py\u001b[0m in \u001b[0;36mraise_for_status\u001b[0;34m(self)\u001b[0m\n\u001b[1;32m   1019\u001b[0m \u001b[0;34m\u001b[0m\u001b[0m\n\u001b[1;32m   1020\u001b[0m         \u001b[0;32mif\u001b[0m \u001b[0mhttp_error_msg\u001b[0m\u001b[0;34m:\u001b[0m\u001b[0;34m\u001b[0m\u001b[0;34m\u001b[0m\u001b[0m\n\u001b[0;32m-> 1021\u001b[0;31m             \u001b[0;32mraise\u001b[0m \u001b[0mHTTPError\u001b[0m\u001b[0;34m(\u001b[0m\u001b[0mhttp_error_msg\u001b[0m\u001b[0;34m,\u001b[0m \u001b[0mresponse\u001b[0m\u001b[0;34m=\u001b[0m\u001b[0mself\u001b[0m\u001b[0;34m)\u001b[0m\u001b[0;34m\u001b[0m\u001b[0;34m\u001b[0m\u001b[0m\n\u001b[0m\u001b[1;32m   1022\u001b[0m \u001b[0;34m\u001b[0m\u001b[0m\n\u001b[1;32m   1023\u001b[0m     \u001b[0;32mdef\u001b[0m \u001b[0mclose\u001b[0m\u001b[0;34m(\u001b[0m\u001b[0mself\u001b[0m\u001b[0;34m)\u001b[0m\u001b[0;34m:\u001b[0m\u001b[0;34m\u001b[0m\u001b[0;34m\u001b[0m\u001b[0m\n",
      "\u001b[0;31mHTTPError\u001b[0m: 500 Server Error: Internal Server Error for url: https://ig9v64uky8.execute-api.us-west-2.amazonaws.com/staging/dataset/validate"
     ]
    }
   ],
   "source": [
    "auth_header = f\"Bearer {TOKEN}\"\n",
    "headers = {\n",
    "    \"Authorization\": auth_header,\n",
    "    \"content-type\": \"application/json\",\n",
    "    \"accept\": \"application/json\",\n",
    "}\n",
    "response = requests.post((API + \"dataset/validate\"), json=dataset, headers=headers)\n",
    "response.raise_for_status()\n",
    "print(response.text)"
   ]
  },
  {
   "attachments": {},
   "cell_type": "markdown",
   "id": "ff44ef07-c1fa-4701-986e-cff480accc2a",
   "metadata": {},
   "source": [
    "## Publish to STAC"
   ]
  },
  {
   "cell_type": "markdown",
   "id": "7492daef",
   "metadata": {},
   "source": [
    "The final code block below will initiate a workflow and publish the dataset to the VEDA Platform. "
   ]
  },
  {
   "cell_type": "code",
   "execution_count": 55,
   "id": "0c313547-be85-401e-a5e8-eaa486cbcd41",
   "metadata": {},
   "outputs": [
    {
     "ename": "HTTPError",
     "evalue": "500 Server Error: Internal Server Error for url: https://ig9v64uky8.execute-api.us-west-2.amazonaws.com/staging/dataset/publish",
     "output_type": "error",
     "traceback": [
      "\u001b[0;31m---------------------------------------------------------------------------\u001b[0m",
      "\u001b[0;31mHTTPError\u001b[0m                                 Traceback (most recent call last)",
      "\u001b[0;32m/var/folders/s9/q707z2_n1sjd38cvg62wg4c40000gn/T/ipykernel_2161/190704095.py\u001b[0m in \u001b[0;36m<cell line: 2>\u001b[0;34m()\u001b[0m\n\u001b[1;32m      1\u001b[0m \u001b[0mresponse\u001b[0m \u001b[0;34m=\u001b[0m \u001b[0mrequests\u001b[0m\u001b[0;34m.\u001b[0m\u001b[0mpost\u001b[0m\u001b[0;34m(\u001b[0m\u001b[0;34m(\u001b[0m\u001b[0mAPI\u001b[0m \u001b[0;34m+\u001b[0m \u001b[0;34m\"dataset/publish\"\u001b[0m\u001b[0;34m)\u001b[0m\u001b[0;34m,\u001b[0m \u001b[0mjson\u001b[0m\u001b[0;34m=\u001b[0m\u001b[0mdataset\u001b[0m\u001b[0;34m,\u001b[0m \u001b[0mheaders\u001b[0m\u001b[0;34m=\u001b[0m\u001b[0mheaders\u001b[0m\u001b[0;34m)\u001b[0m\u001b[0;34m\u001b[0m\u001b[0;34m\u001b[0m\u001b[0m\n\u001b[0;32m----> 2\u001b[0;31m \u001b[0mresponse\u001b[0m\u001b[0;34m.\u001b[0m\u001b[0mraise_for_status\u001b[0m\u001b[0;34m(\u001b[0m\u001b[0;34m)\u001b[0m\u001b[0;34m\u001b[0m\u001b[0;34m\u001b[0m\u001b[0m\n\u001b[0m\u001b[1;32m      3\u001b[0m \u001b[0mprint\u001b[0m\u001b[0;34m(\u001b[0m\u001b[0mresponse\u001b[0m\u001b[0;34m.\u001b[0m\u001b[0mtext\u001b[0m\u001b[0;34m)\u001b[0m\u001b[0;34m\u001b[0m\u001b[0;34m\u001b[0m\u001b[0m\n",
      "\u001b[0;32m~/Documents/Work/veda-docs/_env/lib/python3.9/site-packages/requests/models.py\u001b[0m in \u001b[0;36mraise_for_status\u001b[0;34m(self)\u001b[0m\n\u001b[1;32m   1019\u001b[0m \u001b[0;34m\u001b[0m\u001b[0m\n\u001b[1;32m   1020\u001b[0m         \u001b[0;32mif\u001b[0m \u001b[0mhttp_error_msg\u001b[0m\u001b[0;34m:\u001b[0m\u001b[0;34m\u001b[0m\u001b[0;34m\u001b[0m\u001b[0m\n\u001b[0;32m-> 1021\u001b[0;31m             \u001b[0;32mraise\u001b[0m \u001b[0mHTTPError\u001b[0m\u001b[0;34m(\u001b[0m\u001b[0mhttp_error_msg\u001b[0m\u001b[0;34m,\u001b[0m \u001b[0mresponse\u001b[0m\u001b[0;34m=\u001b[0m\u001b[0mself\u001b[0m\u001b[0;34m)\u001b[0m\u001b[0;34m\u001b[0m\u001b[0;34m\u001b[0m\u001b[0m\n\u001b[0m\u001b[1;32m   1022\u001b[0m \u001b[0;34m\u001b[0m\u001b[0m\n\u001b[1;32m   1023\u001b[0m     \u001b[0;32mdef\u001b[0m \u001b[0mclose\u001b[0m\u001b[0;34m(\u001b[0m\u001b[0mself\u001b[0m\u001b[0;34m)\u001b[0m\u001b[0;34m:\u001b[0m\u001b[0;34m\u001b[0m\u001b[0;34m\u001b[0m\u001b[0m\n",
      "\u001b[0;31mHTTPError\u001b[0m: 500 Server Error: Internal Server Error for url: https://ig9v64uky8.execute-api.us-west-2.amazonaws.com/staging/dataset/publish"
     ]
    }
   ],
   "source": [
    "response = requests.post((API + \"dataset/publish\"), json=dataset, headers=headers)\n",
    "response.raise_for_status()\n",
    "print(response.text)"
   ]
  },
  {
   "cell_type": "markdown",
   "id": "8794df9a",
   "metadata": {},
   "source": [
    "Congratulations! You have now successfully uploaded a COG dataset to the [VEDA Dashboard](https://www.earthdata.nasa.gov/dashboard/). You can now explore the data catalog to verify the ingestion process has worked successfully, as now uploaded data should be ready for viewing and exploration. "
   ]
  }
 ],
 "metadata": {
  "kernelspec": {
   "display_name": "_env",
   "language": "python",
   "name": "_env"
  },
  "language_info": {
   "codemirror_mode": {
    "name": "ipython",
    "version": 3
   },
   "file_extension": ".py",
   "mimetype": "text/x-python",
   "name": "python",
   "nbconvert_exporter": "python",
   "pygments_lexer": "ipython3",
   "version": "3.9.15"
  }
 },
 "nbformat": 4,
 "nbformat_minor": 5
}
