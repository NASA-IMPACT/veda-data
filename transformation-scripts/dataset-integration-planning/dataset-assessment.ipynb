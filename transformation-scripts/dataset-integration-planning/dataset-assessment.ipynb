{
 "cells": [
  {
   "cell_type": "markdown",
   "id": "9510c939-e383-4d91-b6b2-03db06042d7f",
   "metadata": {},
   "source": [
    "# High priority dataset assessment"
   ]
  },
  {
   "cell_type": "markdown",
   "id": "327f1469-5ea4-46ee-8ffb-290be27ba875",
   "metadata": {},
   "source": [
    "![dataset-integration-paths.png](dataset-integration-paths.png)"
   ]
  },
  {
   "attachments": {},
   "cell_type": "markdown",
   "id": "7d8c747a-d389-41af-8145-a62834f55c22",
   "metadata": {},
   "source": [
    "|                     | Integration path | Portal       | Data services team work                                                                                                         | ODD team work                                                                                                                                                                             | UI work                                                                                                                                                                                           |\n",
    "|---------------------|------------------|--------------|---------------------------------------------------------------------------------------------------------------------------------|-------------------------------------------------------------------------------------------------------------------------------------------------------------------------------------------|---------------------------------------------------------------------------------------------------------------------------------------------------------------------------------------------------|\n",
    "| NLDAS-3             | 2                | WaterInsight | Move NetCDFs to ODR Publish STAC collection + items                                                                             | Upgrade titiler-multidim to use `sel` and  `sel_method` parameters for both /tiles and /statistics.  NOTE: Check this is true for this dataset. Regardless it is true for BlueFlux.       | Integrate titiler-multidim /tiles and /statistics for STAC items                                                                                                                                  |\n",
    "| MiCASA              | 5                | GHG Center   | Publish STAC collection                                                                                                         | Fix /statistics endpoint (in-progress)                                                                                                                                                    | (in-progress) Integrate titiler-cmr timeseries into the UI                                                                                                                                        |\n",
    "| BlueFlux            | 2                | GHG Center   | Move NetCDFs to VEDA bucket Publish STAC collection + items                                                                     | Same as NLDAS-3                                                                                                                                                                           | Same as NLDAS-3 + pass sel + sel_method parameters                                                                                                                                                |\n",
    "| MUR SST (NetCDFs)   | 5                | Coastal      | Publish STAC collection                                                                                                         | None                                                                                                                                                                                      | Same as MiCASA                                                                                                                                                                                    |\n",
    "| MUR SST (icechunk)  | 4                | Coastal      | Publish STAC collection(s)  NOTE: Currently this is 2 icechunk stores. Publishing 2 collections is most straightforward option. | Enable titiler/titiler-multidim to read icechunk stores and produce timeseries from icechunk stores.  NOTE: We may be blocked on this until PO.DAAC enables requester-pays and icechunk supports it OR we use EDL credential rotation. | Once titiler-multidim can read icechunk stores, tiles should work via zarr-timeseries. The UI will need to be able to generate timeseries from titiler-multidim via a STAC collection.  |"
   ]
  },
  {
   "cell_type": "code",
   "execution_count": 1,
   "id": "59493d22-d383-4839-a3c9-1185dbfa64b3",
   "metadata": {},
   "outputs": [],
   "source": [
    "import requests\n",
    "import json\n",
    "\n",
    "multidim_base_url = \"https://staging.openveda.cloud/api/titiler-multidim\"\n",
    "cmr_base_url = \"https://staging.openveda.cloud/api/titiler-cmr\"\n",
    "\n",
    "wa_state_coords = [\n",
    "    [-116, 45],\n",
    "    [-116, 48],\n",
    "    [-124, 48],\n",
    "    [-124, 45],\n",
    "    [-116, 45]\n",
    "]\n",
    "\n",
    "timeseries_headers = {\n",
    "    \"accept\": \"application/geo+json\",\n",
    "    \"Content-Type\": \"application/json\"\n",
    "}\n",
    "\n",
    "tile_headers = {\n",
    "    \"accept\": \"image/png\"\n",
    "}\n",
    "\n",
    "geojson_data = {\n",
    "    \"type\": \"FeatureCollection\",\n",
    "    \"features\": [\n",
    "        {\n",
    "            \"type\": \"Feature\",\n",
    "            \"properties\": {},\n",
    "            \"geometry\": {\n",
    "                \"coordinates\": [ wa_state_coords ],\n",
    "                \"type\": \"Polygon\"\n",
    "            }\n",
    "        }\n",
    "    ]\n",
    "}"
   ]
  },
  {
   "cell_type": "markdown",
   "id": "b277c0a3-dc9a-4823-bde1-5cfe8def1339",
   "metadata": {},
   "source": [
    "## Portal: WaterInsight"
   ]
  },
  {
   "cell_type": "markdown",
   "id": "5c2e4b11-ec3a-4c57-8655-fc4590f4be68",
   "metadata": {},
   "source": [
    "### NLDAS-3 (titiler-multidim via ODR)\n",
    "\n",
    "### Where is the data? \n",
    "\n",
    "* Planned to be NetCDFs on AWS open data registry\n",
    "* Right now it is in the protected bucket s3://nasa-waterinsight, Sid provided me (Aimee) with credentials for access\n",
    "\n",
    "### Can we visualize this data using titiler-multidim?\n",
    "\n",
    "Yes:"
   ]
  },
  {
   "cell_type": "code",
   "execution_count": 6,
   "id": "450844c8-12c6-4b24-9724-05b8b3fed15b",
   "metadata": {},
   "outputs": [
    {
     "name": "stdout",
     "output_type": "stream",
     "text": [
      "\n",
      "=== TILES API RESPONSE ===\n",
      "Success! Received PNG tile image\n",
      "Content-Type: image/png\n",
      "Content-Length: 9047 bytes\n"
     ]
    }
   ],
   "source": [
    "tiles_params = {\n",
    "    \"scale\": \"1\",\n",
    "    \"format\": \"png\",\n",
    "    \"url\": \"s3://nasa-eodc-public/NLDAS3/forcing/monthly/2023/NLDAS_FOR0010_M.A202301.030.beta.nc\",\n",
    "    \"variable\": \"Tair\",\n",
    "    \"decode_times\": \"false\",\n",
    "    \"colormap_name\": \"balance\",\n",
    "    \"rescale\": \"230,303\"  # Temperature range in Kelvin (230K = -43°C, 303K = 30°C)\n",
    "}\n",
    "\n",
    "# Make the GET request for tile\n",
    "tiles_response = requests.get(\n",
    "    url=f\"{multidim_base_url}/tiles/WebMercatorQuad/0/0/0\",\n",
    "    params=tiles_params\n",
    ")\n",
    "\n",
    "if tiles_response.status_code == 200:\n",
    "    print(\"Success! Received PNG tile image\")\n",
    "    print(f\"Content-Type: {tiles_response.headers.get('content-type')}\")\n",
    "    print(f\"Content-Length: {len(tiles_response.content)} bytes\")\n",
    "    \n",
    "    # Optionally save the tile image\n",
    "    # with open(\"tile_0_0_0.png\", \"wb\") as f:\n",
    "    #     f.write(tiles_response.content)\n",
    "    #     print(\"Tile saved as tile_0_0_0.png\")\n",
    "else:\n",
    "    print(f\"Error: {tiles_response.status_code}\")\n",
    "    print(tiles_response.text)"
   ]
  },
  {
   "cell_type": "markdown",
   "id": "d242ee99-1ddf-4312-bb87-2a0fa223cbfd",
   "metadata": {},
   "source": [
    "### Can we visualize it in VEDA UI? \n",
    "\n",
    "👷 Not yet: VEDA UI does not have an integration titiler-multidim item-based visualization, only for a single zarr endpoint. \n",
    "\n",
    "In theory if we had an icechunk store, and titiler/titiler-multidim supported reading icechunk, we could visualize it.\n"
   ]
  },
  {
   "cell_type": "markdown",
   "id": "d4a63dc8-0aed-45d4-ba9e-f2f1104664f7",
   "metadata": {},
   "source": [
    "### Can we produce time series using titiler-multidim?\n",
    "\n",
    "👷 No: titiler-multidim produces statistics for a given URL. Integration into the UI means we need:\n",
    "\n",
    "1. To index all the items into STAC (data services team)\n",
    "2. The UI to query STAC for items and then make request to all individual items."
   ]
  },
  {
   "cell_type": "code",
   "execution_count": 5,
   "id": "6224cd71-12a5-4733-aecd-d973c88c7bf1",
   "metadata": {},
   "outputs": [
    {
     "name": "stdout",
     "output_type": "stream",
     "text": [
      "Success!\n"
     ]
    }
   ],
   "source": [
    "# Query parameters\n",
    "params = {\n",
    "    \"url\": \"s3://nasa-eodc-public/NLDAS3/forcing/monthly/2023/NLDAS_FOR0010_M.A202301.030.beta.nc\",\n",
    "    \"variable\": \"Tair\",\n",
    "    \"decode_times\": \"false\",\n",
    "    \"histogram_bins\": \"8\"\n",
    "}\n",
    "\n",
    "# Make the POST request\n",
    "response = requests.post(\n",
    "    url=f\"{multidim_base_url}/statistics\",\n",
    "    params=params,\n",
    "    headers=timeseries_headers,\n",
    "    json=geojson_data  # Using json parameter automatically handles JSON serialization\n",
    ")\n",
    "\n",
    "# Check response\n",
    "if response.status_code == 200:\n",
    "    result = response.json()\n",
    "    print(\"Success!\")\n",
    "    # print(json.dumps(result, indent=2))\n",
    "else:\n",
    "    print(f\"Error: {response.status_code}\")\n",
    "    print(response.text)"
   ]
  },
  {
   "cell_type": "code",
   "execution_count": null,
   "id": "49262859-a2e3-4ffd-800a-dbc257431e84",
   "metadata": {},
   "outputs": [],
   "source": [
    "Can we produce time series in VEDA UI?\n",
    "No, VEDA UI does not have an integration with titiler-multidim for time series generation.\n"
   ]
  },
  {
   "cell_type": "markdown",
   "id": "9ef3b2a1-3567-4624-8a1a-b209140b6e9a",
   "metadata": {},
   "source": [
    "## GHG Center"
   ]
  },
  {
   "cell_type": "markdown",
   "id": "0db3296e-934a-429f-abe8-20c10d7640c1",
   "metadata": {},
   "source": [
    "### MiCASA (titiler-cmr via GES DISC)"
   ]
  },
  {
   "cell_type": "markdown",
   "id": "e391346b-703b-41c2-808e-172fce6e5952",
   "metadata": {},
   "source": [
    "### Can we visualize the dataset?"
   ]
  },
  {
   "cell_type": "code",
   "execution_count": 9,
   "id": "1229c7d6-a65e-4a59-a26d-9154a0a6e82c",
   "metadata": {},
   "outputs": [
    {
     "name": "stdout",
     "output_type": "stream",
     "text": [
      "Success! Received PNG tile image\n",
      "Content-Type: image/jpeg\n",
      "Content-Length: 4124 bytes\n"
     ]
    }
   ],
   "source": [
    "# Query parameters\n",
    "cmr_params = {\n",
    "    \"scale\": \"1\",\n",
    "    \"concept_id\": \"C3273639213-GES_DISC\",\n",
    "    \"datetime\": \"2018-02-12T09:00:00Z\",\n",
    "    \"variable\": \"NPP\",\n",
    "    \"backend\": \"xarray\",\n",
    "    \"colormap_name\": \"purd\",\n",
    "    \"rescale\": \"0,0.00000008\"\n",
    "}\n",
    "\n",
    "# Make the GET request\n",
    "response = requests.get(\n",
    "    url=f\"{cmr_base_url}/tiles/WebMercatorQuad/0/0/0\",\n",
    "    params=cmr_params,\n",
    "    headers=tile_headers\n",
    ")\n",
    "\n",
    "# Check response\n",
    "if response.status_code == 200:\n",
    "    print(\"Success! Received PNG tile image\")\n",
    "    print(f\"Content-Type: {response.headers.get('content-type')}\")\n",
    "    print(f\"Content-Length: {len(response.content)} bytes\")\n",
    "    \n",
    "    # Optionally save the tile image\n",
    "    # with open(\"cmr_tile_0_0_0.png\", \"wb\") as f:\n",
    "    #     f.write(response.content)\n",
    "    #     print(\"Tile saved as cmr_tile_0_0_0.png\")\n",
    "else:\n",
    "    print(f\"Error: {response.status_code}\")\n",
    "    print(response.text)"
   ]
  },
  {
   "cell_type": "markdown",
   "id": "e58e1e01-96f3-4a01-a2d8-8b15335a2f96",
   "metadata": {},
   "source": [
    "### Can we visualize it in the UI?\n",
    "\n",
    "Almost certain this will work given existing GPM IMERG implementation."
   ]
  },
  {
   "cell_type": "markdown",
   "id": "7e2c5cc2-0256-4d2f-a2e2-eec84eef91ea",
   "metadata": {},
   "source": [
    "### Can we produce time series?\n",
    "\n",
    "🐛 Maybe? Perhaps there is a bug"
   ]
  },
  {
   "cell_type": "code",
   "execution_count": 15,
   "id": "8e82c25f-e306-40fc-bad7-e77e1b7ab8b4",
   "metadata": {},
   "outputs": [
    {
     "ename": "HTTPError",
     "evalue": "500 Server Error: Internal Server Error for url: https://staging.openveda.cloud/api/titiler-cmr/timeseries/statistics?concept_id=C3273639213-GES_DISC&datetime=2022-03-01T00%3A00%3A01Z%2F2022-03-10T23%3A59%3A59Z&step=P1D&temporal_mode=point&variable=NPP&backend=xarray",
     "output_type": "error",
     "traceback": [
      "\u001b[0;31m---------------------------------------------------------------------------\u001b[0m",
      "\u001b[0;31mHTTPError\u001b[0m                                 Traceback (most recent call last)",
      "Cell \u001b[0;32mIn[15], line 15\u001b[0m\n\u001b[1;32m      1\u001b[0m request \u001b[38;5;241m=\u001b[39m requests\u001b[38;5;241m.\u001b[39mpost(\n\u001b[1;32m      2\u001b[0m     \u001b[38;5;124mf\u001b[39m\u001b[38;5;124m\"\u001b[39m\u001b[38;5;132;01m{\u001b[39;00mcmr_base_url\u001b[38;5;132;01m}\u001b[39;00m\u001b[38;5;124m/timeseries/statistics\u001b[39m\u001b[38;5;124m\"\u001b[39m,\n\u001b[1;32m      3\u001b[0m     params\u001b[38;5;241m=\u001b[39m{\n\u001b[0;32m   (...)\u001b[0m\n\u001b[1;32m     12\u001b[0m     timeout\u001b[38;5;241m=\u001b[39m\u001b[38;5;28;01mNone\u001b[39;00m,\n\u001b[1;32m     13\u001b[0m )\n\u001b[0;32m---> 15\u001b[0m \u001b[43mrequest\u001b[49m\u001b[38;5;241;43m.\u001b[39;49m\u001b[43mraise_for_status\u001b[49m\u001b[43m(\u001b[49m\u001b[43m)\u001b[49m\n\u001b[1;32m     16\u001b[0m response \u001b[38;5;241m=\u001b[39m request\u001b[38;5;241m.\u001b[39mjson()\n",
      "File \u001b[0;32m/srv/conda/envs/notebook/lib/python3.12/site-packages/requests/models.py:1024\u001b[0m, in \u001b[0;36mResponse.raise_for_status\u001b[0;34m(self)\u001b[0m\n\u001b[1;32m   1019\u001b[0m     http_error_msg \u001b[38;5;241m=\u001b[39m (\n\u001b[1;32m   1020\u001b[0m         \u001b[38;5;124mf\u001b[39m\u001b[38;5;124m\"\u001b[39m\u001b[38;5;132;01m{\u001b[39;00m\u001b[38;5;28mself\u001b[39m\u001b[38;5;241m.\u001b[39mstatus_code\u001b[38;5;132;01m}\u001b[39;00m\u001b[38;5;124m Server Error: \u001b[39m\u001b[38;5;132;01m{\u001b[39;00mreason\u001b[38;5;132;01m}\u001b[39;00m\u001b[38;5;124m for url: \u001b[39m\u001b[38;5;132;01m{\u001b[39;00m\u001b[38;5;28mself\u001b[39m\u001b[38;5;241m.\u001b[39murl\u001b[38;5;132;01m}\u001b[39;00m\u001b[38;5;124m\"\u001b[39m\n\u001b[1;32m   1021\u001b[0m     )\n\u001b[1;32m   1023\u001b[0m \u001b[38;5;28;01mif\u001b[39;00m http_error_msg:\n\u001b[0;32m-> 1024\u001b[0m     \u001b[38;5;28;01mraise\u001b[39;00m HTTPError(http_error_msg, response\u001b[38;5;241m=\u001b[39m\u001b[38;5;28mself\u001b[39m)\n",
      "\u001b[0;31mHTTPError\u001b[0m: 500 Server Error: Internal Server Error for url: https://staging.openveda.cloud/api/titiler-cmr/timeseries/statistics?concept_id=C3273639213-GES_DISC&datetime=2022-03-01T00%3A00%3A01Z%2F2022-03-10T23%3A59%3A59Z&step=P1D&temporal_mode=point&variable=NPP&backend=xarray"
     ]
    }
   ],
   "source": [
    "request = requests.post(\n",
    "    f\"{cmr_base_url}/timeseries/statistics\",\n",
    "    params={\n",
    "        \"concept_id\": \"C3273639213-GES_DISC\",\n",
    "        \"datetime\": \"2022-03-01T00:00:01Z/2022-03-10T23:59:59Z\",\n",
    "        \"step\": \"P1D\",\n",
    "        \"temporal_mode\": \"point\",\n",
    "        \"variable\": \"NPP\",\n",
    "        \"backend\": \"xarray\",\n",
    "    },\n",
    "    json=geojson_data,\n",
    "    timeout=None,\n",
    ")\n",
    "\n",
    "request.raise_for_status()\n",
    "response = request.json()"
   ]
  },
  {
   "cell_type": "code",
   "execution_count": 16,
   "id": "0648b760-10ef-4ee2-ba6a-fee8b2593fd1",
   "metadata": {},
   "outputs": [
    {
     "data": {
      "text/plain": [
       "'{\"detail\":\"\\'FeatureCollection\\' object has no attribute \\'properties\\'\"}'"
      ]
     },
     "execution_count": 16,
     "metadata": {},
     "output_type": "execute_result"
    }
   ],
   "source": [
    "#response\n",
    "request.text"
   ]
  },
  {
   "cell_type": "markdown",
   "id": "9e1f8691-f306-4217-bd2c-69338b56eb20",
   "metadata": {},
   "source": [
    "### Can we produce time series in the UI?"
   ]
  },
  {
   "cell_type": "markdown",
   "id": "a0a95f1f-a3eb-439b-830b-d3b58a9ccd06",
   "metadata": {},
   "source": [
    "Hanbyul is currently working on this, see the [veda-ui issue #1727](https://github.com/NASA-IMPACT/veda-ui/issues/1727) and [WIP PR #1747](https://github.com/NASA-IMPACT/veda-ui/pull/1747)."
   ]
  },
  {
   "cell_type": "markdown",
   "id": "784fd6b7-e2b0-495e-85eb-b919190bf414",
   "metadata": {},
   "source": [
    "## BlueFlux (titiler-multidim via VEDA bucket)\n",
    "\n",
    "Since the data is maintained by ORNL DAAC, which we don't currently have access too, it was suggested to copy the data into the VEDA SMCE bucket and tile it from there using titiler-multidim.\n",
    "\n",
    "Looks like it is only 4 files. "
   ]
  },
  {
   "cell_type": "code",
   "execution_count": 35,
   "id": "93954293-254e-492c-8f62-842aad351f7b",
   "metadata": {},
   "outputs": [
    {
     "name": "stdout",
     "output_type": "stream",
     "text": [
      "4 granules found\n"
     ]
    },
    {
     "data": {
      "text/plain": [
       "[None]"
      ]
     },
     "execution_count": 35,
     "metadata": {},
     "output_type": "execute_result"
    }
   ],
   "source": [
    "import earthaccess\n",
    "\n",
    "earthaccess.login()\n",
    "\n",
    "granule_results = earthaccess.search_data(\n",
    "    collection_concept_id=\"C3498325287-ORNL_CLOUD\"\n",
    ")\n",
    "print(f\"{len(granule_results)} granules found\")\n",
    "\n",
    "s3_link = granule_results[0].data_links(access=\"direct\")[0]\n",
    "s3fs = earthaccess.get_s3_filesystem(daac='ORNLDAAC')\n",
    "\n",
    "# s3fs.download(s3_link, s3_link.split('/')[-1])"
   ]
  },
  {
   "cell_type": "code",
   "execution_count": 37,
   "id": "5ba0aaab-47a4-4a4c-8867-4c62c9d5a7e6",
   "metadata": {},
   "outputs": [],
   "source": [
    "#!aws s3 cp blueflux_fco2_micromol_500m_std_v1.nc s3://nasa-eodc-public/BlueFlux/blueflux_fco2_micromol_500m_std_v1.nc"
   ]
  },
  {
   "cell_type": "markdown",
   "id": "136f9c0c-e57b-4212-a8cd-e958fef152bb",
   "metadata": {},
   "source": [
    "# Can we visualize it?\n",
    "\n",
    "👷 Probably, but we need to upgrade titiler-multidim to include the `sel` parameter since each file has many dates in it.\n"
   ]
  },
  {
   "cell_type": "code",
   "execution_count": 2,
   "id": "480c4ccf-e19e-4af7-8dbc-c7930f8f84c5",
   "metadata": {},
   "outputs": [],
   "source": [
    "import xarray as xr\n",
    "xds = xr.open_dataset('blueflux_fco2_micromol_500m_std_v1.nc')"
   ]
  },
  {
   "cell_type": "code",
   "execution_count": 25,
   "id": "37be47c5-43ff-443c-b511-60d8c676bcdf",
   "metadata": {},
   "outputs": [
    {
     "data": {
      "text/html": [
       "<div><svg style=\"position: absolute; width: 0; height: 0; overflow: hidden\">\n",
       "<defs>\n",
       "<symbol id=\"icon-database\" viewBox=\"0 0 32 32\">\n",
       "<path d=\"M16 0c-8.837 0-16 2.239-16 5v4c0 2.761 7.163 5 16 5s16-2.239 16-5v-4c0-2.761-7.163-5-16-5z\"></path>\n",
       "<path d=\"M16 17c-8.837 0-16-2.239-16-5v6c0 2.761 7.163 5 16 5s16-2.239 16-5v-6c0 2.761-7.163 5-16 5z\"></path>\n",
       "<path d=\"M16 26c-8.837 0-16-2.239-16-5v6c0 2.761 7.163 5 16 5s16-2.239 16-5v-6c0 2.761-7.163 5-16 5z\"></path>\n",
       "</symbol>\n",
       "<symbol id=\"icon-file-text2\" viewBox=\"0 0 32 32\">\n",
       "<path d=\"M28.681 7.159c-0.694-0.947-1.662-2.053-2.724-3.116s-2.169-2.030-3.116-2.724c-1.612-1.182-2.393-1.319-2.841-1.319h-15.5c-1.378 0-2.5 1.121-2.5 2.5v27c0 1.378 1.122 2.5 2.5 2.5h23c1.378 0 2.5-1.122 2.5-2.5v-19.5c0-0.448-0.137-1.23-1.319-2.841zM24.543 5.457c0.959 0.959 1.712 1.825 2.268 2.543h-4.811v-4.811c0.718 0.556 1.584 1.309 2.543 2.268zM28 29.5c0 0.271-0.229 0.5-0.5 0.5h-23c-0.271 0-0.5-0.229-0.5-0.5v-27c0-0.271 0.229-0.5 0.5-0.5 0 0 15.499-0 15.5 0v7c0 0.552 0.448 1 1 1h7v19.5z\"></path>\n",
       "<path d=\"M23 26h-14c-0.552 0-1-0.448-1-1s0.448-1 1-1h14c0.552 0 1 0.448 1 1s-0.448 1-1 1z\"></path>\n",
       "<path d=\"M23 22h-14c-0.552 0-1-0.448-1-1s0.448-1 1-1h14c0.552 0 1 0.448 1 1s-0.448 1-1 1z\"></path>\n",
       "<path d=\"M23 18h-14c-0.552 0-1-0.448-1-1s0.448-1 1-1h14c0.552 0 1 0.448 1 1s-0.448 1-1 1z\"></path>\n",
       "</symbol>\n",
       "</defs>\n",
       "</svg>\n",
       "<style>/* CSS stylesheet for displaying xarray objects in jupyterlab.\n",
       " *\n",
       " */\n",
       "\n",
       ":root {\n",
       "  --xr-font-color0: var(--jp-content-font-color0, rgba(0, 0, 0, 1));\n",
       "  --xr-font-color2: var(--jp-content-font-color2, rgba(0, 0, 0, 0.54));\n",
       "  --xr-font-color3: var(--jp-content-font-color3, rgba(0, 0, 0, 0.38));\n",
       "  --xr-border-color: var(--jp-border-color2, #e0e0e0);\n",
       "  --xr-disabled-color: var(--jp-layout-color3, #bdbdbd);\n",
       "  --xr-background-color: var(--jp-layout-color0, white);\n",
       "  --xr-background-color-row-even: var(--jp-layout-color1, white);\n",
       "  --xr-background-color-row-odd: var(--jp-layout-color2, #eeeeee);\n",
       "}\n",
       "\n",
       "html[theme=dark],\n",
       "html[data-theme=dark],\n",
       "body[data-theme=dark],\n",
       "body.vscode-dark {\n",
       "  --xr-font-color0: rgba(255, 255, 255, 1);\n",
       "  --xr-font-color2: rgba(255, 255, 255, 0.54);\n",
       "  --xr-font-color3: rgba(255, 255, 255, 0.38);\n",
       "  --xr-border-color: #1F1F1F;\n",
       "  --xr-disabled-color: #515151;\n",
       "  --xr-background-color: #111111;\n",
       "  --xr-background-color-row-even: #111111;\n",
       "  --xr-background-color-row-odd: #313131;\n",
       "}\n",
       "\n",
       ".xr-wrap {\n",
       "  display: block !important;\n",
       "  min-width: 300px;\n",
       "  max-width: 700px;\n",
       "}\n",
       "\n",
       ".xr-text-repr-fallback {\n",
       "  /* fallback to plain text repr when CSS is not injected (untrusted notebook) */\n",
       "  display: none;\n",
       "}\n",
       "\n",
       ".xr-header {\n",
       "  padding-top: 6px;\n",
       "  padding-bottom: 6px;\n",
       "  margin-bottom: 4px;\n",
       "  border-bottom: solid 1px var(--xr-border-color);\n",
       "}\n",
       "\n",
       ".xr-header > div,\n",
       ".xr-header > ul {\n",
       "  display: inline;\n",
       "  margin-top: 0;\n",
       "  margin-bottom: 0;\n",
       "}\n",
       "\n",
       ".xr-obj-type,\n",
       ".xr-array-name {\n",
       "  margin-left: 2px;\n",
       "  margin-right: 10px;\n",
       "}\n",
       "\n",
       ".xr-obj-type {\n",
       "  color: var(--xr-font-color2);\n",
       "}\n",
       "\n",
       ".xr-sections {\n",
       "  padding-left: 0 !important;\n",
       "  display: grid;\n",
       "  grid-template-columns: 150px auto auto 1fr 0 20px 0 20px;\n",
       "}\n",
       "\n",
       ".xr-section-item {\n",
       "  display: contents;\n",
       "}\n",
       "\n",
       ".xr-section-item input {\n",
       "  display: inline-block;\n",
       "  opacity: 0;\n",
       "}\n",
       "\n",
       ".xr-section-item input + label {\n",
       "  color: var(--xr-disabled-color);\n",
       "}\n",
       "\n",
       ".xr-section-item input:enabled + label {\n",
       "  cursor: pointer;\n",
       "  color: var(--xr-font-color2);\n",
       "}\n",
       "\n",
       ".xr-section-item input:focus + label {\n",
       "  border: 2px solid var(--xr-font-color0);\n",
       "}\n",
       "\n",
       ".xr-section-item input:enabled + label:hover {\n",
       "  color: var(--xr-font-color0);\n",
       "}\n",
       "\n",
       ".xr-section-summary {\n",
       "  grid-column: 1;\n",
       "  color: var(--xr-font-color2);\n",
       "  font-weight: 500;\n",
       "}\n",
       "\n",
       ".xr-section-summary > span {\n",
       "  display: inline-block;\n",
       "  padding-left: 0.5em;\n",
       "}\n",
       "\n",
       ".xr-section-summary-in:disabled + label {\n",
       "  color: var(--xr-font-color2);\n",
       "}\n",
       "\n",
       ".xr-section-summary-in + label:before {\n",
       "  display: inline-block;\n",
       "  content: '►';\n",
       "  font-size: 11px;\n",
       "  width: 15px;\n",
       "  text-align: center;\n",
       "}\n",
       "\n",
       ".xr-section-summary-in:disabled + label:before {\n",
       "  color: var(--xr-disabled-color);\n",
       "}\n",
       "\n",
       ".xr-section-summary-in:checked + label:before {\n",
       "  content: '▼';\n",
       "}\n",
       "\n",
       ".xr-section-summary-in:checked + label > span {\n",
       "  display: none;\n",
       "}\n",
       "\n",
       ".xr-section-summary,\n",
       ".xr-section-inline-details {\n",
       "  padding-top: 4px;\n",
       "  padding-bottom: 4px;\n",
       "}\n",
       "\n",
       ".xr-section-inline-details {\n",
       "  grid-column: 2 / -1;\n",
       "}\n",
       "\n",
       ".xr-section-details {\n",
       "  display: none;\n",
       "  grid-column: 1 / -1;\n",
       "  margin-bottom: 5px;\n",
       "}\n",
       "\n",
       ".xr-section-summary-in:checked ~ .xr-section-details {\n",
       "  display: contents;\n",
       "}\n",
       "\n",
       ".xr-array-wrap {\n",
       "  grid-column: 1 / -1;\n",
       "  display: grid;\n",
       "  grid-template-columns: 20px auto;\n",
       "}\n",
       "\n",
       ".xr-array-wrap > label {\n",
       "  grid-column: 1;\n",
       "  vertical-align: top;\n",
       "}\n",
       "\n",
       ".xr-preview {\n",
       "  color: var(--xr-font-color3);\n",
       "}\n",
       "\n",
       ".xr-array-preview,\n",
       ".xr-array-data {\n",
       "  padding: 0 5px !important;\n",
       "  grid-column: 2;\n",
       "}\n",
       "\n",
       ".xr-array-data,\n",
       ".xr-array-in:checked ~ .xr-array-preview {\n",
       "  display: none;\n",
       "}\n",
       "\n",
       ".xr-array-in:checked ~ .xr-array-data,\n",
       ".xr-array-preview {\n",
       "  display: inline-block;\n",
       "}\n",
       "\n",
       ".xr-dim-list {\n",
       "  display: inline-block !important;\n",
       "  list-style: none;\n",
       "  padding: 0 !important;\n",
       "  margin: 0;\n",
       "}\n",
       "\n",
       ".xr-dim-list li {\n",
       "  display: inline-block;\n",
       "  padding: 0;\n",
       "  margin: 0;\n",
       "}\n",
       "\n",
       ".xr-dim-list:before {\n",
       "  content: '(';\n",
       "}\n",
       "\n",
       ".xr-dim-list:after {\n",
       "  content: ')';\n",
       "}\n",
       "\n",
       ".xr-dim-list li:not(:last-child):after {\n",
       "  content: ',';\n",
       "  padding-right: 5px;\n",
       "}\n",
       "\n",
       ".xr-has-index {\n",
       "  font-weight: bold;\n",
       "}\n",
       "\n",
       ".xr-var-list,\n",
       ".xr-var-item {\n",
       "  display: contents;\n",
       "}\n",
       "\n",
       ".xr-var-item > div,\n",
       ".xr-var-item label,\n",
       ".xr-var-item > .xr-var-name span {\n",
       "  background-color: var(--xr-background-color-row-even);\n",
       "  margin-bottom: 0;\n",
       "}\n",
       "\n",
       ".xr-var-item > .xr-var-name:hover span {\n",
       "  padding-right: 5px;\n",
       "}\n",
       "\n",
       ".xr-var-list > li:nth-child(odd) > div,\n",
       ".xr-var-list > li:nth-child(odd) > label,\n",
       ".xr-var-list > li:nth-child(odd) > .xr-var-name span {\n",
       "  background-color: var(--xr-background-color-row-odd);\n",
       "}\n",
       "\n",
       ".xr-var-name {\n",
       "  grid-column: 1;\n",
       "}\n",
       "\n",
       ".xr-var-dims {\n",
       "  grid-column: 2;\n",
       "}\n",
       "\n",
       ".xr-var-dtype {\n",
       "  grid-column: 3;\n",
       "  text-align: right;\n",
       "  color: var(--xr-font-color2);\n",
       "}\n",
       "\n",
       ".xr-var-preview {\n",
       "  grid-column: 4;\n",
       "}\n",
       "\n",
       ".xr-index-preview {\n",
       "  grid-column: 2 / 5;\n",
       "  color: var(--xr-font-color2);\n",
       "}\n",
       "\n",
       ".xr-var-name,\n",
       ".xr-var-dims,\n",
       ".xr-var-dtype,\n",
       ".xr-preview,\n",
       ".xr-attrs dt {\n",
       "  white-space: nowrap;\n",
       "  overflow: hidden;\n",
       "  text-overflow: ellipsis;\n",
       "  padding-right: 10px;\n",
       "}\n",
       "\n",
       ".xr-var-name:hover,\n",
       ".xr-var-dims:hover,\n",
       ".xr-var-dtype:hover,\n",
       ".xr-attrs dt:hover {\n",
       "  overflow: visible;\n",
       "  width: auto;\n",
       "  z-index: 1;\n",
       "}\n",
       "\n",
       ".xr-var-attrs,\n",
       ".xr-var-data,\n",
       ".xr-index-data {\n",
       "  display: none;\n",
       "  background-color: var(--xr-background-color) !important;\n",
       "  padding-bottom: 5px !important;\n",
       "}\n",
       "\n",
       ".xr-var-attrs-in:checked ~ .xr-var-attrs,\n",
       ".xr-var-data-in:checked ~ .xr-var-data,\n",
       ".xr-index-data-in:checked ~ .xr-index-data {\n",
       "  display: block;\n",
       "}\n",
       "\n",
       ".xr-var-data > table {\n",
       "  float: right;\n",
       "}\n",
       "\n",
       ".xr-var-name span,\n",
       ".xr-var-data,\n",
       ".xr-index-name div,\n",
       ".xr-index-data,\n",
       ".xr-attrs {\n",
       "  padding-left: 25px !important;\n",
       "}\n",
       "\n",
       ".xr-attrs,\n",
       ".xr-var-attrs,\n",
       ".xr-var-data,\n",
       ".xr-index-data {\n",
       "  grid-column: 1 / -1;\n",
       "}\n",
       "\n",
       "dl.xr-attrs {\n",
       "  padding: 0;\n",
       "  margin: 0;\n",
       "  display: grid;\n",
       "  grid-template-columns: 125px auto;\n",
       "}\n",
       "\n",
       ".xr-attrs dt,\n",
       ".xr-attrs dd {\n",
       "  padding: 0;\n",
       "  margin: 0;\n",
       "  float: left;\n",
       "  padding-right: 10px;\n",
       "  width: auto;\n",
       "}\n",
       "\n",
       ".xr-attrs dt {\n",
       "  font-weight: normal;\n",
       "  grid-column: 1;\n",
       "}\n",
       "\n",
       ".xr-attrs dt:hover span {\n",
       "  display: inline-block;\n",
       "  background: var(--xr-background-color);\n",
       "  padding-right: 10px;\n",
       "}\n",
       "\n",
       ".xr-attrs dd {\n",
       "  grid-column: 2;\n",
       "  white-space: pre-wrap;\n",
       "  word-break: break-all;\n",
       "}\n",
       "\n",
       ".xr-icon-database,\n",
       ".xr-icon-file-text2,\n",
       ".xr-no-icon {\n",
       "  display: inline-block;\n",
       "  vertical-align: middle;\n",
       "  width: 1em;\n",
       "  height: 1.5em !important;\n",
       "  stroke-width: 0;\n",
       "  stroke: currentColor;\n",
       "  fill: currentColor;\n",
       "}\n",
       "</style><pre class='xr-text-repr-fallback'>&lt;xarray.Dataset&gt; Size: 10GB\n",
       "Dimensions:   (time: 9010, lat: 528, lon: 541)\n",
       "Coordinates:\n",
       "  * time      (time) datetime64[ns] 72kB 2000-01-01 2000-01-02 ... 2024-08-31\n",
       "  * lat       (lat) float32 2kB 26.68 26.67 26.67 26.67 ... 24.49 24.48 24.48\n",
       "  * lon       (lon) float32 2kB -82.22 -82.22 -82.21 ... -79.98 -79.97 -79.97\n",
       "Data variables:\n",
       "    crs       int32 4B ...\n",
       "    fco2_std  (time, lat, lon) float32 10GB ...\n",
       "Attributes:\n",
       "    title:                  BlueFlux: Modelled 500-m daily gridded CO2 and CH...\n",
       "    source:                 Version 1 of modelled daily gridded CO2 and CH4 w...\n",
       "    publisher_type:         institution\n",
       "    publisher_institution:  Oak Ridge National Laboratory Distributed Active ...\n",
       "    publisher_url:          daac.ornl.gov\n",
       "    publisher_email:        uso@daac.ornl.gov</pre><div class='xr-wrap' style='display:none'><div class='xr-header'><div class='xr-obj-type'>xarray.Dataset</div></div><ul class='xr-sections'><li class='xr-section-item'><input id='section-56540677-67a5-4cc2-969e-ad866808b4b6' class='xr-section-summary-in' type='checkbox' disabled ><label for='section-56540677-67a5-4cc2-969e-ad866808b4b6' class='xr-section-summary'  title='Expand/collapse section'>Dimensions:</label><div class='xr-section-inline-details'><ul class='xr-dim-list'><li><span class='xr-has-index'>time</span>: 9010</li><li><span class='xr-has-index'>lat</span>: 528</li><li><span class='xr-has-index'>lon</span>: 541</li></ul></div><div class='xr-section-details'></div></li><li class='xr-section-item'><input id='section-88ab8431-d3e1-40c9-8182-e5368aaa4e91' class='xr-section-summary-in' type='checkbox'  checked><label for='section-88ab8431-d3e1-40c9-8182-e5368aaa4e91' class='xr-section-summary' >Coordinates: <span>(3)</span></label><div class='xr-section-inline-details'></div><div class='xr-section-details'><ul class='xr-var-list'><li class='xr-var-item'><div class='xr-var-name'><span class='xr-has-index'>time</span></div><div class='xr-var-dims'>(time)</div><div class='xr-var-dtype'>datetime64[ns]</div><div class='xr-var-preview xr-preview'>2000-01-01 ... 2024-08-31</div><input id='attrs-61e4fff5-a262-46ad-b14d-7e873a68f035' class='xr-var-attrs-in' type='checkbox' ><label for='attrs-61e4fff5-a262-46ad-b14d-7e873a68f035' title='Show/Hide attributes'><svg class='icon xr-icon-file-text2'><use xlink:href='#icon-file-text2'></use></svg></label><input id='data-36e7e074-473d-42ae-8e78-2ab95e956933' class='xr-var-data-in' type='checkbox'><label for='data-36e7e074-473d-42ae-8e78-2ab95e956933' title='Show/Hide data repr'><svg class='icon xr-icon-database'><use xlink:href='#icon-database'></use></svg></label><div class='xr-var-attrs'><dl class='xr-attrs'><dt><span>standard_name :</span></dt><dd>time</dd></dl></div><div class='xr-var-data'><pre>array([&#x27;2000-01-01T00:00:00.000000000&#x27;, &#x27;2000-01-02T00:00:00.000000000&#x27;,\n",
       "       &#x27;2000-01-03T00:00:00.000000000&#x27;, ..., &#x27;2024-08-29T00:00:00.000000000&#x27;,\n",
       "       &#x27;2024-08-30T00:00:00.000000000&#x27;, &#x27;2024-08-31T00:00:00.000000000&#x27;],\n",
       "      dtype=&#x27;datetime64[ns]&#x27;)</pre></div></li><li class='xr-var-item'><div class='xr-var-name'><span class='xr-has-index'>lat</span></div><div class='xr-var-dims'>(lat)</div><div class='xr-var-dtype'>float32</div><div class='xr-var-preview xr-preview'>26.68 26.67 26.67 ... 24.48 24.48</div><input id='attrs-81d81d09-4238-44f2-856f-cf6082e7e7c1' class='xr-var-attrs-in' type='checkbox' ><label for='attrs-81d81d09-4238-44f2-856f-cf6082e7e7c1' title='Show/Hide attributes'><svg class='icon xr-icon-file-text2'><use xlink:href='#icon-file-text2'></use></svg></label><input id='data-5ab231d7-a669-44c8-a83a-07c128bccd9c' class='xr-var-data-in' type='checkbox'><label for='data-5ab231d7-a669-44c8-a83a-07c128bccd9c' title='Show/Hide data repr'><svg class='icon xr-icon-database'><use xlink:href='#icon-database'></use></svg></label><div class='xr-var-attrs'><dl class='xr-attrs'><dt><span>units :</span></dt><dd>degrees_north</dd><dt><span>standard_name :</span></dt><dd>latitude</dd></dl></div><div class='xr-var-data'><pre>array([26.679167, 26.674992, 26.670818, ..., 24.487516, 24.483341, 24.479166],\n",
       "      dtype=float32)</pre></div></li><li class='xr-var-item'><div class='xr-var-name'><span class='xr-has-index'>lon</span></div><div class='xr-var-dims'>(lon)</div><div class='xr-var-dtype'>float32</div><div class='xr-var-preview xr-preview'>-82.22 -82.22 ... -79.97 -79.97</div><input id='attrs-13625359-db57-4098-870a-52b492bcefe6' class='xr-var-attrs-in' type='checkbox' ><label for='attrs-13625359-db57-4098-870a-52b492bcefe6' title='Show/Hide attributes'><svg class='icon xr-icon-file-text2'><use xlink:href='#icon-file-text2'></use></svg></label><input id='data-7e673d49-ba65-44b6-af30-d29811979a7e' class='xr-var-data-in' type='checkbox'><label for='data-7e673d49-ba65-44b6-af30-d29811979a7e' title='Show/Hide data repr'><svg class='icon xr-icon-database'><use xlink:href='#icon-database'></use></svg></label><div class='xr-var-attrs'><dl class='xr-attrs'><dt><span>units :</span></dt><dd>degrees_east</dd><dt><span>standard_name :</span></dt><dd>longitude</dd></dl></div><div class='xr-var-data'><pre>array([-82.22083, -82.21666, -82.21249, ..., -79.97501, -79.97084, -79.96667],\n",
       "      dtype=float32)</pre></div></li></ul></div></li><li class='xr-section-item'><input id='section-93ca611c-b403-4303-94e8-8c1555671a5d' class='xr-section-summary-in' type='checkbox'  checked><label for='section-93ca611c-b403-4303-94e8-8c1555671a5d' class='xr-section-summary' >Data variables: <span>(2)</span></label><div class='xr-section-inline-details'></div><div class='xr-section-details'><ul class='xr-var-list'><li class='xr-var-item'><div class='xr-var-name'><span>crs</span></div><div class='xr-var-dims'>()</div><div class='xr-var-dtype'>int32</div><div class='xr-var-preview xr-preview'>...</div><input id='attrs-a0e3cefd-6762-413d-b2e0-6c462e666aa8' class='xr-var-attrs-in' type='checkbox' ><label for='attrs-a0e3cefd-6762-413d-b2e0-6c462e666aa8' title='Show/Hide attributes'><svg class='icon xr-icon-file-text2'><use xlink:href='#icon-file-text2'></use></svg></label><input id='data-b87a9088-b647-4539-ae90-35ba3ad39914' class='xr-var-data-in' type='checkbox'><label for='data-b87a9088-b647-4539-ae90-35ba3ad39914' title='Show/Hide data repr'><svg class='icon xr-icon-database'><use xlink:href='#icon-database'></use></svg></label><div class='xr-var-attrs'><dl class='xr-attrs'><dt><span>proj4 :</span></dt><dd>+proj=longlat +datum=WGS84 +no_defs</dd><dt><span>grid_mapping_name :</span></dt><dd>latitude_longitude</dd><dt><span>longitude_of_prime_meridian :</span></dt><dd>0.0</dd><dt><span>semi_major_axis :</span></dt><dd>6378137.0</dd><dt><span>inverse_flattening :</span></dt><dd>298.257223563</dd></dl></div><div class='xr-var-data'><pre>[1 values with dtype=int32]</pre></div></li><li class='xr-var-item'><div class='xr-var-name'><span>fco2_std</span></div><div class='xr-var-dims'>(time, lat, lon)</div><div class='xr-var-dtype'>float32</div><div class='xr-var-preview xr-preview'>...</div><input id='attrs-f833985c-70a7-4dad-a161-7584d7af8a90' class='xr-var-attrs-in' type='checkbox' ><label for='attrs-f833985c-70a7-4dad-a161-7584d7af8a90' title='Show/Hide attributes'><svg class='icon xr-icon-file-text2'><use xlink:href='#icon-file-text2'></use></svg></label><input id='data-a276f949-f3e6-4e79-aea6-8e20fef80276' class='xr-var-data-in' type='checkbox'><label for='data-a276f949-f3e6-4e79-aea6-8e20fef80276' title='Show/Hide data repr'><svg class='icon xr-icon-database'><use xlink:href='#icon-database'></use></svg></label><div class='xr-var-attrs'><dl class='xr-attrs'><dt><span>long_name :</span></dt><dd>CO2 flux intensity: bootstrap standard deviation</dd><dt><span>grid_mapping :</span></dt><dd>crs</dd><dt><span>units :</span></dt><dd>μmol CO2 m-2 s-1</dd></dl></div><div class='xr-var-data'><pre>[2573688480 values with dtype=float32]</pre></div></li></ul></div></li><li class='xr-section-item'><input id='section-dfb99b99-0663-4d30-9423-bbbb720c532d' class='xr-section-summary-in' type='checkbox'  ><label for='section-dfb99b99-0663-4d30-9423-bbbb720c532d' class='xr-section-summary' >Indexes: <span>(3)</span></label><div class='xr-section-inline-details'></div><div class='xr-section-details'><ul class='xr-var-list'><li class='xr-var-item'><div class='xr-index-name'><div>time</div></div><div class='xr-index-preview'>PandasIndex</div><div></div><input id='index-8bd9b684-4656-4608-b248-bac2306a0a9f' class='xr-index-data-in' type='checkbox'/><label for='index-8bd9b684-4656-4608-b248-bac2306a0a9f' title='Show/Hide index repr'><svg class='icon xr-icon-database'><use xlink:href='#icon-database'></use></svg></label><div class='xr-index-data'><pre>PandasIndex(DatetimeIndex([&#x27;2000-01-01&#x27;, &#x27;2000-01-02&#x27;, &#x27;2000-01-03&#x27;, &#x27;2000-01-04&#x27;,\n",
       "               &#x27;2000-01-05&#x27;, &#x27;2000-01-06&#x27;, &#x27;2000-01-07&#x27;, &#x27;2000-01-08&#x27;,\n",
       "               &#x27;2000-01-09&#x27;, &#x27;2000-01-10&#x27;,\n",
       "               ...\n",
       "               &#x27;2024-08-22&#x27;, &#x27;2024-08-23&#x27;, &#x27;2024-08-24&#x27;, &#x27;2024-08-25&#x27;,\n",
       "               &#x27;2024-08-26&#x27;, &#x27;2024-08-27&#x27;, &#x27;2024-08-28&#x27;, &#x27;2024-08-29&#x27;,\n",
       "               &#x27;2024-08-30&#x27;, &#x27;2024-08-31&#x27;],\n",
       "              dtype=&#x27;datetime64[ns]&#x27;, name=&#x27;time&#x27;, length=9010, freq=None))</pre></div></li><li class='xr-var-item'><div class='xr-index-name'><div>lat</div></div><div class='xr-index-preview'>PandasIndex</div><div></div><input id='index-4fc71429-b7b7-4cb7-bfd8-d21db7f9d16c' class='xr-index-data-in' type='checkbox'/><label for='index-4fc71429-b7b7-4cb7-bfd8-d21db7f9d16c' title='Show/Hide index repr'><svg class='icon xr-icon-database'><use xlink:href='#icon-database'></use></svg></label><div class='xr-index-data'><pre>PandasIndex(Index([26.679166793823242, 26.674991607666016, 26.670818328857422,\n",
       "       26.666643142700195,  26.66246795654297, 26.658294677734375,\n",
       "        26.65411949157715, 26.649944305419922, 26.645771026611328,\n",
       "         26.6415958404541,\n",
       "       ...\n",
       "        24.51673698425293, 24.512563705444336,  24.50838851928711,\n",
       "       24.504213333129883,  24.50004005432129, 24.495864868164062,\n",
       "       24.491689682006836, 24.487516403198242, 24.483341217041016,\n",
       "        24.47916603088379],\n",
       "      dtype=&#x27;float32&#x27;, name=&#x27;lat&#x27;, length=528))</pre></div></li><li class='xr-var-item'><div class='xr-index-name'><div>lon</div></div><div class='xr-index-preview'>PandasIndex</div><div></div><input id='index-0105eb1f-3711-4306-a0a5-6695895fbacf' class='xr-index-data-in' type='checkbox'/><label for='index-0105eb1f-3711-4306-a0a5-6695895fbacf' title='Show/Hide index repr'><svg class='icon xr-icon-database'><use xlink:href='#icon-database'></use></svg></label><div class='xr-index-data'><pre>PandasIndex(Index([-82.22083282470703, -82.21665954589844, -82.21248626708984,\n",
       "       -82.20831298828125, -82.20413208007812, -82.19995880126953,\n",
       "       -82.19578552246094, -82.19161224365234, -82.18743896484375,\n",
       "       -82.18326568603516,\n",
       "       ...\n",
       "       -80.00423431396484, -80.00006103515625, -79.99588775634766,\n",
       "       -79.99171447753906, -79.98754119873047, -79.98336791992188,\n",
       "       -79.97918701171875, -79.97501373291016, -79.97084045410156,\n",
       "       -79.96666717529297],\n",
       "      dtype=&#x27;float32&#x27;, name=&#x27;lon&#x27;, length=541))</pre></div></li></ul></div></li><li class='xr-section-item'><input id='section-6188bf57-7417-469f-99b5-96af3b7f0205' class='xr-section-summary-in' type='checkbox'  checked><label for='section-6188bf57-7417-469f-99b5-96af3b7f0205' class='xr-section-summary' >Attributes: <span>(6)</span></label><div class='xr-section-inline-details'></div><div class='xr-section-details'><dl class='xr-attrs'><dt><span>title :</span></dt><dd>BlueFlux: Modelled 500-m daily gridded CO2 and CH4 wetland fluxes for Southern Florida, 2000-2024</dd><dt><span>source :</span></dt><dd>Version 1 of modelled daily gridded CO2 and CH4 wetland fluxes for southern Florida as part of the Blue Carbon Prototype Products for Mangrove Methane and Carbon Dioxide Fluxes (BLUEFLUX) project</dd><dt><span>publisher_type :</span></dt><dd>institution</dd><dt><span>publisher_institution :</span></dt><dd>Oak Ridge National Laboratory Distributed Active Archive Center (ORNL DAAC)</dd><dt><span>publisher_url :</span></dt><dd>daac.ornl.gov</dd><dt><span>publisher_email :</span></dt><dd>uso@daac.ornl.gov</dd></dl></div></li></ul></div></div>"
      ],
      "text/plain": [
       "<xarray.Dataset> Size: 10GB\n",
       "Dimensions:   (time: 9010, lat: 528, lon: 541)\n",
       "Coordinates:\n",
       "  * time      (time) datetime64[ns] 72kB 2000-01-01 2000-01-02 ... 2024-08-31\n",
       "  * lat       (lat) float32 2kB 26.68 26.67 26.67 26.67 ... 24.49 24.48 24.48\n",
       "  * lon       (lon) float32 2kB -82.22 -82.22 -82.21 ... -79.98 -79.97 -79.97\n",
       "Data variables:\n",
       "    crs       int32 4B ...\n",
       "    fco2_std  (time, lat, lon) float32 10GB ...\n",
       "Attributes:\n",
       "    title:                  BlueFlux: Modelled 500-m daily gridded CO2 and CH...\n",
       "    source:                 Version 1 of modelled daily gridded CO2 and CH4 w...\n",
       "    publisher_type:         institution\n",
       "    publisher_institution:  Oak Ridge National Laboratory Distributed Active ...\n",
       "    publisher_url:          daac.ornl.gov\n",
       "    publisher_email:        uso@daac.ornl.gov"
      ]
     },
     "execution_count": 25,
     "metadata": {},
     "output_type": "execute_result"
    }
   ],
   "source": [
    "xds"
   ]
  },
  {
   "cell_type": "code",
   "execution_count": 14,
   "id": "6e840cee-dd29-4005-a67d-10022e58d34e",
   "metadata": {},
   "outputs": [
    {
     "data": {
      "text/plain": [
       "(array(0.04123636, dtype=float32), array(1.5548011, dtype=float32))"
      ]
     },
     "execution_count": 14,
     "metadata": {},
     "output_type": "execute_result"
    }
   ],
   "source": [
    "xds.fco2_std[100].min().values, xds.fco2_std[100].max().values"
   ]
  },
  {
   "cell_type": "code",
   "execution_count": 20,
   "id": "9f70d004-eb1e-4637-963d-d28a5c20e3e2",
   "metadata": {},
   "outputs": [],
   "source": [
    "import morecantile\n",
    "\n",
    "tms = morecantile.tms.get(\"WebMercatorQuad\")\n",
    "\n",
    "x, y, z = tms.tile(-81, 26, 7)"
   ]
  },
  {
   "cell_type": "code",
   "execution_count": 24,
   "id": "97b5bdc6-ac32-4e0e-9af0-58c2b82af4a2",
   "metadata": {},
   "outputs": [
    {
     "data": {
      "text/plain": [
       "(35, 54, 7)"
      ]
     },
     "execution_count": 24,
     "metadata": {},
     "output_type": "execute_result"
    }
   ],
   "source": [
    "x, y, z"
   ]
  },
  {
   "cell_type": "code",
   "execution_count": 23,
   "id": "ff0b6d5e-68b7-49cf-aaac-d68bbc04e4f3",
   "metadata": {},
   "outputs": [
    {
     "name": "stdout",
     "output_type": "stream",
     "text": [
      "Success! Received PNG tile image\n",
      "Content-Type: image/png\n",
      "Content-Length: 854 bytes\n",
      "Tile saved as tile.png\n"
     ]
    }
   ],
   "source": [
    "tiles_params = {\n",
    "    \"scale\": \"1\",\n",
    "    \"format\": \"png\",\n",
    "    \"url\": \"s3://nasa-eodc-public/BlueFlux/blueflux_fco2_micromol_500m_std_v1.nc\",\n",
    "    \"variable\": \"fco2_std\",\n",
    "    \"sel\": \"time=2000-04-10\",\n",
    "    \"colormap_name\": \"pink\",\n",
    "    \"rescale\": \"0.04,1.55\"\n",
    "}\n",
    "\n",
    "# Make the GET request for tile\n",
    "tiles_response = requests.get(\n",
    "    url=f\"{multidim_base_url}/tiles/WebMercatorQuad/{z}/{x}/{y}\",\n",
    "    params=tiles_params\n",
    ")\n",
    "\n",
    "if tiles_response.status_code == 200:\n",
    "    print(\"Success! Received PNG tile image\")\n",
    "    print(f\"Content-Type: {tiles_response.headers.get('content-type')}\")\n",
    "    print(f\"Content-Length: {len(tiles_response.content)} bytes\")\n",
    "    \n",
    "    #Optionally save the tile image\n",
    "    with open(\"tile.png\", \"wb\") as f:\n",
    "        f.write(tiles_response.content)\n",
    "        print(\"Tile saved as tile.png\")\n",
    "else:\n",
    "    print(f\"Error: {tiles_response.status_code}\")\n",
    "    print(tiles_response.text)"
   ]
  },
  {
   "cell_type": "markdown",
   "id": "4c3bcbbe-6f89-4787-8264-d3e6765518a7",
   "metadata": {},
   "source": [
    "## Can we produce timeseries?\n",
    "\n",
    "👷 Similarly, we need to include the `sel` parameter into the statistics endpoint of titiler-multidim."
   ]
  },
  {
   "cell_type": "markdown",
   "id": "76cc8dae-b135-4bc9-8f56-e238e68681d5",
   "metadata": {},
   "source": [
    "## Coastal Portal"
   ]
  },
  {
   "cell_type": "markdown",
   "id": "13c13e1e-bd3f-4d66-b614-b70021b338a2",
   "metadata": {},
   "source": [
    "### MUR SST\n",
    "\n",
    "We can integrate this dataset visually, it has been previously demonstrated.\n",
    "\n",
    "Time series should work once titiler-cmr timeseries integration is complete.\n",
    "\n",
    "👷 However, this will all be slow without the use of a virtual layer."
   ]
  },
  {
   "cell_type": "markdown",
   "id": "1c806131-172a-4b1b-a0ea-fa60839366fa",
   "metadata": {},
   "source": [
    "## Global Mangrove Aboveground Biomass, Carbon Stocks and Canopy Height\n",
    "\n",
    "I think we decided this was a no-op since it is a GeoTIFF and must be convereted to COG to work with any tiler."
   ]
  }
 ],
 "metadata": {
  "kernelspec": {
   "display_name": "Python 3 (ipykernel)",
   "language": "python",
   "name": "python3"
  },
  "language_info": {
   "codemirror_mode": {
    "name": "ipython",
    "version": 3
   },
   "file_extension": ".py",
   "mimetype": "text/x-python",
   "name": "python",
   "nbconvert_exporter": "python",
   "pygments_lexer": "ipython3",
   "version": "3.12.7"
  }
 },
 "nbformat": 4,
 "nbformat_minor": 5
}
