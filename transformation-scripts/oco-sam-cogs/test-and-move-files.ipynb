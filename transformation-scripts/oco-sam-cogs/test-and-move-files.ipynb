{
 "cells": [
  {
   "cell_type": "markdown",
   "id": "55f6ccf7-4c0f-46a0-8483-3c8fe7a4f789",
   "metadata": {},
   "source": [
    "# Adding OCO-[2|3]COGs"
   ]
  },
  {
   "cell_type": "code",
   "execution_count": 1,
   "id": "18cf5486-6e30-485d-bcf0-88778ad35bd6",
   "metadata": {},
   "outputs": [],
   "source": [
    "import boto3\n",
    "import concurrent.futures\n",
    "import os\n",
    "from concurrent.futures import ProcessPoolExecutor, as_completed\n",
    "from osgeo import gdal\n",
    "\n",
    "gdal.DontUseExceptions()\n",
    "\n",
    "s3_client = boto3.client(\"s3\")"
   ]
  },
  {
   "cell_type": "code",
   "execution_count": 16,
   "id": "c26045fd-de4d-4638-ae4b-a18dc6ccbfae",
   "metadata": {},
   "outputs": [],
   "source": [
    "source_bucket = \"sdap-dev-zarr\"\n",
    "source_dir = \"OCO3/outputs/veda/demo-2024.10.28-target/SIMULTEST_TFP_cog\"\n",
    "# Set the number of worker processes\n",
    "NUM_WORKERS = 4\n",
    "destination_bucket = \"veda-data-store-staging\"\n",
    "collection = \"oco2-co2\"\n",
    "prefix = f\"{source_dir}/{collection}\"\n",
    "collection_prefix_collection_id_map = {\n",
    "    \"oco3-co2\": \"oco3-co2-sam-l3-cogs\",\n",
    "    \"oco2-co2\": \"oco2-co2-target-cogs\",\n",
    "    \"oco3-sif\": \"oco3-co2-sif-cogs\",\n",
    "}"
   ]
  },
  {
   "cell_type": "code",
   "execution_count": 10,
   "id": "c1ffe44c-2a38-42de-844f-e71315bb9e81",
   "metadata": {},
   "outputs": [],
   "source": [
    "# List all objects in the source bucket\n",
    "all_objects = []\n",
    "continuation_token = None\n",
    "\n",
    "while all_objects == [] or continuation_token is not None:\n",
    "    args = dict(Bucket=source_bucket, Prefix=prefix)\n",
    "    if continuation_token is not None:\n",
    "        args[\"ContinuationToken\"] = continuation_token\n",
    "    response = s3_client.list_objects_v2(**args)\n",
    "    [all_objects.append(obj[\"Key\"]) for obj in response.get(\"Contents\", [])]\n",
    "    continuation_token = response.get(\"NextContinuationToken\", None)"
   ]
  },
  {
   "cell_type": "code",
   "execution_count": 11,
   "id": "95e1f08b-1651-4b3d-90f5-cafea5d7eded",
   "metadata": {},
   "outputs": [
    {
     "data": {
      "text/plain": [
       "2158"
      ]
     },
     "execution_count": 11,
     "metadata": {},
     "output_type": "execute_result"
    }
   ],
   "source": [
    "len(all_objects)"
   ]
  },
  {
   "cell_type": "code",
   "execution_count": 12,
   "id": "93227a49-b4f2-4539-813f-25dca1b241b9",
   "metadata": {},
   "outputs": [
    {
     "data": {
      "text/plain": [
       "'OCO3/outputs/veda/demo-2024.10.28-target/SIMULTEST_TFP_cog/oco3-co2_cal001_2019-10-10T190139Z_filtered_xco2.tif'"
      ]
     },
     "execution_count": 12,
     "metadata": {},
     "output_type": "execute_result"
    }
   ],
   "source": [
    "all_objects[0]"
   ]
  },
  {
   "cell_type": "code",
   "execution_count": 21,
   "id": "11029195-d25b-44ca-997e-0fe7ad90cbd2",
   "metadata": {},
   "outputs": [],
   "source": [
    "def copy_object(object_key: str):\n",
    "    copy_source = {\"Bucket\": source_bucket, \"Key\": object_key}\n",
    "    destination_file_name = object_key.split(\"/\")[-1]\n",
    "    collection_prefix = destination_file_name.split(\"_\")[0]\n",
    "    destination_dir = collection_prefix_collection_id_map[collection_prefix]\n",
    "    destination_object_key = f\"{destination_dir}/{destination_file_name}\"\n",
    "    s3_client.copy_object(\n",
    "        CopySource=copy_source, Bucket=destination_bucket, Key=destination_object_key\n",
    "    )\n",
    "    print(\n",
    "        f\"Copied: s3://{source_bucket}/{object_key} to s3://{destination_bucket}/{destination_object_key}\"\n",
    "    )\n",
    "\n",
    "\n",
    "def process_file(object_key: str):\n",
    "    \"\"\"Function to process a single file.\"\"\"\n",
    "    dataset = gdal.Open(f\"/vsis3/{source_bucket}/{object_key}\", gdal.GA_ReadOnly)\n",
    "\n",
    "    if dataset is None:\n",
    "        return file_path, \"Failed to open\"\n",
    "\n",
    "    band = dataset.GetRasterBand(1)\n",
    "    stats = band.GetStatistics(True, True)\n",
    "\n",
    "    # Check for errors\n",
    "    err_type = gdal.GetLastErrorType()\n",
    "    err_msg = gdal.GetLastErrorMsg()\n",
    "\n",
    "    if \"Failed to compute statistics, no valid pixels found in sampling\" in err_msg:\n",
    "        return dict(\n",
    "            object_key=object_key,\n",
    "            error_message=f\"GDAL Error: {err_msg}\",\n",
    "            status=\"error\",\n",
    "        )\n",
    "    else:\n",
    "        copy_object(object_key=object_key)\n",
    "        return dict(object_key=object_key, error_message=None, status=\"success\")"
   ]
  },
  {
   "cell_type": "code",
   "execution_count": 22,
   "id": "c6915325-3e07-47e4-8ec7-3f4b79789e89",
   "metadata": {},
   "outputs": [
    {
     "name": "stdout",
     "output_type": "stream",
     "text": [
      "Copied: s3://sdap-dev-zarr/OCO3/outputs/veda/demo-2024.10.28-target/SIMULTEST_TFP_cog/oco3-co2_cal001_2019-10-10T190139Z_filtered_xco2.tif to s3://veda-data-store-staging/oco3-co2-sam-l3-cogs/oco3-co2_cal001_2019-10-10T190139Z_filtered_xco2.tif\n"
     ]
    },
    {
     "name": "stderr",
     "output_type": "stream",
     "text": [
      "Warning 1: Unable to save auxiliary information in /vsis3/sdap-dev-zarr/OCO3/outputs/veda/demo-2024.10.28-target/SIMULTEST_TFP_cog/oco3-co2_cal001_2019-10-10T190139Z_filtered_xco2.tif.aux.xml.\n"
     ]
    },
    {
     "data": {
      "text/plain": [
       "{'object_key': 'OCO3/outputs/veda/demo-2024.10.28-target/SIMULTEST_TFP_cog/oco3-co2_cal001_2019-10-10T190139Z_filtered_xco2.tif',\n",
       " 'error_message': None,\n",
       " 'status': 'success'}"
      ]
     },
     "execution_count": 22,
     "metadata": {},
     "output_type": "execute_result"
    }
   ],
   "source": [
    "first_object_key = all_objects[0]\n",
    "process_file(first_object_key)"
   ]
  },
  {
   "cell_type": "code",
   "execution_count": 31,
   "id": "e6932be8-6dee-4631-8e0d-a31404b56c42",
   "metadata": {},
   "outputs": [],
   "source": [
    "#!aws s3 ls s3://veda-data-store-staging/oco3-co2-sam-l3-cogs/ #| wc -l"
   ]
  },
  {
   "cell_type": "code",
   "execution_count": 29,
   "id": "5dd258aa-37d8-40d2-9767-b874abf0189a",
   "metadata": {},
   "outputs": [
    {
     "name": "stdout",
     "output_type": "stream",
     "text": [
      "Copied: s3://sdap-dev-zarr/OCO3/outputs/veda/demo-2024.10.28-target/SIMULTEST_TFP_cog/oco3-co2_cal001_2019-10-10T190139Z_filtered_xco2.tif to s3://veda-data-store-staging/oco3-co2-sam-l3-cogs/oco3-co2_cal001_2019-10-10T190139Z_filtered_xco2.tif\n",
      "Copied: s3://sdap-dev-zarr/OCO3/outputs/veda/demo-2024.10.28-target/SIMULTEST_TFP_cog/oco3-co2_cal001_2020-02-10T180729Z_unfiltered_xco2.tif to s3://veda-data-store-staging/oco3-co2-sam-l3-cogs/oco3-co2_cal001_2020-02-10T180729Z_unfiltered_xco2.tif\n",
      "Copied: s3://sdap-dev-zarr/OCO3/outputs/veda/demo-2024.10.28-target/SIMULTEST_TFP_cog/oco3-co2_cal001_2020-02-10T180729Z_filtered_xco2.tif to s3://veda-data-store-staging/oco3-co2-sam-l3-cogs/oco3-co2_cal001_2020-02-10T180729Z_filtered_xco2.tif\n",
      "processed file 0\n",
      "Copied: s3://sdap-dev-zarr/OCO3/outputs/veda/demo-2024.10.28-target/SIMULTEST_TFP_cog/oco3-co2_cal001_2019-10-10T190139Z_unfiltered_xco2.tif to s3://veda-data-store-staging/oco3-co2-sam-l3-cogs/oco3-co2_cal001_2019-10-10T190139Z_unfiltered_xco2.tif\n",
      "Copied: s3://sdap-dev-zarr/OCO3/outputs/veda/demo-2024.10.28-target/SIMULTEST_TFP_cog/oco3-co2_cal001_2020-02-29T173727Z_filtered_xco2.tif to s3://veda-data-store-staging/oco3-co2-sam-l3-cogs/oco3-co2_cal001_2020-02-29T173727Z_filtered_xco2.tif\n",
      "Copied: s3://sdap-dev-zarr/OCO3/outputs/veda/demo-2024.10.28-target/SIMULTEST_TFP_cog/oco3-co2_cal001_2020-04-05T202130Z_unfiltered_xco2.tif to s3://veda-data-store-staging/oco3-co2-sam-l3-cogs/oco3-co2_cal001_2020-04-05T202130Z_unfiltered_xco2.tif\n"
     ]
    },
    {
     "name": "stderr",
     "output_type": "stream",
     "text": [
      "Warning 1: Unable to save auxiliary information in /vsis3/sdap-dev-zarr/OCO3/outputs/veda/demo-2024.10.28-target/SIMULTEST_TFP_cog/oco3-co2_cal001_2019-10-10T190139Z_filtered_xco2.tif.aux.xml.\n",
      "Warning 1: Unable to save auxiliary information in /vsis3/sdap-dev-zarr/OCO3/outputs/veda/demo-2024.10.28-target/SIMULTEST_TFP_cog/oco3-co2_cal001_2020-02-10T180729Z_filtered_xco2.tif.aux.xml.\n",
      "Warning 1: Unable to save auxiliary information in /vsis3/sdap-dev-zarr/OCO3/outputs/veda/demo-2024.10.28-target/SIMULTEST_TFP_cog/oco3-co2_cal001_2020-02-10T180729Z_unfiltered_xco2.tif.aux.xml.\n",
      "Warning 1: Unable to save auxiliary information in /vsis3/sdap-dev-zarr/OCO3/outputs/veda/demo-2024.10.28-target/SIMULTEST_TFP_cog/oco3-co2_cal001_2019-10-10T190139Z_unfiltered_xco2.tif.aux.xml.\n",
      "Warning 1: Unable to save auxiliary information in /vsis3/sdap-dev-zarr/OCO3/outputs/veda/demo-2024.10.28-target/SIMULTEST_TFP_cog/oco3-co2_cal001_2020-04-05T202130Z_unfiltered_xco2.tif.aux.xml.\n",
      "Warning 1: Unable to save auxiliary information in /vsis3/sdap-dev-zarr/OCO3/outputs/veda/demo-2024.10.28-target/SIMULTEST_TFP_cog/oco3-co2_cal001_2020-02-29T173727Z_filtered_xco2.tif.aux.xml.\n",
      "ERROR 1: Failed to compute statistics, no valid pixels found in sampling.\n"
     ]
    },
    {
     "name": "stdout",
     "output_type": "stream",
     "text": [
      "Copied: s3://sdap-dev-zarr/OCO3/outputs/veda/demo-2024.10.28-target/SIMULTEST_TFP_cog/oco3-co2_cal001_2020-04-13T171706Z_filtered_xco2.tif to s3://veda-data-store-staging/oco3-co2-sam-l3-cogs/oco3-co2_cal001_2020-04-13T171706Z_filtered_xco2.tif\n",
      "Copied: s3://sdap-dev-zarr/OCO3/outputs/veda/demo-2024.10.28-target/SIMULTEST_TFP_cog/oco3-co2_cal001_2020-04-13T171706Z_unfiltered_xco2.tif to s3://veda-data-store-staging/oco3-co2-sam-l3-cogs/oco3-co2_cal001_2020-04-13T171706Z_unfiltered_xco2.tif\n",
      "Copied: s3://sdap-dev-zarr/OCO3/outputs/veda/demo-2024.10.28-target/SIMULTEST_TFP_cog/oco3-co2_cal001_2020-04-17T221620Z_unfiltered_xco2.tif to s3://veda-data-store-staging/oco3-co2-sam-l3-cogs/oco3-co2_cal001_2020-04-17T221620Z_unfiltered_xco2.tif\n",
      "Copied: s3://sdap-dev-zarr/OCO3/outputs/veda/demo-2024.10.28-target/SIMULTEST_TFP_cog/oco3-co2_cal001_2020-04-17T221621Z_filtered_xco2.tif to s3://veda-data-store-staging/oco3-co2-sam-l3-cogs/oco3-co2_cal001_2020-04-17T221621Z_filtered_xco2.tif\n"
     ]
    },
    {
     "name": "stderr",
     "output_type": "stream",
     "text": [
      "Warning 1: Unable to save auxiliary information in /vsis3/sdap-dev-zarr/OCO3/outputs/veda/demo-2024.10.28-target/SIMULTEST_TFP_cog/oco3-co2_cal001_2020-04-13T171706Z_filtered_xco2.tif.aux.xml.\n",
      "Warning 1: Unable to save auxiliary information in /vsis3/sdap-dev-zarr/OCO3/outputs/veda/demo-2024.10.28-target/SIMULTEST_TFP_cog/oco3-co2_cal001_2020-04-17T221620Z_unfiltered_xco2.tif.aux.xml.\n",
      "Warning 1: Unable to save auxiliary information in /vsis3/sdap-dev-zarr/OCO3/outputs/veda/demo-2024.10.28-target/SIMULTEST_TFP_cog/oco3-co2_cal001_2020-04-17T221621Z_filtered_xco2.tif.aux.xml.\n",
      "Warning 1: Unable to save auxiliary information in /vsis3/sdap-dev-zarr/OCO3/outputs/veda/demo-2024.10.28-target/SIMULTEST_TFP_cog/oco3-co2_cal001_2020-04-13T171706Z_unfiltered_xco2.tif.aux.xml.\n",
      "Warning 1: Unable to save auxiliary information in /vsis3/sdap-dev-zarr/OCO3/outputs/veda/demo-2024.10.28-target/SIMULTEST_TFP_cog/oco3-co2_cal001_2020-02-29T173727Z_unfiltered_xco2.tif.aux.xml.\n"
     ]
    },
    {
     "name": "stdout",
     "output_type": "stream",
     "text": [
      "Copied: s3://sdap-dev-zarr/OCO3/outputs/veda/demo-2024.10.28-target/SIMULTEST_TFP_cog/oco3-co2_cal001_2020-02-29T173727Z_unfiltered_xco2.tif to s3://veda-data-store-staging/oco3-co2-sam-l3-cogs/oco3-co2_cal001_2020-02-29T173727Z_unfiltered_xco2.tif\n",
      "Copied: s3://sdap-dev-zarr/OCO3/outputs/veda/demo-2024.10.28-target/SIMULTEST_TFP_cog/oco3-co2_cal001_2020-04-29T173419Z_unfiltered_xco2.tif to s3://veda-data-store-staging/oco3-co2-sam-l3-cogs/oco3-co2_cal001_2020-04-29T173419Z_unfiltered_xco2.tif\n",
      "Copied: s3://sdap-dev-zarr/OCO3/outputs/veda/demo-2024.10.28-target/SIMULTEST_TFP_cog/oco3-co2_cal001_2020-04-21T204252Z_filtered_xco2.tif to s3://veda-data-store-staging/oco3-co2-sam-l3-cogs/oco3-co2_cal001_2020-04-21T204252Z_filtered_xco2.tif\n"
     ]
    },
    {
     "name": "stderr",
     "output_type": "stream",
     "text": [
      "ERROR 1: Failed to compute statistics, no valid pixels found in sampling.\n",
      "ERROR 1: Failed to compute statistics, no valid pixels found in sampling.\n",
      "Warning 1: Unable to save auxiliary information in /vsis3/sdap-dev-zarr/OCO3/outputs/veda/demo-2024.10.28-target/SIMULTEST_TFP_cog/oco3-co2_cal001_2020-04-29T173419Z_unfiltered_xco2.tif.aux.xml.\n",
      "Warning 1: Unable to save auxiliary information in /vsis3/sdap-dev-zarr/OCO3/outputs/veda/demo-2024.10.28-target/SIMULTEST_TFP_cog/oco3-co2_cal001_2020-04-21T204252Z_filtered_xco2.tif.aux.xml.\n",
      "Warning 1: Unable to save auxiliary information in /vsis3/sdap-dev-zarr/OCO3/outputs/veda/demo-2024.10.28-target/SIMULTEST_TFP_cog/oco3-co2_cal001_2020-04-21T204242Z_unfiltered_xco2.tif.aux.xml.\n"
     ]
    },
    {
     "name": "stdout",
     "output_type": "stream",
     "text": [
      "Copied: s3://sdap-dev-zarr/OCO3/outputs/veda/demo-2024.10.28-target/SIMULTEST_TFP_cog/oco3-co2_cal001_2020-04-21T204242Z_unfiltered_xco2.tif to s3://veda-data-store-staging/oco3-co2-sam-l3-cogs/oco3-co2_cal001_2020-04-21T204242Z_unfiltered_xco2.tif\n",
      "Copied: s3://sdap-dev-zarr/OCO3/outputs/veda/demo-2024.10.28-target/SIMULTEST_TFP_cog/oco3-co2_cal001_2020-04-29T173524Z_filtered_xco2.tif to s3://veda-data-store-staging/oco3-co2-sam-l3-cogs/oco3-co2_cal001_2020-04-29T173524Z_filtered_xco2.tif\n",
      "Copied: s3://sdap-dev-zarr/OCO3/outputs/veda/demo-2024.10.28-target/SIMULTEST_TFP_cog/oco3-co2_cal001_2020-05-03T160001Z_filtered_xco2.tif to s3://veda-data-store-staging/oco3-co2-sam-l3-cogs/oco3-co2_cal001_2020-05-03T160001Z_filtered_xco2.tif\n"
     ]
    },
    {
     "name": "stderr",
     "output_type": "stream",
     "text": [
      "Warning 1: Unable to save auxiliary information in /vsis3/sdap-dev-zarr/OCO3/outputs/veda/demo-2024.10.28-target/SIMULTEST_TFP_cog/oco3-co2_cal001_2020-04-29T173524Z_filtered_xco2.tif.aux.xml.\n",
      "Warning 1: Unable to save auxiliary information in /vsis3/sdap-dev-zarr/OCO3/outputs/veda/demo-2024.10.28-target/SIMULTEST_TFP_cog/oco3-co2_cal001_2020-05-03T160001Z_filtered_xco2.tif.aux.xml.\n",
      "Warning 1: Unable to save auxiliary information in /vsis3/sdap-dev-zarr/OCO3/outputs/veda/demo-2024.10.28-target/SIMULTEST_TFP_cog/oco3-co2_coccon100_2019-10-09T103323Z_filtered_xco2.tif.aux.xml.\n"
     ]
    },
    {
     "name": "stdout",
     "output_type": "stream",
     "text": [
      "Copied: s3://sdap-dev-zarr/OCO3/outputs/veda/demo-2024.10.28-target/SIMULTEST_TFP_cog/oco3-co2_coccon100_2019-10-09T103323Z_filtered_xco2.tif to s3://veda-data-store-staging/oco3-co2-sam-l3-cogs/oco3-co2_coccon100_2019-10-09T103323Z_filtered_xco2.tif\n",
      "Copied: s3://sdap-dev-zarr/OCO3/outputs/veda/demo-2024.10.28-target/SIMULTEST_TFP_cog/oco3-co2_cal001_2020-05-03T160001Z_unfiltered_xco2.tif to s3://veda-data-store-staging/oco3-co2-sam-l3-cogs/oco3-co2_cal001_2020-05-03T160001Z_unfiltered_xco2.tif\n",
      "Copied: s3://sdap-dev-zarr/OCO3/outputs/veda/demo-2024.10.28-target/SIMULTEST_TFP_cog/oco3-co2_coccon100_2019-10-09T103311Z_unfiltered_xco2.tif to s3://veda-data-store-staging/oco3-co2-sam-l3-cogs/oco3-co2_coccon100_2019-10-09T103311Z_unfiltered_xco2.tif\n",
      "Copied: s3://sdap-dev-zarr/OCO3/outputs/veda/demo-2024.10.28-target/SIMULTEST_TFP_cog/oco3-co2_coccon100_2019-10-13T085530Z_filtered_xco2.tif to s3://veda-data-store-staging/oco3-co2-sam-l3-cogs/oco3-co2_coccon100_2019-10-13T085530Z_filtered_xco2.tif\n"
     ]
    },
    {
     "name": "stderr",
     "output_type": "stream",
     "text": [
      "Warning 1: Unable to save auxiliary information in /vsis3/sdap-dev-zarr/OCO3/outputs/veda/demo-2024.10.28-target/SIMULTEST_TFP_cog/oco3-co2_cal001_2020-05-03T160001Z_unfiltered_xco2.tif.aux.xml.\n",
      "Warning 1: Unable to save auxiliary information in /vsis3/sdap-dev-zarr/OCO3/outputs/veda/demo-2024.10.28-target/SIMULTEST_TFP_cog/oco3-co2_coccon100_2019-10-09T103311Z_unfiltered_xco2.tif.aux.xml.\n",
      "Warning 1: Unable to save auxiliary information in /vsis3/sdap-dev-zarr/OCO3/outputs/veda/demo-2024.10.28-target/SIMULTEST_TFP_cog/oco3-co2_coccon100_2019-10-13T085530Z_filtered_xco2.tif.aux.xml.\n"
     ]
    },
    {
     "name": "stdout",
     "output_type": "stream",
     "text": [
      "Copied: s3://sdap-dev-zarr/OCO3/outputs/veda/demo-2024.10.28-target/SIMULTEST_TFP_cog/oco3-co2_coccon100_2020-02-22T103911Z_filtered_xco2.tif to s3://veda-data-store-staging/oco3-co2-sam-l3-cogs/oco3-co2_coccon100_2020-02-22T103911Z_filtered_xco2.tif\n",
      "Copied: s3://sdap-dev-zarr/OCO3/outputs/veda/demo-2024.10.28-target/SIMULTEST_TFP_cog/oco3-co2_coccon100_2019-10-13T085530Z_unfiltered_xco2.tif to s3://veda-data-store-staging/oco3-co2-sam-l3-cogs/oco3-co2_coccon100_2019-10-13T085530Z_unfiltered_xco2.tif\n",
      "Copied: s3://sdap-dev-zarr/OCO3/outputs/veda/demo-2024.10.28-target/SIMULTEST_TFP_cog/oco3-co2_coccon100_2020-02-09T093749Z_unfiltered_xco2.tif to s3://veda-data-store-staging/oco3-co2-sam-l3-cogs/oco3-co2_coccon100_2020-02-09T093749Z_unfiltered_xco2.tif\n"
     ]
    },
    {
     "name": "stderr",
     "output_type": "stream",
     "text": [
      "Warning 1: Unable to save auxiliary information in /vsis3/sdap-dev-zarr/OCO3/outputs/veda/demo-2024.10.28-target/SIMULTEST_TFP_cog/oco3-co2_coccon100_2020-02-22T103911Z_filtered_xco2.tif.aux.xml.\n",
      "Warning 1: Unable to save auxiliary information in /vsis3/sdap-dev-zarr/OCO3/outputs/veda/demo-2024.10.28-target/SIMULTEST_TFP_cog/oco3-co2_coccon100_2019-10-13T085530Z_unfiltered_xco2.tif.aux.xml.\n",
      "Warning 1: Unable to save auxiliary information in /vsis3/sdap-dev-zarr/OCO3/outputs/veda/demo-2024.10.28-target/SIMULTEST_TFP_cog/oco3-co2_coccon100_2020-02-09T093749Z_unfiltered_xco2.tif.aux.xml.\n"
     ]
    },
    {
     "name": "stdout",
     "output_type": "stream",
     "text": [
      "Copied: s3://sdap-dev-zarr/OCO3/outputs/veda/demo-2024.10.28-target/SIMULTEST_TFP_cog/oco3-co2_coccon100_2020-02-09T093749Z_filtered_xco2.tif to s3://veda-data-store-staging/oco3-co2-sam-l3-cogs/oco3-co2_coccon100_2020-02-09T093749Z_filtered_xco2.tif\n",
      "Copied: s3://sdap-dev-zarr/OCO3/outputs/veda/demo-2024.10.28-target/SIMULTEST_TFP_cog/oco3-co2_coccon100_2020-03-30T141001Z_filtered_xco2.tif to s3://veda-data-store-staging/oco3-co2-sam-l3-cogs/oco3-co2_coccon100_2020-03-30T141001Z_filtered_xco2.tif\n",
      "Copied: s3://sdap-dev-zarr/OCO3/outputs/veda/demo-2024.10.28-target/SIMULTEST_TFP_cog/oco3-co2_coccon100_2020-03-30T140954Z_unfiltered_xco2.tif to s3://veda-data-store-staging/oco3-co2-sam-l3-cogs/oco3-co2_coccon100_2020-03-30T140954Z_unfiltered_xco2.tif\n"
     ]
    },
    {
     "name": "stderr",
     "output_type": "stream",
     "text": [
      "Warning 1: Unable to save auxiliary information in /vsis3/sdap-dev-zarr/OCO3/outputs/veda/demo-2024.10.28-target/SIMULTEST_TFP_cog/oco3-co2_coccon100_2020-02-09T093749Z_filtered_xco2.tif.aux.xml.\n",
      "Warning 1: Unable to save auxiliary information in /vsis3/sdap-dev-zarr/OCO3/outputs/veda/demo-2024.10.28-target/SIMULTEST_TFP_cog/oco3-co2_coccon100_2020-03-30T141001Z_filtered_xco2.tif.aux.xml.\n",
      "Warning 1: Unable to save auxiliary information in /vsis3/sdap-dev-zarr/OCO3/outputs/veda/demo-2024.10.28-target/SIMULTEST_TFP_cog/oco3-co2_coccon100_2020-03-30T140954Z_unfiltered_xco2.tif.aux.xml.\n"
     ]
    },
    {
     "name": "stdout",
     "output_type": "stream",
     "text": [
      "Copied: s3://sdap-dev-zarr/OCO3/outputs/veda/demo-2024.10.28-target/SIMULTEST_TFP_cog/oco3-co2_coccon100_2020-02-22T103911Z_unfiltered_xco2.tif to s3://veda-data-store-staging/oco3-co2-sam-l3-cogs/oco3-co2_coccon100_2020-02-22T103911Z_unfiltered_xco2.tif\n",
      "Copied: s3://sdap-dev-zarr/OCO3/outputs/veda/demo-2024.10.28-target/SIMULTEST_TFP_cog/oco3-co2_coccon100_2020-04-08T101828Z_unfiltered_xco2.tif to s3://veda-data-store-staging/oco3-co2-sam-l3-cogs/oco3-co2_coccon100_2020-04-08T101828Z_unfiltered_xco2.tif\n",
      "Copied: s3://sdap-dev-zarr/OCO3/outputs/veda/demo-2024.10.28-target/SIMULTEST_TFP_cog/oco3-co2_coccon100_2020-04-12T084639Z_unfiltered_xco2.tif to s3://veda-data-store-staging/oco3-co2-sam-l3-cogs/oco3-co2_coccon100_2020-04-12T084639Z_unfiltered_xco2.tif\n",
      "Copied: s3://sdap-dev-zarr/OCO3/outputs/veda/demo-2024.10.28-target/SIMULTEST_TFP_cog/oco3-co2_coccon100_2020-04-08T101828Z_filtered_xco2.tif to s3://veda-data-store-staging/oco3-co2-sam-l3-cogs/oco3-co2_coccon100_2020-04-08T101828Z_filtered_xco2.tif\n",
      "Copied: s3://sdap-dev-zarr/OCO3/outputs/veda/demo-2024.10.28-target/SIMULTEST_TFP_cog/oco3-co2_coccon100_2020-04-12T084741Z_filtered_xco2.tif to s3://veda-data-store-staging/oco3-co2-sam-l3-cogs/oco3-co2_coccon100_2020-04-12T084741Z_filtered_xco2.tif\n"
     ]
    },
    {
     "name": "stderr",
     "output_type": "stream",
     "text": [
      "Warning 1: Unable to save auxiliary information in /vsis3/sdap-dev-zarr/OCO3/outputs/veda/demo-2024.10.28-target/SIMULTEST_TFP_cog/oco3-co2_coccon100_2020-02-22T103911Z_unfiltered_xco2.tif.aux.xml.\n",
      "Warning 1: Unable to save auxiliary information in /vsis3/sdap-dev-zarr/OCO3/outputs/veda/demo-2024.10.28-target/SIMULTEST_TFP_cog/oco3-co2_coccon100_2020-04-08T101828Z_unfiltered_xco2.tif.aux.xml.\n",
      "Warning 1: Unable to save auxiliary information in /vsis3/sdap-dev-zarr/OCO3/outputs/veda/demo-2024.10.28-target/SIMULTEST_TFP_cog/oco3-co2_coccon100_2020-04-12T084639Z_unfiltered_xco2.tif.aux.xml.\n",
      "Warning 1: Unable to save auxiliary information in /vsis3/sdap-dev-zarr/OCO3/outputs/veda/demo-2024.10.28-target/SIMULTEST_TFP_cog/oco3-co2_coccon100_2020-04-08T101828Z_filtered_xco2.tif.aux.xml.\n",
      "Warning 1: Unable to save auxiliary information in /vsis3/sdap-dev-zarr/OCO3/outputs/veda/demo-2024.10.28-target/SIMULTEST_TFP_cog/oco3-co2_coccon100_2020-04-12T084741Z_filtered_xco2.tif.aux.xml.\n"
     ]
    },
    {
     "name": "stdout",
     "output_type": "stream",
     "text": [
      "Copied: s3://sdap-dev-zarr/OCO3/outputs/veda/demo-2024.10.28-target/SIMULTEST_TFP_cog/oco3-co2_coccon100_2020-04-17T125736Z_filtered_xco2.tif to s3://veda-data-store-staging/oco3-co2-sam-l3-cogs/oco3-co2_coccon100_2020-04-17T125736Z_filtered_xco2.tif\n",
      "Copied: s3://sdap-dev-zarr/OCO3/outputs/veda/demo-2024.10.28-target/SIMULTEST_TFP_cog/oco3-co2_coccon100_2020-04-17T125736Z_unfiltered_xco2.tif to s3://veda-data-store-staging/oco3-co2-sam-l3-cogs/oco3-co2_coccon100_2020-04-17T125736Z_unfiltered_xco2.tif\n",
      "Copied: s3://sdap-dev-zarr/OCO3/outputs/veda/demo-2024.10.28-target/SIMULTEST_TFP_cog/oco3-co2_coccon100_2020-04-16T071449Z_unfiltered_xco2.tif to s3://veda-data-store-staging/oco3-co2-sam-l3-cogs/oco3-co2_coccon100_2020-04-16T071449Z_unfiltered_xco2.tif\n",
      "Copied: s3://sdap-dev-zarr/OCO3/outputs/veda/demo-2024.10.28-target/SIMULTEST_TFP_cog/oco3-co2_coccon100_2020-04-16T071449Z_filtered_xco2.tif to s3://veda-data-store-staging/oco3-co2-sam-l3-cogs/oco3-co2_coccon100_2020-04-16T071449Z_filtered_xco2.tif\n"
     ]
    },
    {
     "name": "stderr",
     "output_type": "stream",
     "text": [
      "Warning 1: Unable to save auxiliary information in /vsis3/sdap-dev-zarr/OCO3/outputs/veda/demo-2024.10.28-target/SIMULTEST_TFP_cog/oco3-co2_coccon100_2020-04-17T125736Z_filtered_xco2.tif.aux.xml.\n",
      "Warning 1: Unable to save auxiliary information in /vsis3/sdap-dev-zarr/OCO3/outputs/veda/demo-2024.10.28-target/SIMULTEST_TFP_cog/oco3-co2_coccon100_2020-04-17T125736Z_unfiltered_xco2.tif.aux.xml.\n",
      "Warning 1: Unable to save auxiliary information in /vsis3/sdap-dev-zarr/OCO3/outputs/veda/demo-2024.10.28-target/SIMULTEST_TFP_cog/oco3-co2_coccon100_2020-04-16T071449Z_unfiltered_xco2.tif.aux.xml.\n",
      "Warning 1: Unable to save auxiliary information in /vsis3/sdap-dev-zarr/OCO3/outputs/veda/demo-2024.10.28-target/SIMULTEST_TFP_cog/oco3-co2_coccon100_2020-04-16T071449Z_filtered_xco2.tif.aux.xml.\n"
     ]
    },
    {
     "name": "stdout",
     "output_type": "stream",
     "text": [
      "Copied: s3://sdap-dev-zarr/OCO3/outputs/veda/demo-2024.10.28-target/SIMULTEST_TFP_cog/oco3-co2_coccon100_2020-04-29T081645Z_unfiltered_xco2.tif to s3://veda-data-store-staging/oco3-co2-sam-l3-cogs/oco3-co2_coccon100_2020-04-29T081645Z_unfiltered_xco2.tif\n",
      "Copied: s3://sdap-dev-zarr/OCO3/outputs/veda/demo-2024.10.28-target/SIMULTEST_TFP_cog/oco3-co2_coccon100_2020-04-29T081732Z_filtered_xco2.tif to s3://veda-data-store-staging/oco3-co2-sam-l3-cogs/oco3-co2_coccon100_2020-04-29T081732Z_filtered_xco2.tif\n",
      "Copied: s3://sdap-dev-zarr/OCO3/outputs/veda/demo-2024.10.28-target/SIMULTEST_TFP_cog/oco3-co2_coccon100_2020-05-03T064200Z_filtered_xco2.tif to s3://veda-data-store-staging/oco3-co2-sam-l3-cogs/oco3-co2_coccon100_2020-05-03T064200Z_filtered_xco2.tif\n",
      "Copied: s3://sdap-dev-zarr/OCO3/outputs/veda/demo-2024.10.28-target/SIMULTEST_TFP_cog/oco3-co2_coccon100_2020-05-03T064158Z_unfiltered_xco2.tif to s3://veda-data-store-staging/oco3-co2-sam-l3-cogs/oco3-co2_coccon100_2020-05-03T064158Z_unfiltered_xco2.tif\n"
     ]
    },
    {
     "name": "stderr",
     "output_type": "stream",
     "text": [
      "Warning 1: Unable to save auxiliary information in /vsis3/sdap-dev-zarr/OCO3/outputs/veda/demo-2024.10.28-target/SIMULTEST_TFP_cog/oco3-co2_coccon100_2020-04-29T081645Z_unfiltered_xco2.tif.aux.xml.\n",
      "Warning 1: Unable to save auxiliary information in /vsis3/sdap-dev-zarr/OCO3/outputs/veda/demo-2024.10.28-target/SIMULTEST_TFP_cog/oco3-co2_coccon100_2020-04-29T081732Z_filtered_xco2.tif.aux.xml.\n",
      "Warning 1: Unable to save auxiliary information in /vsis3/sdap-dev-zarr/OCO3/outputs/veda/demo-2024.10.28-target/SIMULTEST_TFP_cog/oco3-co2_coccon100_2020-05-03T064200Z_filtered_xco2.tif.aux.xml.\n",
      "Warning 1: Unable to save auxiliary information in /vsis3/sdap-dev-zarr/OCO3/outputs/veda/demo-2024.10.28-target/SIMULTEST_TFP_cog/oco3-co2_coccon100_2020-05-03T064158Z_unfiltered_xco2.tif.aux.xml.\n"
     ]
    },
    {
     "name": "stdout",
     "output_type": "stream",
     "text": [
      "Copied: s3://sdap-dev-zarr/OCO3/outputs/veda/demo-2024.10.28-target/SIMULTEST_TFP_cog/oco3-co2_coccon101_2019-10-06T075432Z_filtered_xco2.tif to s3://veda-data-store-staging/oco3-co2-sam-l3-cogs/oco3-co2_coccon101_2019-10-06T075432Z_filtered_xco2.tif\n",
      "Copied: s3://sdap-dev-zarr/OCO3/outputs/veda/demo-2024.10.28-target/SIMULTEST_TFP_cog/oco3-co2_coccon101_2019-09-24T124610Z_filtered_xco2.tif to s3://veda-data-store-staging/oco3-co2-sam-l3-cogs/oco3-co2_coccon101_2019-09-24T124610Z_filtered_xco2.tif\n",
      "Copied: s3://sdap-dev-zarr/OCO3/outputs/veda/demo-2024.10.28-target/SIMULTEST_TFP_cog/oco3-co2_coccon101_2019-09-24T124610Z_unfiltered_xco2.tif to s3://veda-data-store-staging/oco3-co2-sam-l3-cogs/oco3-co2_coccon101_2019-09-24T124610Z_unfiltered_xco2.tif\n",
      "Copied: s3://sdap-dev-zarr/OCO3/outputs/veda/demo-2024.10.28-target/SIMULTEST_TFP_cog/oco3-co2_coccon101_2019-10-06T075423Z_unfiltered_xco2.tif to s3://veda-data-store-staging/oco3-co2-sam-l3-cogs/oco3-co2_coccon101_2019-10-06T075423Z_unfiltered_xco2.tif\n",
      "Copied: s3://sdap-dev-zarr/OCO3/outputs/veda/demo-2024.10.28-target/SIMULTEST_TFP_cog/oco3-co2_coccon101_2019-12-26T142754Z_filtered_xco2.tif to s3://veda-data-store-staging/oco3-co2-sam-l3-cogs/oco3-co2_coccon101_2019-12-26T142754Z_filtered_xco2.tif\n"
     ]
    },
    {
     "name": "stderr",
     "output_type": "stream",
     "text": [
      "Warning 1: Unable to save auxiliary information in /vsis3/sdap-dev-zarr/OCO3/outputs/veda/demo-2024.10.28-target/SIMULTEST_TFP_cog/oco3-co2_coccon101_2019-10-06T075432Z_filtered_xco2.tif.aux.xml.\n",
      "Warning 1: Unable to save auxiliary information in /vsis3/sdap-dev-zarr/OCO3/outputs/veda/demo-2024.10.28-target/SIMULTEST_TFP_cog/oco3-co2_coccon101_2019-09-24T124610Z_filtered_xco2.tif.aux.xml.\n",
      "Warning 1: Unable to save auxiliary information in /vsis3/sdap-dev-zarr/OCO3/outputs/veda/demo-2024.10.28-target/SIMULTEST_TFP_cog/oco3-co2_coccon101_2019-09-24T124610Z_unfiltered_xco2.tif.aux.xml.\n",
      "Warning 1: Unable to save auxiliary information in /vsis3/sdap-dev-zarr/OCO3/outputs/veda/demo-2024.10.28-target/SIMULTEST_TFP_cog/oco3-co2_coccon101_2019-10-06T075423Z_unfiltered_xco2.tif.aux.xml.\n",
      "Warning 1: Unable to save auxiliary information in /vsis3/sdap-dev-zarr/OCO3/outputs/veda/demo-2024.10.28-target/SIMULTEST_TFP_cog/oco3-co2_coccon101_2019-12-26T142754Z_filtered_xco2.tif.aux.xml.\n"
     ]
    },
    {
     "name": "stdout",
     "output_type": "stream",
     "text": [
      "Copied: s3://sdap-dev-zarr/OCO3/outputs/veda/demo-2024.10.28-target/SIMULTEST_TFP_cog/oco3-co2_coccon101_2019-12-26T142754Z_unfiltered_xco2.tif to s3://veda-data-store-staging/oco3-co2-sam-l3-cogs/oco3-co2_coccon101_2019-12-26T142754Z_unfiltered_xco2.tif\n",
      "Copied: s3://sdap-dev-zarr/OCO3/outputs/veda/demo-2024.10.28-target/SIMULTEST_TFP_cog/oco3-co2_coccon101_2020-01-03T111727Z_unfiltered_xco2.tif to s3://veda-data-store-staging/oco3-co2-sam-l3-cogs/oco3-co2_coccon101_2020-01-03T111727Z_unfiltered_xco2.tif\n",
      "Copied: s3://sdap-dev-zarr/OCO3/outputs/veda/demo-2024.10.28-target/SIMULTEST_TFP_cog/oco3-co2_coccon101_2020-01-03T111736Z_filtered_xco2.tif to s3://veda-data-store-staging/oco3-co2-sam-l3-cogs/oco3-co2_coccon101_2020-01-03T111736Z_filtered_xco2.tif\n",
      "Copied: s3://sdap-dev-zarr/OCO3/outputs/veda/demo-2024.10.28-target/SIMULTEST_TFP_cog/oco3-co2_coccon101_2020-01-11T080839Z_unfiltered_xco2.tif to s3://veda-data-store-staging/oco3-co2-sam-l3-cogs/oco3-co2_coccon101_2020-01-11T080839Z_unfiltered_xco2.tif\n",
      "Copied: s3://sdap-dev-zarr/OCO3/outputs/veda/demo-2024.10.28-target/SIMULTEST_TFP_cog/oco3-co2_coccon101_2020-01-16T153349Z_filtered_xco2.tif to s3://veda-data-store-staging/oco3-co2-sam-l3-cogs/oco3-co2_coccon101_2020-01-16T153349Z_filtered_xco2.tif\n"
     ]
    },
    {
     "name": "stderr",
     "output_type": "stream",
     "text": [
      "Warning 1: Unable to save auxiliary information in /vsis3/sdap-dev-zarr/OCO3/outputs/veda/demo-2024.10.28-target/SIMULTEST_TFP_cog/oco3-co2_coccon101_2019-12-26T142754Z_unfiltered_xco2.tif.aux.xml.\n",
      "Warning 1: Unable to save auxiliary information in /vsis3/sdap-dev-zarr/OCO3/outputs/veda/demo-2024.10.28-target/SIMULTEST_TFP_cog/oco3-co2_coccon101_2020-01-03T111727Z_unfiltered_xco2.tif.aux.xml.\n",
      "Warning 1: Unable to save auxiliary information in /vsis3/sdap-dev-zarr/OCO3/outputs/veda/demo-2024.10.28-target/SIMULTEST_TFP_cog/oco3-co2_coccon101_2020-01-03T111736Z_filtered_xco2.tif.aux.xml.\n",
      "Warning 1: Unable to save auxiliary information in /vsis3/sdap-dev-zarr/OCO3/outputs/veda/demo-2024.10.28-target/SIMULTEST_TFP_cog/oco3-co2_coccon101_2020-01-11T080839Z_unfiltered_xco2.tif.aux.xml.\n",
      "Warning 1: Unable to save auxiliary information in /vsis3/sdap-dev-zarr/OCO3/outputs/veda/demo-2024.10.28-target/SIMULTEST_TFP_cog/oco3-co2_coccon101_2020-01-16T153349Z_filtered_xco2.tif.aux.xml.\n"
     ]
    },
    {
     "name": "stdout",
     "output_type": "stream",
     "text": [
      "Copied: s3://sdap-dev-zarr/OCO3/outputs/veda/demo-2024.10.28-target/SIMULTEST_TFP_cog/oco3-co2_coccon101_2020-01-16T153349Z_unfiltered_xco2.tif to s3://veda-data-store-staging/oco3-co2-sam-l3-cogs/oco3-co2_coccon101_2020-01-16T153349Z_unfiltered_xco2.tif\n",
      "Copied: s3://sdap-dev-zarr/OCO3/outputs/veda/demo-2024.10.28-target/SIMULTEST_TFP_cog/oco3-co2_coccon101_2020-03-19T143239Z_filtered_xco2.tif to s3://veda-data-store-staging/oco3-co2-sam-l3-cogs/oco3-co2_coccon101_2020-03-19T143239Z_filtered_xco2.tif\n",
      "Copied: s3://sdap-dev-zarr/OCO3/outputs/veda/demo-2024.10.28-target/SIMULTEST_TFP_cog/oco3-co2_coccon101_2020-03-23T125958Z_unfiltered_xco2.tif to s3://veda-data-store-staging/oco3-co2-sam-l3-cogs/oco3-co2_coccon101_2020-03-23T125958Z_unfiltered_xco2.tif\n"
     ]
    },
    {
     "name": "stderr",
     "output_type": "stream",
     "text": [
      "Warning 1: Unable to save auxiliary information in /vsis3/sdap-dev-zarr/OCO3/outputs/veda/demo-2024.10.28-target/SIMULTEST_TFP_cog/oco3-co2_coccon101_2020-01-16T153349Z_unfiltered_xco2.tif.aux.xml.\n",
      "Warning 1: Unable to save auxiliary information in /vsis3/sdap-dev-zarr/OCO3/outputs/veda/demo-2024.10.28-target/SIMULTEST_TFP_cog/oco3-co2_coccon101_2020-03-19T143239Z_filtered_xco2.tif.aux.xml.\n",
      "Warning 1: Unable to save auxiliary information in /vsis3/sdap-dev-zarr/OCO3/outputs/veda/demo-2024.10.28-target/SIMULTEST_TFP_cog/oco3-co2_coccon101_2020-03-23T125958Z_unfiltered_xco2.tif.aux.xml.\n"
     ]
    },
    {
     "name": "stdout",
     "output_type": "stream",
     "text": [
      "Copied: s3://sdap-dev-zarr/OCO3/outputs/veda/demo-2024.10.28-target/SIMULTEST_TFP_cog/oco3-co2_coccon101_2020-03-23T125959Z_filtered_xco2.tif to s3://veda-data-store-staging/oco3-co2-sam-l3-cogs/oco3-co2_coccon101_2020-03-23T125959Z_filtered_xco2.tif\n",
      "Copied: s3://sdap-dev-zarr/OCO3/outputs/veda/demo-2024.10.28-target/SIMULTEST_TFP_cog/oco3-co2_coccon101_2020-03-19T143239Z_unfiltered_xco2.tif to s3://veda-data-store-staging/oco3-co2-sam-l3-cogs/oco3-co2_coccon101_2020-03-19T143239Z_unfiltered_xco2.tif\n",
      "Copied: s3://sdap-dev-zarr/OCO3/outputs/veda/demo-2024.10.28-target/SIMULTEST_TFP_cog/oco3-co2_coccon101_2020-03-27T112726Z_filtered_xco2.tif to s3://veda-data-store-staging/oco3-co2-sam-l3-cogs/oco3-co2_coccon101_2020-03-27T112726Z_filtered_xco2.tif\n",
      "Copied: s3://sdap-dev-zarr/OCO3/outputs/veda/demo-2024.10.28-target/SIMULTEST_TFP_cog/oco3-co2_coccon101_2020-03-27T112719Z_unfiltered_xco2.tif to s3://veda-data-store-staging/oco3-co2-sam-l3-cogs/oco3-co2_coccon101_2020-03-27T112719Z_unfiltered_xco2.tif\n"
     ]
    },
    {
     "name": "stderr",
     "output_type": "stream",
     "text": [
      "Warning 1: Unable to save auxiliary information in /vsis3/sdap-dev-zarr/OCO3/outputs/veda/demo-2024.10.28-target/SIMULTEST_TFP_cog/oco3-co2_coccon101_2020-03-23T125959Z_filtered_xco2.tif.aux.xml.\n",
      "Warning 1: Unable to save auxiliary information in /vsis3/sdap-dev-zarr/OCO3/outputs/veda/demo-2024.10.28-target/SIMULTEST_TFP_cog/oco3-co2_coccon101_2020-03-19T143239Z_unfiltered_xco2.tif.aux.xml.\n",
      "Warning 1: Unable to save auxiliary information in /vsis3/sdap-dev-zarr/OCO3/outputs/veda/demo-2024.10.28-target/SIMULTEST_TFP_cog/oco3-co2_coccon101_2020-03-27T112726Z_filtered_xco2.tif.aux.xml.\n",
      "Warning 1: Unable to save auxiliary information in /vsis3/sdap-dev-zarr/OCO3/outputs/veda/demo-2024.10.28-target/SIMULTEST_TFP_cog/oco3-co2_coccon101_2020-03-27T112719Z_unfiltered_xco2.tif.aux.xml.\n"
     ]
    },
    {
     "name": "stdout",
     "output_type": "stream",
     "text": [
      "Copied: s3://sdap-dev-zarr/OCO3/outputs/veda/demo-2024.10.28-target/SIMULTEST_TFP_cog/oco3-co2_coccon101_2020-04-04T082227Z_filtered_xco2.tif to s3://veda-data-store-staging/oco3-co2-sam-l3-cogs/oco3-co2_coccon101_2020-04-04T082227Z_filtered_xco2.tif\n",
      "Copied: s3://sdap-dev-zarr/OCO3/outputs/veda/demo-2024.10.28-target/SIMULTEST_TFP_cog/oco3-co2_coccon101_2020-04-04T082227Z_unfiltered_xco2.tif to s3://veda-data-store-staging/oco3-co2-sam-l3-cogs/oco3-co2_coccon101_2020-04-04T082227Z_unfiltered_xco2.tif\n",
      "Copied: s3://sdap-dev-zarr/OCO3/outputs/veda/demo-2024.10.28-target/SIMULTEST_TFP_cog/oco3-co2_coccon101_2020-04-26T140426Z_filtered_xco2.tif to s3://veda-data-store-staging/oco3-co2-sam-l3-cogs/oco3-co2_coccon101_2020-04-26T140426Z_filtered_xco2.tif\n",
      "Copied: s3://sdap-dev-zarr/OCO3/outputs/veda/demo-2024.10.28-target/SIMULTEST_TFP_cog/oco3-co2_coccon102_2019-09-13T070209Z_unfiltered_xco2.tif to s3://veda-data-store-staging/oco3-co2-sam-l3-cogs/oco3-co2_coccon102_2019-09-13T070209Z_unfiltered_xco2.tif\n"
     ]
    },
    {
     "name": "stderr",
     "output_type": "stream",
     "text": [
      "Warning 1: Unable to save auxiliary information in /vsis3/sdap-dev-zarr/OCO3/outputs/veda/demo-2024.10.28-target/SIMULTEST_TFP_cog/oco3-co2_coccon101_2020-04-04T082227Z_filtered_xco2.tif.aux.xml.\n",
      "Warning 1: Unable to save auxiliary information in /vsis3/sdap-dev-zarr/OCO3/outputs/veda/demo-2024.10.28-target/SIMULTEST_TFP_cog/oco3-co2_coccon101_2020-04-04T082227Z_unfiltered_xco2.tif.aux.xml.\n",
      "Warning 1: Unable to save auxiliary information in /vsis3/sdap-dev-zarr/OCO3/outputs/veda/demo-2024.10.28-target/SIMULTEST_TFP_cog/oco3-co2_coccon101_2020-04-26T140426Z_filtered_xco2.tif.aux.xml.\n",
      "Warning 1: Unable to save auxiliary information in /vsis3/sdap-dev-zarr/OCO3/outputs/veda/demo-2024.10.28-target/SIMULTEST_TFP_cog/oco3-co2_coccon102_2019-09-13T070209Z_unfiltered_xco2.tif.aux.xml.\n"
     ]
    },
    {
     "name": "stdout",
     "output_type": "stream",
     "text": [
      "Copied: s3://sdap-dev-zarr/OCO3/outputs/veda/demo-2024.10.28-target/SIMULTEST_TFP_cog/oco3-co2_coccon102_2019-09-22T124826Z_filtered_xco2.tif to s3://veda-data-store-staging/oco3-co2-sam-l3-cogs/oco3-co2_coccon102_2019-09-22T124826Z_filtered_xco2.tif\n",
      "Copied: s3://sdap-dev-zarr/OCO3/outputs/veda/demo-2024.10.28-target/SIMULTEST_TFP_cog/oco3-co2_coccon101_2020-04-26T140426Z_unfiltered_xco2.tif to s3://veda-data-store-staging/oco3-co2-sam-l3-cogs/oco3-co2_coccon101_2020-04-26T140426Z_unfiltered_xco2.tif\n",
      "Copied: s3://sdap-dev-zarr/OCO3/outputs/veda/demo-2024.10.28-target/SIMULTEST_TFP_cog/oco3-co2_coccon102_2019-12-24T142949Z_filtered_xco2.tif to s3://veda-data-store-staging/oco3-co2-sam-l3-cogs/oco3-co2_coccon102_2019-12-24T142949Z_filtered_xco2.tif\n"
     ]
    },
    {
     "name": "stderr",
     "output_type": "stream",
     "text": [
      "Warning 1: Unable to save auxiliary information in /vsis3/sdap-dev-zarr/OCO3/outputs/veda/demo-2024.10.28-target/SIMULTEST_TFP_cog/oco3-co2_coccon102_2019-09-22T124826Z_filtered_xco2.tif.aux.xml.\n",
      "Warning 1: Unable to save auxiliary information in /vsis3/sdap-dev-zarr/OCO3/outputs/veda/demo-2024.10.28-target/SIMULTEST_TFP_cog/oco3-co2_coccon101_2020-04-26T140426Z_unfiltered_xco2.tif.aux.xml.\n",
      "Warning 1: Unable to save auxiliary information in /vsis3/sdap-dev-zarr/OCO3/outputs/veda/demo-2024.10.28-target/SIMULTEST_TFP_cog/oco3-co2_coccon102_2019-12-24T142949Z_filtered_xco2.tif.aux.xml.\n"
     ]
    },
    {
     "name": "stdout",
     "output_type": "stream",
     "text": [
      "Copied: s3://sdap-dev-zarr/OCO3/outputs/veda/demo-2024.10.28-target/SIMULTEST_TFP_cog/oco3-co2_coccon102_2019-12-24T142949Z_unfiltered_xco2.tif to s3://veda-data-store-staging/oco3-co2-sam-l3-cogs/oco3-co2_coccon102_2019-12-24T142949Z_unfiltered_xco2.tif\n",
      "Copied: s3://sdap-dev-zarr/OCO3/outputs/veda/demo-2024.10.28-target/SIMULTEST_TFP_cog/oco3-co2_coccon102_2019-09-22T124826Z_unfiltered_xco2.tif to s3://veda-data-store-staging/oco3-co2-sam-l3-cogs/oco3-co2_coccon102_2019-09-22T124826Z_unfiltered_xco2.tif\n",
      "Copied: s3://sdap-dev-zarr/OCO3/outputs/veda/demo-2024.10.28-target/SIMULTEST_TFP_cog/oco3-co2_coccon102_2020-01-05T094327Z_filtered_xco2.tif to s3://veda-data-store-staging/oco3-co2-sam-l3-cogs/oco3-co2_coccon102_2020-01-05T094327Z_filtered_xco2.tif\n",
      "Copied: s3://sdap-dev-zarr/OCO3/outputs/veda/demo-2024.10.28-target/SIMULTEST_TFP_cog/oco3-co2_coccon102_2020-01-09T080909Z_unfiltered_xco2.tif to s3://veda-data-store-staging/oco3-co2-sam-l3-cogs/oco3-co2_coccon102_2020-01-09T080909Z_unfiltered_xco2.tif\n"
     ]
    },
    {
     "name": "stderr",
     "output_type": "stream",
     "text": [
      "Warning 1: Unable to save auxiliary information in /vsis3/sdap-dev-zarr/OCO3/outputs/veda/demo-2024.10.28-target/SIMULTEST_TFP_cog/oco3-co2_coccon102_2019-12-24T142949Z_unfiltered_xco2.tif.aux.xml.\n",
      "Warning 1: Unable to save auxiliary information in /vsis3/sdap-dev-zarr/OCO3/outputs/veda/demo-2024.10.28-target/SIMULTEST_TFP_cog/oco3-co2_coccon102_2019-09-22T124826Z_unfiltered_xco2.tif.aux.xml.\n",
      "Warning 1: Unable to save auxiliary information in /vsis3/sdap-dev-zarr/OCO3/outputs/veda/demo-2024.10.28-target/SIMULTEST_TFP_cog/oco3-co2_coccon102_2020-01-05T094327Z_filtered_xco2.tif.aux.xml.\n",
      "Warning 1: Unable to save auxiliary information in /vsis3/sdap-dev-zarr/OCO3/outputs/veda/demo-2024.10.28-target/SIMULTEST_TFP_cog/oco3-co2_coccon102_2020-01-09T080909Z_unfiltered_xco2.tif.aux.xml.\n"
     ]
    },
    {
     "name": "stdout",
     "output_type": "stream",
     "text": [
      "Copied: s3://sdap-dev-zarr/OCO3/outputs/veda/demo-2024.10.28-target/SIMULTEST_TFP_cog/oco3-co2_coccon102_2020-01-13T063316Z_unfiltered_xco2.tif to s3://veda-data-store-staging/oco3-co2-sam-l3-cogs/oco3-co2_coccon102_2020-01-13T063316Z_unfiltered_xco2.tif\n",
      "Copied: s3://sdap-dev-zarr/OCO3/outputs/veda/demo-2024.10.28-target/SIMULTEST_TFP_cog/oco3-co2_coccon102_2020-01-05T094327Z_unfiltered_xco2.tif to s3://veda-data-store-staging/oco3-co2-sam-l3-cogs/oco3-co2_coccon102_2020-01-05T094327Z_unfiltered_xco2.tif\n",
      "Copied: s3://sdap-dev-zarr/OCO3/outputs/veda/demo-2024.10.28-target/SIMULTEST_TFP_cog/oco3-co2_coccon102_2020-03-21T130010Z_filtered_xco2.tif to s3://veda-data-store-staging/oco3-co2-sam-l3-cogs/oco3-co2_coccon102_2020-03-21T130010Z_filtered_xco2.tif\n",
      "Copied: s3://sdap-dev-zarr/OCO3/outputs/veda/demo-2024.10.28-target/SIMULTEST_TFP_cog/oco3-co2_coccon102_2020-01-13T063319Z_filtered_xco2.tif to s3://veda-data-store-staging/oco3-co2-sam-l3-cogs/oco3-co2_coccon102_2020-01-13T063319Z_filtered_xco2.tif\n",
      "Copied: s3://sdap-dev-zarr/OCO3/outputs/veda/demo-2024.10.28-target/SIMULTEST_TFP_cog/oco3-co2_coccon102_2020-03-21T130010Z_unfiltered_xco2.tif to s3://veda-data-store-staging/oco3-co2-sam-l3-cogs/oco3-co2_coccon102_2020-03-21T130010Z_unfiltered_xco2.tif\n"
     ]
    },
    {
     "name": "stderr",
     "output_type": "stream",
     "text": [
      "Warning 1: Unable to save auxiliary information in /vsis3/sdap-dev-zarr/OCO3/outputs/veda/demo-2024.10.28-target/SIMULTEST_TFP_cog/oco3-co2_coccon102_2020-01-13T063316Z_unfiltered_xco2.tif.aux.xml.\n",
      "Warning 1: Unable to save auxiliary information in /vsis3/sdap-dev-zarr/OCO3/outputs/veda/demo-2024.10.28-target/SIMULTEST_TFP_cog/oco3-co2_coccon102_2020-01-05T094327Z_unfiltered_xco2.tif.aux.xml.\n",
      "Warning 1: Unable to save auxiliary information in /vsis3/sdap-dev-zarr/OCO3/outputs/veda/demo-2024.10.28-target/SIMULTEST_TFP_cog/oco3-co2_coccon102_2020-03-21T130010Z_filtered_xco2.tif.aux.xml.\n",
      "Warning 1: Unable to save auxiliary information in /vsis3/sdap-dev-zarr/OCO3/outputs/veda/demo-2024.10.28-target/SIMULTEST_TFP_cog/oco3-co2_coccon102_2020-01-13T063319Z_filtered_xco2.tif.aux.xml.\n",
      "Warning 1: Unable to save auxiliary information in /vsis3/sdap-dev-zarr/OCO3/outputs/veda/demo-2024.10.28-target/SIMULTEST_TFP_cog/oco3-co2_coccon102_2020-03-21T130010Z_unfiltered_xco2.tif.aux.xml.\n"
     ]
    },
    {
     "name": "stdout",
     "output_type": "stream",
     "text": [
      "Copied: s3://sdap-dev-zarr/OCO3/outputs/veda/demo-2024.10.28-target/SIMULTEST_TFP_cog/oco3-co2_coccon102_2020-04-02T082310Z_unfiltered_xco2.tif to s3://veda-data-store-staging/oco3-co2-sam-l3-cogs/oco3-co2_coccon102_2020-04-02T082310Z_unfiltered_xco2.tif\n",
      "Copied: s3://sdap-dev-zarr/OCO3/outputs/veda/demo-2024.10.28-target/SIMULTEST_TFP_cog/oco3-co2_coccon102_2020-03-25T112730Z_filtered_xco2.tif to s3://veda-data-store-staging/oco3-co2-sam-l3-cogs/oco3-co2_coccon102_2020-03-25T112730Z_filtered_xco2.tif\n",
      "Copied: s3://sdap-dev-zarr/OCO3/outputs/veda/demo-2024.10.28-target/SIMULTEST_TFP_cog/oco3-co2_coccon102_2020-03-25T112729Z_unfiltered_xco2.tif to s3://veda-data-store-staging/oco3-co2-sam-l3-cogs/oco3-co2_coccon102_2020-03-25T112729Z_unfiltered_xco2.tif\n"
     ]
    },
    {
     "name": "stderr",
     "output_type": "stream",
     "text": [
      "Warning 1: Unable to save auxiliary information in /vsis3/sdap-dev-zarr/OCO3/outputs/veda/demo-2024.10.28-target/SIMULTEST_TFP_cog/oco3-co2_coccon102_2020-04-02T082310Z_unfiltered_xco2.tif.aux.xml.\n",
      "Warning 1: Unable to save auxiliary information in /vsis3/sdap-dev-zarr/OCO3/outputs/veda/demo-2024.10.28-target/SIMULTEST_TFP_cog/oco3-co2_coccon102_2020-03-25T112730Z_filtered_xco2.tif.aux.xml.\n",
      "Warning 1: Unable to save auxiliary information in /vsis3/sdap-dev-zarr/OCO3/outputs/veda/demo-2024.10.28-target/SIMULTEST_TFP_cog/oco3-co2_coccon102_2020-03-25T112729Z_unfiltered_xco2.tif.aux.xml.\n"
     ]
    },
    {
     "name": "stdout",
     "output_type": "stream",
     "text": [
      "Copied: s3://sdap-dev-zarr/OCO3/outputs/veda/demo-2024.10.28-target/SIMULTEST_TFP_cog/oco3-co2_coccon102_2020-04-06T065019Z_filtered_xco2.tif to s3://veda-data-store-staging/oco3-co2-sam-l3-cogs/oco3-co2_coccon102_2020-04-06T065019Z_filtered_xco2.tif\n",
      "Copied: s3://sdap-dev-zarr/OCO3/outputs/veda/demo-2024.10.28-target/SIMULTEST_TFP_cog/oco3-co2_coccon102_2020-05-02T105636Z_unfiltered_xco2.tif to s3://veda-data-store-staging/oco3-co2-sam-l3-cogs/oco3-co2_coccon102_2020-05-02T105636Z_unfiltered_xco2.tif\n",
      "Copied: s3://sdap-dev-zarr/OCO3/outputs/veda/demo-2024.10.28-target/SIMULTEST_TFP_cog/oco3-co2_coccon102_2020-05-02T105636Z_filtered_xco2.tif to s3://veda-data-store-staging/oco3-co2-sam-l3-cogs/oco3-co2_coccon102_2020-05-02T105636Z_filtered_xco2.tif\n",
      "Copied: s3://sdap-dev-zarr/OCO3/outputs/veda/demo-2024.10.28-target/SIMULTEST_TFP_cog/oco3-co2_coccon102_2020-05-10T074756Z_filtered_xco2.tif to s3://veda-data-store-staging/oco3-co2-sam-l3-cogs/oco3-co2_coccon102_2020-05-10T074756Z_filtered_xco2.tif\n",
      "Copied: s3://sdap-dev-zarr/OCO3/outputs/veda/demo-2024.10.28-target/SIMULTEST_TFP_cog/oco3-co2_coccon102_2020-04-06T065017Z_unfiltered_xco2.tif to s3://veda-data-store-staging/oco3-co2-sam-l3-cogs/oco3-co2_coccon102_2020-04-06T065017Z_unfiltered_xco2.tif\n"
     ]
    },
    {
     "name": "stderr",
     "output_type": "stream",
     "text": [
      "Warning 1: Unable to save auxiliary information in /vsis3/sdap-dev-zarr/OCO3/outputs/veda/demo-2024.10.28-target/SIMULTEST_TFP_cog/oco3-co2_coccon102_2020-04-06T065019Z_filtered_xco2.tif.aux.xml.\n",
      "Warning 1: Unable to save auxiliary information in /vsis3/sdap-dev-zarr/OCO3/outputs/veda/demo-2024.10.28-target/SIMULTEST_TFP_cog/oco3-co2_coccon102_2020-05-02T105636Z_unfiltered_xco2.tif.aux.xml.\n",
      "Warning 1: Unable to save auxiliary information in /vsis3/sdap-dev-zarr/OCO3/outputs/veda/demo-2024.10.28-target/SIMULTEST_TFP_cog/oco3-co2_coccon102_2020-05-02T105636Z_filtered_xco2.tif.aux.xml.\n",
      "Warning 1: Unable to save auxiliary information in /vsis3/sdap-dev-zarr/OCO3/outputs/veda/demo-2024.10.28-target/SIMULTEST_TFP_cog/oco3-co2_coccon102_2020-05-10T074756Z_filtered_xco2.tif.aux.xml.\n",
      "Warning 1: Unable to save auxiliary information in /vsis3/sdap-dev-zarr/OCO3/outputs/veda/demo-2024.10.28-target/SIMULTEST_TFP_cog/oco3-co2_coccon102_2020-04-06T065017Z_unfiltered_xco2.tif.aux.xml.\n"
     ]
    },
    {
     "name": "stdout",
     "output_type": "stream",
     "text": [
      "Copied: s3://sdap-dev-zarr/OCO3/outputs/veda/demo-2024.10.28-target/SIMULTEST_TFP_cog/oco3-co2_coccon102_2020-05-10T074756Z_unfiltered_xco2.tif to s3://veda-data-store-staging/oco3-co2-sam-l3-cogs/oco3-co2_coccon102_2020-05-10T074756Z_unfiltered_xco2.tif\n",
      "Copied: s3://sdap-dev-zarr/OCO3/outputs/veda/demo-2024.10.28-target/SIMULTEST_TFP_cog/oco3-co2_coccon102_2020-05-06T092216Z_filtered_xco2.tif to s3://veda-data-store-staging/oco3-co2-sam-l3-cogs/oco3-co2_coccon102_2020-05-06T092216Z_filtered_xco2.tif\n",
      "Copied: s3://sdap-dev-zarr/OCO3/outputs/veda/demo-2024.10.28-target/SIMULTEST_TFP_cog/oco3-co2_coccon103_2019-09-24T125407Z_filtered_xco2.tif to s3://veda-data-store-staging/oco3-co2-sam-l3-cogs/oco3-co2_coccon103_2019-09-24T125407Z_filtered_xco2.tif\n",
      "Copied: s3://sdap-dev-zarr/OCO3/outputs/veda/demo-2024.10.28-target/SIMULTEST_TFP_cog/oco3-co2_coccon102_2020-05-06T092216Z_unfiltered_xco2.tif to s3://veda-data-store-staging/oco3-co2-sam-l3-cogs/oco3-co2_coccon102_2020-05-06T092216Z_unfiltered_xco2.tif\n",
      "Copied: s3://sdap-dev-zarr/OCO3/outputs/veda/demo-2024.10.28-target/SIMULTEST_TFP_cog/oco3-co2_coccon103_2019-09-24T125407Z_unfiltered_xco2.tif to s3://veda-data-store-staging/oco3-co2-sam-l3-cogs/oco3-co2_coccon103_2019-09-24T125407Z_unfiltered_xco2.tif\n",
      "Copied: s3://sdap-dev-zarr/OCO3/outputs/veda/demo-2024.10.28-target/SIMULTEST_TFP_cog/oco3-co2_coccon103_2019-12-24T124920Z_filtered_xco2.tif to s3://veda-data-store-staging/oco3-co2-sam-l3-cogs/oco3-co2_coccon103_2019-12-24T124920Z_filtered_xco2.tif\n",
      "Copied: s3://sdap-dev-zarr/OCO3/outputs/veda/demo-2024.10.28-target/SIMULTEST_TFP_cog/oco3-co2_coccon103_2019-12-24T124920Z_unfiltered_xco2.tif to s3://veda-data-store-staging/oco3-co2-sam-l3-cogs/oco3-co2_coccon103_2019-12-24T124920Z_unfiltered_xco2.tif\n"
     ]
    },
    {
     "name": "stderr",
     "output_type": "stream",
     "text": [
      "Warning 1: Unable to save auxiliary information in /vsis3/sdap-dev-zarr/OCO3/outputs/veda/demo-2024.10.28-target/SIMULTEST_TFP_cog/oco3-co2_coccon102_2020-05-10T074756Z_unfiltered_xco2.tif.aux.xml.\n",
      "Warning 1: Unable to save auxiliary information in /vsis3/sdap-dev-zarr/OCO3/outputs/veda/demo-2024.10.28-target/SIMULTEST_TFP_cog/oco3-co2_coccon102_2020-05-06T092216Z_filtered_xco2.tif.aux.xml.\n",
      "Warning 1: Unable to save auxiliary information in /vsis3/sdap-dev-zarr/OCO3/outputs/veda/demo-2024.10.28-target/SIMULTEST_TFP_cog/oco3-co2_coccon103_2019-09-24T125407Z_filtered_xco2.tif.aux.xml.\n",
      "Warning 1: Unable to save auxiliary information in /vsis3/sdap-dev-zarr/OCO3/outputs/veda/demo-2024.10.28-target/SIMULTEST_TFP_cog/oco3-co2_coccon102_2020-05-06T092216Z_unfiltered_xco2.tif.aux.xml.\n",
      "Warning 1: Unable to save auxiliary information in /vsis3/sdap-dev-zarr/OCO3/outputs/veda/demo-2024.10.28-target/SIMULTEST_TFP_cog/oco3-co2_coccon103_2019-09-24T125407Z_unfiltered_xco2.tif.aux.xml.\n",
      "Warning 1: Unable to save auxiliary information in /vsis3/sdap-dev-zarr/OCO3/outputs/veda/demo-2024.10.28-target/SIMULTEST_TFP_cog/oco3-co2_coccon103_2019-12-24T124920Z_filtered_xco2.tif.aux.xml.\n",
      "Warning 1: Unable to save auxiliary information in /vsis3/sdap-dev-zarr/OCO3/outputs/veda/demo-2024.10.28-target/SIMULTEST_TFP_cog/oco3-co2_coccon103_2019-12-24T124920Z_unfiltered_xco2.tif.aux.xml.\n"
     ]
    },
    {
     "name": "stdout",
     "output_type": "stream",
     "text": [
      "Copied: s3://sdap-dev-zarr/OCO3/outputs/veda/demo-2024.10.28-target/SIMULTEST_TFP_cog/oco3-co2_coccon103_2020-01-05T080248Z_unfiltered_xco2.tif to s3://veda-data-store-staging/oco3-co2-sam-l3-cogs/oco3-co2_coccon103_2020-01-05T080248Z_unfiltered_xco2.tif\n",
      "Copied: s3://sdap-dev-zarr/OCO3/outputs/veda/demo-2024.10.28-target/SIMULTEST_TFP_cog/oco3-co2_coccon103_2020-01-05T080303Z_filtered_xco2.tif to s3://veda-data-store-staging/oco3-co2-sam-l3-cogs/oco3-co2_coccon103_2020-01-05T080303Z_filtered_xco2.tif\n",
      "Copied: s3://sdap-dev-zarr/OCO3/outputs/veda/demo-2024.10.28-target/SIMULTEST_TFP_cog/oco3-co2_coccon103_2020-01-09T062748Z_filtered_xco2.tif to s3://veda-data-store-staging/oco3-co2-sam-l3-cogs/oco3-co2_coccon103_2020-01-09T062748Z_filtered_xco2.tif\n",
      "Copied: s3://sdap-dev-zarr/OCO3/outputs/veda/demo-2024.10.28-target/SIMULTEST_TFP_cog/oco3-co2_coccon103_2020-03-23T130802Z_filtered_xco2.tif to s3://veda-data-store-staging/oco3-co2-sam-l3-cogs/oco3-co2_coccon103_2020-03-23T130802Z_filtered_xco2.tif\n"
     ]
    },
    {
     "name": "stderr",
     "output_type": "stream",
     "text": [
      "Warning 1: Unable to save auxiliary information in /vsis3/sdap-dev-zarr/OCO3/outputs/veda/demo-2024.10.28-target/SIMULTEST_TFP_cog/oco3-co2_coccon103_2020-01-05T080248Z_unfiltered_xco2.tif.aux.xml.\n",
      "Warning 1: Unable to save auxiliary information in /vsis3/sdap-dev-zarr/OCO3/outputs/veda/demo-2024.10.28-target/SIMULTEST_TFP_cog/oco3-co2_coccon103_2020-01-09T062748Z_filtered_xco2.tif.aux.xml.\n",
      "Warning 1: Unable to save auxiliary information in /vsis3/sdap-dev-zarr/OCO3/outputs/veda/demo-2024.10.28-target/SIMULTEST_TFP_cog/oco3-co2_coccon103_2020-03-23T130802Z_filtered_xco2.tif.aux.xml.\n",
      "Warning 1: Unable to save auxiliary information in /vsis3/sdap-dev-zarr/OCO3/outputs/veda/demo-2024.10.28-target/SIMULTEST_TFP_cog/oco3-co2_coccon103_2020-01-05T080303Z_filtered_xco2.tif.aux.xml.\n",
      "Warning 1: Unable to save auxiliary information in /vsis3/sdap-dev-zarr/OCO3/outputs/veda/demo-2024.10.28-target/SIMULTEST_TFP_cog/oco3-co2_coccon103_2020-01-09T062748Z_unfiltered_xco2.tif.aux.xml.\n",
      "Warning 1: Unable to save auxiliary information in /vsis3/sdap-dev-zarr/OCO3/outputs/veda/demo-2024.10.28-target/SIMULTEST_TFP_cog/oco3-co2_coccon103_2020-03-23T130802Z_unfiltered_xco2.tif.aux.xml.\n",
      "Warning 1: Unable to save auxiliary information in /vsis3/sdap-dev-zarr/OCO3/outputs/veda/demo-2024.10.28-target/SIMULTEST_TFP_cog/oco3-co2_coccon103_2020-03-27T113519Z_unfiltered_xco2.tif.aux.xml.\n",
      "Warning 1: Unable to save auxiliary information in /vsis3/sdap-dev-zarr/OCO3/outputs/veda/demo-2024.10.28-target/SIMULTEST_TFP_cog/oco3-co2_coccon103_2020-03-27T113528Z_filtered_xco2.tif.aux.xml.\n"
     ]
    },
    {
     "name": "stdout",
     "output_type": "stream",
     "text": [
      "Copied: s3://sdap-dev-zarr/OCO3/outputs/veda/demo-2024.10.28-target/SIMULTEST_TFP_cog/oco3-co2_coccon103_2020-01-09T062748Z_unfiltered_xco2.tif to s3://veda-data-store-staging/oco3-co2-sam-l3-cogs/oco3-co2_coccon103_2020-01-09T062748Z_unfiltered_xco2.tif\n",
      "Copied: s3://sdap-dev-zarr/OCO3/outputs/veda/demo-2024.10.28-target/SIMULTEST_TFP_cog/oco3-co2_coccon103_2020-03-23T130802Z_unfiltered_xco2.tif to s3://veda-data-store-staging/oco3-co2-sam-l3-cogs/oco3-co2_coccon103_2020-03-23T130802Z_unfiltered_xco2.tif\n",
      "Copied: s3://sdap-dev-zarr/OCO3/outputs/veda/demo-2024.10.28-target/SIMULTEST_TFP_cog/oco3-co2_coccon103_2020-03-27T113519Z_unfiltered_xco2.tif to s3://veda-data-store-staging/oco3-co2-sam-l3-cogs/oco3-co2_coccon103_2020-03-27T113519Z_unfiltered_xco2.tif\n",
      "Copied: s3://sdap-dev-zarr/OCO3/outputs/veda/demo-2024.10.28-target/SIMULTEST_TFP_cog/oco3-co2_coccon103_2020-03-27T113528Z_filtered_xco2.tif to s3://veda-data-store-staging/oco3-co2-sam-l3-cogs/oco3-co2_coccon103_2020-03-27T113528Z_filtered_xco2.tif\n",
      "Copied: s3://sdap-dev-zarr/OCO3/outputs/veda/demo-2024.10.28-target/SIMULTEST_TFP_cog/oco3-co2_coccon103_2020-04-08T065843Z_unfiltered_xco2.tif to s3://veda-data-store-staging/oco3-co2-sam-l3-cogs/oco3-co2_coccon103_2020-04-08T065843Z_unfiltered_xco2.tif\n",
      "Copied: s3://sdap-dev-zarr/OCO3/outputs/veda/demo-2024.10.28-target/SIMULTEST_TFP_cog/oco3-co2_coccon103_2020-04-08T065846Z_filtered_xco2.tif to s3://veda-data-store-staging/oco3-co2-sam-l3-cogs/oco3-co2_coccon103_2020-04-08T065846Z_filtered_xco2.tif\n"
     ]
    },
    {
     "name": "stderr",
     "output_type": "stream",
     "text": [
      "Warning 1: Unable to save auxiliary information in /vsis3/sdap-dev-zarr/OCO3/outputs/veda/demo-2024.10.28-target/SIMULTEST_TFP_cog/oco3-co2_coccon103_2020-04-08T065843Z_unfiltered_xco2.tif.aux.xml.\n",
      "Warning 1: Unable to save auxiliary information in /vsis3/sdap-dev-zarr/OCO3/outputs/veda/demo-2024.10.28-target/SIMULTEST_TFP_cog/oco3-co2_coccon103_2020-04-08T065846Z_filtered_xco2.tif.aux.xml.\n"
     ]
    }
   ],
   "source": [
    "def main():\n",
    "    failures = []\n",
    "    with concurrent.futures.ThreadPoolExecutor(max_workers=NUM_WORKERS) as executor:\n",
    "        futures = {\n",
    "            executor.submit(process_file, object_key): object_key\n",
    "            for object_key in all_objects[0:100]\n",
    "        }\n",
    "\n",
    "        for idx, future in enumerate(as_completed(futures)):\n",
    "            if idx % 100 == 0:\n",
    "                print(f\"processed file {idx}\")\n",
    "            result = future.result()\n",
    "            if result[\"status\"] == \"error\":\n",
    "                object_key = result[\"object_key\"]\n",
    "                failures.append((object_key, result))\n",
    "                # print(f\"{object_key}: {result['error_message']}\")\n",
    "\n",
    "    # Save results to a log file\n",
    "    with open(\"failed_files.log\", \"w\") as f:\n",
    "        for object_key, result in failures:\n",
    "            f.write(f\"{object_key}\\n\")\n",
    "\n",
    "\n",
    "main()"
   ]
  }
 ],
 "metadata": {
  "kernelspec": {
   "display_name": "Python 3 (ipykernel)",
   "language": "python",
   "name": "python3"
  },
  "language_info": {
   "codemirror_mode": {
    "name": "ipython",
    "version": 3
   },
   "file_extension": ".py",
   "mimetype": "text/x-python",
   "name": "python",
   "nbconvert_exporter": "python",
   "pygments_lexer": "ipython3",
   "version": "3.12.7"
  }
 },
 "nbformat": 4,
 "nbformat_minor": 5
}
