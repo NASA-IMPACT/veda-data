{
 "cells": [
  {
   "cell_type": "markdown",
   "id": "55f6ccf7-4c0f-46a0-8483-3c8fe7a4f789",
   "metadata": {},
   "source": [
    "# Adding OCO-[2|3]COGs"
   ]
  },
  {
   "cell_type": "code",
   "execution_count": 1,
   "id": "18cf5486-6e30-485d-bcf0-88778ad35bd6",
   "metadata": {},
   "outputs": [],
   "source": [
    "import boto3\n",
    "import concurrent.futures\n",
    "import os\n",
    "from concurrent.futures import ProcessPoolExecutor, as_completed\n",
    "from osgeo import gdal\n",
    "\n",
    "gdal.DontUseExceptions()\n",
    "\n",
    "s3_client = boto3.client(\"s3\")"
   ]
  },
  {
   "cell_type": "code",
   "execution_count": 3,
   "id": "c26045fd-de4d-4638-ae4b-a18dc6ccbfae",
   "metadata": {},
   "outputs": [],
   "source": [
    "source_bucket = \"sdap-dev-zarr\"\n",
    "source_dir = \"OCO3/outputs/veda/demo-2024.10.28-target/SIMULTEST_TFP_cog\"\n",
    "# Set the number of worker processes\n",
    "NUM_WORKERS = 4\n",
    "destination_bucket = \"veda-data-store-staging\"\n",
    "collection = \"oco2-co2\"\n",
    "prefix = f\"{source_dir}/{collection}\"\n",
    "collection_prefix_collection_id_map = {\n",
    "    \"oco3-co2\": \"oco3-co2-sam-l3-cogs\",\n",
    "    \"oco2-co2\": \"oco2-co2-target-cogs\",\n",
    "    \"oco3-sif\": \"oco3-co2-sif-cogs\",\n",
    "}"
   ]
  },
  {
   "cell_type": "code",
   "execution_count": 4,
   "id": "c1ffe44c-2a38-42de-844f-e71315bb9e81",
   "metadata": {},
   "outputs": [],
   "source": [
    "# List all objects in the source bucket\n",
    "all_objects = []\n",
    "continuation_token = None\n",
    "\n",
    "while all_objects == [] or continuation_token is not None:\n",
    "    args = dict(Bucket=source_bucket, Prefix=prefix)\n",
    "    if continuation_token is not None:\n",
    "        args[\"ContinuationToken\"] = continuation_token\n",
    "    response = s3_client.list_objects_v2(**args)\n",
    "    [all_objects.append(obj[\"Key\"]) for obj in response.get(\"Contents\", [])]\n",
    "    continuation_token = response.get(\"NextContinuationToken\", None)"
   ]
  },
  {
   "cell_type": "code",
   "execution_count": 5,
   "id": "95e1f08b-1651-4b3d-90f5-cafea5d7eded",
   "metadata": {},
   "outputs": [
    {
     "data": {
      "text/plain": [
       "1149"
      ]
     },
     "execution_count": 5,
     "metadata": {},
     "output_type": "execute_result"
    }
   ],
   "source": [
    "len(all_objects)"
   ]
  },
  {
   "cell_type": "code",
   "execution_count": 6,
   "id": "93227a49-b4f2-4539-813f-25dca1b241b9",
   "metadata": {},
   "outputs": [
    {
     "data": {
      "text/plain": [
       "'OCO3/outputs/veda/demo-2024.10.28-target/SIMULTEST_TFP_cog/oco2-co2_anmyeondoKo_2016-03-25T044042Z_unfiltered_xco2.tif'"
      ]
     },
     "execution_count": 6,
     "metadata": {},
     "output_type": "execute_result"
    }
   ],
   "source": [
    "all_objects[0]"
   ]
  },
  {
   "cell_type": "code",
   "execution_count": 9,
   "id": "11029195-d25b-44ca-997e-0fe7ad90cbd2",
   "metadata": {},
   "outputs": [],
   "source": [
    "def copy_object(object_key: str):\n",
    "    copy_source = {\"Bucket\": source_bucket, \"Key\": object_key}\n",
    "    destination_file_name = object_key.split(\"/\")[-1]\n",
    "    collection_prefix = destination_file_name.split(\"_\")[0]\n",
    "    destination_dir = collection_prefix_collection_id_map[collection_prefix]\n",
    "    destination_object_key = f\"{destination_dir}/{destination_file_name}\"\n",
    "    s3_client.copy_object(\n",
    "        CopySource=copy_source, Bucket=destination_bucket, Key=destination_object_key\n",
    "    )\n",
    "    print(\n",
    "        f\"Copied: s3://{source_bucket}/{object_key} to s3://{destination_bucket}/{destination_object_key}\"\n",
    "    )\n",
    "\n",
    "\n",
    "def process_file(object_key: str):\n",
    "    \"\"\"Function to process a single file.\"\"\"\n",
    "    dataset = gdal.Open(f\"/vsis3/{source_bucket}/{object_key}\", gdal.GA_ReadOnly)\n",
    "\n",
    "    if dataset is None:\n",
    "        return file_path, \"Failed to open\"\n",
    "\n",
    "    band = dataset.GetRasterBand(1)\n",
    "    stats = band.GetStatistics(True, True)\n",
    "\n",
    "    # Check for errors\n",
    "    err_type = gdal.GetLastErrorType()\n",
    "    err_msg = gdal.GetLastErrorMsg()\n",
    "\n",
    "    if \"Failed to compute statistics, no valid pixels found in sampling\" in err_msg:\n",
    "        return dict(\n",
    "            object_key=object_key,\n",
    "            error_message=f\"GDAL Error: {err_msg}\",\n",
    "            status=\"error\",\n",
    "        )\n",
    "    else:\n",
    "        copy_object(object_key=object_key)\n",
    "        return dict(object_key=object_key, error_message=None, status=\"success\")"
   ]
  },
  {
   "cell_type": "markdown",
   "id": "001cd610-a0b7-4140-9691-bf8b33886872",
   "metadata": {},
   "source": [
    "## Test one file"
   ]
  },
  {
   "cell_type": "code",
   "execution_count": 10,
   "id": "c6915325-3e07-47e4-8ec7-3f4b79789e89",
   "metadata": {},
   "outputs": [
    {
     "name": "stdout",
     "output_type": "stream",
     "text": [
      "Copied: s3://sdap-dev-zarr/OCO3/outputs/veda/demo-2024.10.28-target/SIMULTEST_TFP_cog/oco2-co2_anmyeondoKo_2016-03-25T044042Z_unfiltered_xco2.tif to s3://veda-data-store-staging/oco2-co2-target-cogs/oco2-co2_anmyeondoKo_2016-03-25T044042Z_unfiltered_xco2.tif\n"
     ]
    },
    {
     "name": "stderr",
     "output_type": "stream",
     "text": [
      "Warning 1: Unable to save auxiliary information in /vsis3/sdap-dev-zarr/OCO3/outputs/veda/demo-2024.10.28-target/SIMULTEST_TFP_cog/oco2-co2_anmyeondoKo_2016-03-25T044042Z_unfiltered_xco2.tif.aux.xml.\n"
     ]
    },
    {
     "data": {
      "text/plain": [
       "{'object_key': 'OCO3/outputs/veda/demo-2024.10.28-target/SIMULTEST_TFP_cog/oco2-co2_anmyeondoKo_2016-03-25T044042Z_unfiltered_xco2.tif',\n",
       " 'error_message': None,\n",
       " 'status': 'success'}"
      ]
     },
     "execution_count": 10,
     "metadata": {},
     "output_type": "execute_result"
    }
   ],
   "source": [
    "first_object_key = all_objects[0]\n",
    "process_file(first_object_key)"
   ]
  },
  {
   "cell_type": "code",
   "execution_count": 11,
   "id": "e6932be8-6dee-4631-8e0d-a31404b56c42",
   "metadata": {},
   "outputs": [
    {
     "name": "stdout",
     "output_type": "stream",
     "text": [
      "2025-03-27 21:52:40      82031 oco2-co2_anmyeondoKo_2016-03-25T044042Z_unfiltered_xco2.tif\n"
     ]
    }
   ],
   "source": [
    "!aws s3 ls s3://veda-data-store-staging/oco2-co2-target-cogs/ #| wc -l"
   ]
  },
  {
   "cell_type": "code",
   "execution_count": 12,
   "id": "5dd258aa-37d8-40d2-9767-b874abf0189a",
   "metadata": {},
   "outputs": [
    {
     "name": "stdout",
     "output_type": "stream",
     "text": [
      "Copied: s3://sdap-dev-zarr/OCO3/outputs/veda/demo-2024.10.28-target/SIMULTEST_TFP_cog/oco2-co2_anmyeondoKo_2016-03-25T044043Z_filtered_xco2.tif to s3://veda-data-store-staging/oco2-co2-target-cogs/oco2-co2_anmyeondoKo_2016-03-25T044043Z_filtered_xco2.tifCopied: s3://sdap-dev-zarr/OCO3/outputs/veda/demo-2024.10.28-target/SIMULTEST_TFP_cog/oco2-co2_anmyeondoKo_2016-03-25T044042Z_unfiltered_xco2.tif to s3://veda-data-store-staging/oco2-co2-target-cogs/oco2-co2_anmyeondoKo_2016-03-25T044042Z_unfiltered_xco2.tif\n",
      "\n",
      "Copied: s3://sdap-dev-zarr/OCO3/outputs/veda/demo-2024.10.28-target/SIMULTEST_TFP_cog/oco2-co2_anmyeondoKo_2016-05-19T044701Z_filtered_xco2.tif to s3://veda-data-store-staging/oco2-co2-target-cogs/oco2-co2_anmyeondoKo_2016-05-19T044701Z_filtered_xco2.tif\n",
      "processed file 0\n",
      "Copied: s3://sdap-dev-zarr/OCO3/outputs/veda/demo-2024.10.28-target/SIMULTEST_TFP_cog/oco2-co2_anmyeondoKo_2016-05-19T044658Z_unfiltered_xco2.tif to s3://veda-data-store-staging/oco2-co2-target-cogs/oco2-co2_anmyeondoKo_2016-05-19T044658Z_unfiltered_xco2.tif\n",
      "Copied: s3://sdap-dev-zarr/OCO3/outputs/veda/demo-2024.10.28-target/SIMULTEST_TFP_cog/oco2-co2_anmyeondoKo_2017-02-15T044700Z_unfiltered_xco2.tif to s3://veda-data-store-staging/oco2-co2-target-cogs/oco2-co2_anmyeondoKo_2017-02-15T044700Z_unfiltered_xco2.tif\n"
     ]
    },
    {
     "name": "stderr",
     "output_type": "stream",
     "text": [
      "Warning 1: Unable to save auxiliary information in /vsis3/sdap-dev-zarr/OCO3/outputs/veda/demo-2024.10.28-target/SIMULTEST_TFP_cog/oco2-co2_anmyeondoKo_2016-03-25T044043Z_filtered_xco2.tif.aux.xml.\n",
      "Warning 1: Unable to save auxiliary information in /vsis3/sdap-dev-zarr/OCO3/outputs/veda/demo-2024.10.28-target/SIMULTEST_TFP_cog/oco2-co2_anmyeondoKo_2016-05-19T044701Z_filtered_xco2.tif.aux.xml.\n",
      "Warning 1: Unable to save auxiliary information in /vsis3/sdap-dev-zarr/OCO3/outputs/veda/demo-2024.10.28-target/SIMULTEST_TFP_cog/oco2-co2_anmyeondoKo_2016-03-25T044042Z_unfiltered_xco2.tif.aux.xml.\n",
      "Warning 1: Unable to save auxiliary information in /vsis3/sdap-dev-zarr/OCO3/outputs/veda/demo-2024.10.28-target/SIMULTEST_TFP_cog/oco2-co2_anmyeondoKo_2016-05-19T044658Z_unfiltered_xco2.tif.aux.xml.\n",
      "Warning 1: Unable to save auxiliary information in /vsis3/sdap-dev-zarr/OCO3/outputs/veda/demo-2024.10.28-target/SIMULTEST_TFP_cog/oco2-co2_anmyeondoKo_2017-02-15T044700Z_unfiltered_xco2.tif.aux.xml.\n"
     ]
    },
    {
     "name": "stdout",
     "output_type": "stream",
     "text": [
      "Copied: s3://sdap-dev-zarr/OCO3/outputs/veda/demo-2024.10.28-target/SIMULTEST_TFP_cog/oco2-co2_anmyeondoKo_2020-03-18T045244Z_filtered_xco2.tif to s3://veda-data-store-staging/oco2-co2-target-cogs/oco2-co2_anmyeondoKo_2020-03-18T045244Z_filtered_xco2.tif\n",
      "Copied: s3://sdap-dev-zarr/OCO3/outputs/veda/demo-2024.10.28-target/SIMULTEST_TFP_cog/oco2-co2_ascensionIsland_2014-09-26T143542Z_filtered_xco2.tif to s3://veda-data-store-staging/oco2-co2-target-cogs/oco2-co2_ascensionIsland_2014-09-26T143542Z_filtered_xco2.tif\n",
      "Copied: s3://sdap-dev-zarr/OCO3/outputs/veda/demo-2024.10.28-target/SIMULTEST_TFP_cog/oco2-co2_ascensionIsland_2014-09-26T143441Z_unfiltered_xco2.tif to s3://veda-data-store-staging/oco2-co2-target-cogs/oco2-co2_ascensionIsland_2014-09-26T143441Z_unfiltered_xco2.tif\n",
      "Copied: s3://sdap-dev-zarr/OCO3/outputs/veda/demo-2024.10.28-target/SIMULTEST_TFP_cog/oco2-co2_anmyeondoKo_2020-03-18T045243Z_unfiltered_xco2.tif to s3://veda-data-store-staging/oco2-co2-target-cogs/oco2-co2_anmyeondoKo_2020-03-18T045243Z_unfiltered_xco2.tif\n",
      "Copied: s3://sdap-dev-zarr/OCO3/outputs/veda/demo-2024.10.28-target/SIMULTEST_TFP_cog/oco2-co2_ascensionIsland_2015-01-16T143300Z_unfiltered_xco2.tif to s3://veda-data-store-staging/oco2-co2-target-cogs/oco2-co2_ascensionIsland_2015-01-16T143300Z_unfiltered_xco2.tif\n",
      "Copied: s3://sdap-dev-zarr/OCO3/outputs/veda/demo-2024.10.28-target/SIMULTEST_TFP_cog/oco2-co2_ascensionIsland_2015-01-16T143429Z_filtered_xco2.tif to s3://veda-data-store-staging/oco2-co2-target-cogs/oco2-co2_ascensionIsland_2015-01-16T143429Z_filtered_xco2.tif\n",
      "Copied: s3://sdap-dev-zarr/OCO3/outputs/veda/demo-2024.10.28-target/SIMULTEST_TFP_cog/oco2-co2_ascensionIsland_2015-02-08T143935Z_unfiltered_xco2.tif to s3://veda-data-store-staging/oco2-co2-target-cogs/oco2-co2_ascensionIsland_2015-02-08T143935Z_unfiltered_xco2.tif\n"
     ]
    },
    {
     "name": "stderr",
     "output_type": "stream",
     "text": [
      "Warning 1: Unable to save auxiliary information in /vsis3/sdap-dev-zarr/OCO3/outputs/veda/demo-2024.10.28-target/SIMULTEST_TFP_cog/oco2-co2_anmyeondoKo_2020-03-18T045244Z_filtered_xco2.tif.aux.xml.\n",
      "Warning 1: Unable to save auxiliary information in /vsis3/sdap-dev-zarr/OCO3/outputs/veda/demo-2024.10.28-target/SIMULTEST_TFP_cog/oco2-co2_ascensionIsland_2014-09-26T143542Z_filtered_xco2.tif.aux.xml.\n",
      "Warning 1: Unable to save auxiliary information in /vsis3/sdap-dev-zarr/OCO3/outputs/veda/demo-2024.10.28-target/SIMULTEST_TFP_cog/oco2-co2_ascensionIsland_2014-09-26T143441Z_unfiltered_xco2.tif.aux.xml.\n",
      "Warning 1: Unable to save auxiliary information in /vsis3/sdap-dev-zarr/OCO3/outputs/veda/demo-2024.10.28-target/SIMULTEST_TFP_cog/oco2-co2_anmyeondoKo_2020-03-18T045243Z_unfiltered_xco2.tif.aux.xml.\n",
      "Warning 1: Unable to save auxiliary information in /vsis3/sdap-dev-zarr/OCO3/outputs/veda/demo-2024.10.28-target/SIMULTEST_TFP_cog/oco2-co2_ascensionIsland_2015-01-16T143300Z_unfiltered_xco2.tif.aux.xml.\n",
      "Warning 1: Unable to save auxiliary information in /vsis3/sdap-dev-zarr/OCO3/outputs/veda/demo-2024.10.28-target/SIMULTEST_TFP_cog/oco2-co2_ascensionIsland_2015-01-16T143429Z_filtered_xco2.tif.aux.xml.\n",
      "Warning 1: Unable to save auxiliary information in /vsis3/sdap-dev-zarr/OCO3/outputs/veda/demo-2024.10.28-target/SIMULTEST_TFP_cog/oco2-co2_ascensionIsland_2015-02-08T143935Z_unfiltered_xco2.tif.aux.xml.\n"
     ]
    },
    {
     "name": "stdout",
     "output_type": "stream",
     "text": [
      "Copied: s3://sdap-dev-zarr/OCO3/outputs/veda/demo-2024.10.28-target/SIMULTEST_TFP_cog/oco2-co2_ascensionIsland_2015-02-08T144117Z_filtered_xco2.tif to s3://veda-data-store-staging/oco2-co2-target-cogs/oco2-co2_ascensionIsland_2015-02-08T144117Z_filtered_xco2.tif\n",
      "Copied: s3://sdap-dev-zarr/OCO3/outputs/veda/demo-2024.10.28-target/SIMULTEST_TFP_cog/oco2-co2_ascensionIsland_2016-11-09T144213Z_unfiltered_xco2.tif to s3://veda-data-store-staging/oco2-co2-target-cogs/oco2-co2_ascensionIsland_2016-11-09T144213Z_unfiltered_xco2.tif\n",
      "Copied: s3://sdap-dev-zarr/OCO3/outputs/veda/demo-2024.10.28-target/SIMULTEST_TFP_cog/oco2-co2_ascensionIsland_2016-10-15T144617Z_unfiltered_xco2.tif to s3://veda-data-store-staging/oco2-co2-target-cogs/oco2-co2_ascensionIsland_2016-10-15T144617Z_unfiltered_xco2.tif\n",
      "Copied: s3://sdap-dev-zarr/OCO3/outputs/veda/demo-2024.10.28-target/SIMULTEST_TFP_cog/oco2-co2_ascensionIsland_2016-12-20T143344Z_unfiltered_xco2.tif to s3://veda-data-store-staging/oco2-co2-target-cogs/oco2-co2_ascensionIsland_2016-12-20T143344Z_unfiltered_xco2.tif\n",
      "Copied: s3://sdap-dev-zarr/OCO3/outputs/veda/demo-2024.10.28-target/SIMULTEST_TFP_cog/oco2-co2_ascensionIsland_2016-12-20T143444Z_filtered_xco2.tif to s3://veda-data-store-staging/oco2-co2-target-cogs/oco2-co2_ascensionIsland_2016-12-20T143444Z_filtered_xco2.tif\n"
     ]
    },
    {
     "name": "stderr",
     "output_type": "stream",
     "text": [
      "Warning 1: Unable to save auxiliary information in /vsis3/sdap-dev-zarr/OCO3/outputs/veda/demo-2024.10.28-target/SIMULTEST_TFP_cog/oco2-co2_ascensionIsland_2015-02-08T144117Z_filtered_xco2.tif.aux.xml.\n",
      "Warning 1: Unable to save auxiliary information in /vsis3/sdap-dev-zarr/OCO3/outputs/veda/demo-2024.10.28-target/SIMULTEST_TFP_cog/oco2-co2_ascensionIsland_2016-11-09T144213Z_unfiltered_xco2.tif.aux.xml.\n",
      "Warning 1: Unable to save auxiliary information in /vsis3/sdap-dev-zarr/OCO3/outputs/veda/demo-2024.10.28-target/SIMULTEST_TFP_cog/oco2-co2_ascensionIsland_2016-10-15T144617Z_unfiltered_xco2.tif.aux.xml.\n",
      "Warning 1: Unable to save auxiliary information in /vsis3/sdap-dev-zarr/OCO3/outputs/veda/demo-2024.10.28-target/SIMULTEST_TFP_cog/oco2-co2_ascensionIsland_2016-12-20T143344Z_unfiltered_xco2.tif.aux.xml.\n",
      "Warning 1: Unable to save auxiliary information in /vsis3/sdap-dev-zarr/OCO3/outputs/veda/demo-2024.10.28-target/SIMULTEST_TFP_cog/oco2-co2_ascensionIsland_2016-12-20T143444Z_filtered_xco2.tif.aux.xml.\n"
     ]
    },
    {
     "name": "stdout",
     "output_type": "stream",
     "text": [
      "Copied: s3://sdap-dev-zarr/OCO3/outputs/veda/demo-2024.10.28-target/SIMULTEST_TFP_cog/oco2-co2_ascensionIsland_2017-01-12T144011Z_filtered_xco2.tif to s3://veda-data-store-staging/oco2-co2-target-cogs/oco2-co2_ascensionIsland_2017-01-12T144011Z_filtered_xco2.tif\n",
      "Copied: s3://sdap-dev-zarr/OCO3/outputs/veda/demo-2024.10.28-target/SIMULTEST_TFP_cog/oco2-co2_ascensionIsland_2017-01-12T143942Z_unfiltered_xco2.tif to s3://veda-data-store-staging/oco2-co2-target-cogs/oco2-co2_ascensionIsland_2017-01-12T143942Z_unfiltered_xco2.tif\n",
      "Copied: s3://sdap-dev-zarr/OCO3/outputs/veda/demo-2024.10.28-target/SIMULTEST_TFP_cog/oco2-co2_ascensionIsland_2017-02-04T144638Z_unfiltered_xco2.tif to s3://veda-data-store-staging/oco2-co2-target-cogs/oco2-co2_ascensionIsland_2017-02-04T144638Z_unfiltered_xco2.tif\n",
      "Copied: s3://sdap-dev-zarr/OCO3/outputs/veda/demo-2024.10.28-target/SIMULTEST_TFP_cog/oco2-co2_ascensionIsland_2017-02-04T144748Z_filtered_xco2.tif to s3://veda-data-store-staging/oco2-co2-target-cogs/oco2-co2_ascensionIsland_2017-02-04T144748Z_filtered_xco2.tif\n",
      "Copied: s3://sdap-dev-zarr/OCO3/outputs/veda/demo-2024.10.28-target/SIMULTEST_TFP_cog/oco2-co2_ascensionIsland_2018-01-15T144006Z_unfiltered_xco2.tif to s3://veda-data-store-staging/oco2-co2-target-cogs/oco2-co2_ascensionIsland_2018-01-15T144006Z_unfiltered_xco2.tif\n",
      "Copied: s3://sdap-dev-zarr/OCO3/outputs/veda/demo-2024.10.28-target/SIMULTEST_TFP_cog/oco2-co2_ascensionIsland_2017-12-07T143400Z_unfiltered_xco2.tif to s3://veda-data-store-staging/oco2-co2-target-cogs/oco2-co2_ascensionIsland_2017-12-07T143400Z_unfiltered_xco2.tif\n",
      "Copied: s3://sdap-dev-zarr/OCO3/outputs/veda/demo-2024.10.28-target/SIMULTEST_TFP_cog/oco2-co2_ascensionIsland_2018-01-15T144107Z_filtered_xco2.tif to s3://veda-data-store-staging/oco2-co2-target-cogs/oco2-co2_ascensionIsland_2018-01-15T144107Z_filtered_xco2.tif\n"
     ]
    },
    {
     "name": "stderr",
     "output_type": "stream",
     "text": [
      "Warning 1: Unable to save auxiliary information in /vsis3/sdap-dev-zarr/OCO3/outputs/veda/demo-2024.10.28-target/SIMULTEST_TFP_cog/oco2-co2_ascensionIsland_2017-01-12T144011Z_filtered_xco2.tif.aux.xml.\n",
      "Warning 1: Unable to save auxiliary information in /vsis3/sdap-dev-zarr/OCO3/outputs/veda/demo-2024.10.28-target/SIMULTEST_TFP_cog/oco2-co2_ascensionIsland_2017-01-12T143942Z_unfiltered_xco2.tif.aux.xml.\n",
      "Warning 1: Unable to save auxiliary information in /vsis3/sdap-dev-zarr/OCO3/outputs/veda/demo-2024.10.28-target/SIMULTEST_TFP_cog/oco2-co2_ascensionIsland_2017-02-04T144638Z_unfiltered_xco2.tif.aux.xml.\n",
      "Warning 1: Unable to save auxiliary information in /vsis3/sdap-dev-zarr/OCO3/outputs/veda/demo-2024.10.28-target/SIMULTEST_TFP_cog/oco2-co2_ascensionIsland_2017-02-04T144748Z_filtered_xco2.tif.aux.xml.\n",
      "Warning 1: Unable to save auxiliary information in /vsis3/sdap-dev-zarr/OCO3/outputs/veda/demo-2024.10.28-target/SIMULTEST_TFP_cog/oco2-co2_ascensionIsland_2018-01-15T144006Z_unfiltered_xco2.tif.aux.xml.\n",
      "Warning 1: Unable to save auxiliary information in /vsis3/sdap-dev-zarr/OCO3/outputs/veda/demo-2024.10.28-target/SIMULTEST_TFP_cog/oco2-co2_ascensionIsland_2017-12-07T143400Z_unfiltered_xco2.tif.aux.xml.\n",
      "Warning 1: Unable to save auxiliary information in /vsis3/sdap-dev-zarr/OCO3/outputs/veda/demo-2024.10.28-target/SIMULTEST_TFP_cog/oco2-co2_ascensionIsland_2018-01-15T144107Z_filtered_xco2.tif.aux.xml.\n"
     ]
    },
    {
     "name": "stdout",
     "output_type": "stream",
     "text": [
      "Copied: s3://sdap-dev-zarr/OCO3/outputs/veda/demo-2024.10.28-target/SIMULTEST_TFP_cog/oco2-co2_ascensionIsland_2018-10-30T144044Z_unfiltered_xco2.tif to s3://veda-data-store-staging/oco2-co2-target-cogs/oco2-co2_ascensionIsland_2018-10-30T144044Z_unfiltered_xco2.tif\n",
      "Copied: s3://sdap-dev-zarr/OCO3/outputs/veda/demo-2024.10.28-target/SIMULTEST_TFP_cog/oco2-co2_ascensionIsland_2020-02-29T144602Z_unfiltered_xco2.tif to s3://veda-data-store-staging/oco2-co2-target-cogs/oco2-co2_ascensionIsland_2020-02-29T144602Z_unfiltered_xco2.tif\n",
      "Copied: s3://sdap-dev-zarr/OCO3/outputs/veda/demo-2024.10.28-target/SIMULTEST_TFP_cog/oco2-co2_ascensionIsland_2020-02-13T144555Z_unfiltered_xco2.tif to s3://veda-data-store-staging/oco2-co2-target-cogs/oco2-co2_ascensionIsland_2020-02-13T144555Z_unfiltered_xco2.tif\n",
      "Copied: s3://sdap-dev-zarr/OCO3/outputs/veda/demo-2024.10.28-target/SIMULTEST_TFP_cog/oco2-co2_ascensionIsland_2020-02-13T144712Z_filtered_xco2.tif to s3://veda-data-store-staging/oco2-co2-target-cogs/oco2-co2_ascensionIsland_2020-02-13T144712Z_filtered_xco2.tif\n",
      "Copied: s3://sdap-dev-zarr/OCO3/outputs/veda/demo-2024.10.28-target/SIMULTEST_TFP_cog/oco2-co2_ascensionIsland_2020-02-29T144744Z_filtered_xco2.tif to s3://veda-data-store-staging/oco2-co2-target-cogs/oco2-co2_ascensionIsland_2020-02-29T144744Z_filtered_xco2.tif\n"
     ]
    },
    {
     "name": "stderr",
     "output_type": "stream",
     "text": [
      "Warning 1: Unable to save auxiliary information in /vsis3/sdap-dev-zarr/OCO3/outputs/veda/demo-2024.10.28-target/SIMULTEST_TFP_cog/oco2-co2_ascensionIsland_2018-10-30T144044Z_unfiltered_xco2.tif.aux.xml.\n",
      "Warning 1: Unable to save auxiliary information in /vsis3/sdap-dev-zarr/OCO3/outputs/veda/demo-2024.10.28-target/SIMULTEST_TFP_cog/oco2-co2_ascensionIsland_2020-02-29T144602Z_unfiltered_xco2.tif.aux.xml.\n",
      "Warning 1: Unable to save auxiliary information in /vsis3/sdap-dev-zarr/OCO3/outputs/veda/demo-2024.10.28-target/SIMULTEST_TFP_cog/oco2-co2_ascensionIsland_2020-02-13T144555Z_unfiltered_xco2.tif.aux.xml.\n",
      "Warning 1: Unable to save auxiliary information in /vsis3/sdap-dev-zarr/OCO3/outputs/veda/demo-2024.10.28-target/SIMULTEST_TFP_cog/oco2-co2_ascensionIsland_2020-02-13T144712Z_filtered_xco2.tif.aux.xml.\n",
      "Warning 1: Unable to save auxiliary information in /vsis3/sdap-dev-zarr/OCO3/outputs/veda/demo-2024.10.28-target/SIMULTEST_TFP_cog/oco2-co2_ascensionIsland_2020-02-29T144744Z_filtered_xco2.tif.aux.xml.\n"
     ]
    },
    {
     "name": "stdout",
     "output_type": "stream",
     "text": [
      "Copied: s3://sdap-dev-zarr/OCO3/outputs/veda/demo-2024.10.28-target/SIMULTEST_TFP_cog/oco2-co2_ascensionIsland_2020-03-25T144011Z_filtered_xco2.tif to s3://veda-data-store-staging/oco2-co2-target-cogs/oco2-co2_ascensionIsland_2020-03-25T144011Z_filtered_xco2.tif\n",
      "Copied: s3://sdap-dev-zarr/OCO3/outputs/veda/demo-2024.10.28-target/SIMULTEST_TFP_cog/oco2-co2_ascensionIsland_2020-04-26T144130Z_filtered_xco2.tif to s3://veda-data-store-staging/oco2-co2-target-cogs/oco2-co2_ascensionIsland_2020-04-26T144130Z_filtered_xco2.tif\n",
      "Copied: s3://sdap-dev-zarr/OCO3/outputs/veda/demo-2024.10.28-target/SIMULTEST_TFP_cog/oco2-co2_ascensionIsland_2020-03-25T144008Z_unfiltered_xco2.tif to s3://veda-data-store-staging/oco2-co2-target-cogs/oco2-co2_ascensionIsland_2020-03-25T144008Z_unfiltered_xco2.tif\n",
      "Copied: s3://sdap-dev-zarr/OCO3/outputs/veda/demo-2024.10.28-target/SIMULTEST_TFP_cog/oco2-co2_ascensionIsland_2020-04-26T144012Z_unfiltered_xco2.tif to s3://veda-data-store-staging/oco2-co2-target-cogs/oco2-co2_ascensionIsland_2020-04-26T144012Z_unfiltered_xco2.tif\n",
      "Copied: s3://sdap-dev-zarr/OCO3/outputs/veda/demo-2024.10.28-target/SIMULTEST_TFP_cog/oco2-co2_ascensionIsland_2020-05-12T144156Z_unfiltered_xco2.tif to s3://veda-data-store-staging/oco2-co2-target-cogs/oco2-co2_ascensionIsland_2020-05-12T144156Z_unfiltered_xco2.tif\n"
     ]
    },
    {
     "name": "stderr",
     "output_type": "stream",
     "text": [
      "Warning 1: Unable to save auxiliary information in /vsis3/sdap-dev-zarr/OCO3/outputs/veda/demo-2024.10.28-target/SIMULTEST_TFP_cog/oco2-co2_ascensionIsland_2020-03-25T144011Z_filtered_xco2.tif.aux.xml.\n",
      "Warning 1: Unable to save auxiliary information in /vsis3/sdap-dev-zarr/OCO3/outputs/veda/demo-2024.10.28-target/SIMULTEST_TFP_cog/oco2-co2_ascensionIsland_2020-04-26T144130Z_filtered_xco2.tif.aux.xml.\n",
      "Warning 1: Unable to save auxiliary information in /vsis3/sdap-dev-zarr/OCO3/outputs/veda/demo-2024.10.28-target/SIMULTEST_TFP_cog/oco2-co2_ascensionIsland_2020-03-25T144008Z_unfiltered_xco2.tif.aux.xml.\n",
      "Warning 1: Unable to save auxiliary information in /vsis3/sdap-dev-zarr/OCO3/outputs/veda/demo-2024.10.28-target/SIMULTEST_TFP_cog/oco2-co2_ascensionIsland_2020-04-26T144012Z_unfiltered_xco2.tif.aux.xml.\n",
      "Warning 1: Unable to save auxiliary information in /vsis3/sdap-dev-zarr/OCO3/outputs/veda/demo-2024.10.28-target/SIMULTEST_TFP_cog/oco2-co2_ascensionIsland_2020-05-12T144156Z_unfiltered_xco2.tif.aux.xml.\n"
     ]
    },
    {
     "name": "stdout",
     "output_type": "stream",
     "text": [
      "Copied: s3://sdap-dev-zarr/OCO3/outputs/veda/demo-2024.10.28-target/SIMULTEST_TFP_cog/oco2-co2_bialystokPl_2014-10-05T112741Z_filtered_xco2.tif to s3://veda-data-store-staging/oco2-co2-target-cogs/oco2-co2_bialystokPl_2014-10-05T112741Z_filtered_xco2.tif\n",
      "Copied: s3://sdap-dev-zarr/OCO3/outputs/veda/demo-2024.10.28-target/SIMULTEST_TFP_cog/oco2-co2_bialystokPl_2014-09-14T110752Z_filtered_xco2.tif to s3://veda-data-store-staging/oco2-co2-target-cogs/oco2-co2_bialystokPl_2014-09-14T110752Z_filtered_xco2.tif\n",
      "Copied: s3://sdap-dev-zarr/OCO3/outputs/veda/demo-2024.10.28-target/SIMULTEST_TFP_cog/oco2-co2_bialystokPl_2014-09-14T110752Z_unfiltered_xco2.tif to s3://veda-data-store-staging/oco2-co2-target-cogs/oco2-co2_bialystokPl_2014-09-14T110752Z_unfiltered_xco2.tif\n"
     ]
    },
    {
     "name": "stderr",
     "output_type": "stream",
     "text": [
      "Warning 1: Unable to save auxiliary information in /vsis3/sdap-dev-zarr/OCO3/outputs/veda/demo-2024.10.28-target/SIMULTEST_TFP_cog/oco2-co2_bialystokPl_2014-10-05T112741Z_filtered_xco2.tif.aux.xml.\n",
      "Warning 1: Unable to save auxiliary information in /vsis3/sdap-dev-zarr/OCO3/outputs/veda/demo-2024.10.28-target/SIMULTEST_TFP_cog/oco2-co2_bialystokPl_2014-09-14T110752Z_filtered_xco2.tif.aux.xml.\n",
      "Warning 1: Unable to save auxiliary information in /vsis3/sdap-dev-zarr/OCO3/outputs/veda/demo-2024.10.28-target/SIMULTEST_TFP_cog/oco2-co2_bialystokPl_2014-09-14T110752Z_unfiltered_xco2.tif.aux.xml.\n"
     ]
    },
    {
     "name": "stdout",
     "output_type": "stream",
     "text": [
      "Copied: s3://sdap-dev-zarr/OCO3/outputs/veda/demo-2024.10.28-target/SIMULTEST_TFP_cog/oco2-co2_bialystokPl_2015-03-18T110213Z_filtered_xco2.tif to s3://veda-data-store-staging/oco2-co2-target-cogs/oco2-co2_bialystokPl_2015-03-18T110213Z_filtered_xco2.tif\n",
      "Copied: s3://sdap-dev-zarr/OCO3/outputs/veda/demo-2024.10.28-target/SIMULTEST_TFP_cog/oco2-co2_bialystokPl_2014-10-05T112628Z_unfiltered_xco2.tif to s3://veda-data-store-staging/oco2-co2-target-cogs/oco2-co2_bialystokPl_2014-10-05T112628Z_unfiltered_xco2.tif\n",
      "Copied: s3://sdap-dev-zarr/OCO3/outputs/veda/demo-2024.10.28-target/SIMULTEST_TFP_cog/oco2-co2_bialystokPl_2015-03-18T110213Z_unfiltered_xco2.tif to s3://veda-data-store-staging/oco2-co2-target-cogs/oco2-co2_bialystokPl_2015-03-18T110213Z_unfiltered_xco2.tif\n",
      "Copied: s3://sdap-dev-zarr/OCO3/outputs/veda/demo-2024.10.28-target/SIMULTEST_TFP_cog/oco2-co2_bialystokPl_2015-04-10T110827Z_unfiltered_xco2.tif to s3://veda-data-store-staging/oco2-co2-target-cogs/oco2-co2_bialystokPl_2015-04-10T110827Z_unfiltered_xco2.tif\n"
     ]
    },
    {
     "name": "stderr",
     "output_type": "stream",
     "text": [
      "Warning 1: Unable to save auxiliary information in /vsis3/sdap-dev-zarr/OCO3/outputs/veda/demo-2024.10.28-target/SIMULTEST_TFP_cog/oco2-co2_bialystokPl_2015-03-18T110213Z_filtered_xco2.tif.aux.xml.\n",
      "Warning 1: Unable to save auxiliary information in /vsis3/sdap-dev-zarr/OCO3/outputs/veda/demo-2024.10.28-target/SIMULTEST_TFP_cog/oco2-co2_bialystokPl_2014-10-05T112628Z_unfiltered_xco2.tif.aux.xml.\n",
      "Warning 1: Unable to save auxiliary information in /vsis3/sdap-dev-zarr/OCO3/outputs/veda/demo-2024.10.28-target/SIMULTEST_TFP_cog/oco2-co2_bialystokPl_2015-03-18T110213Z_unfiltered_xco2.tif.aux.xml.\n",
      "Warning 1: Unable to save auxiliary information in /vsis3/sdap-dev-zarr/OCO3/outputs/veda/demo-2024.10.28-target/SIMULTEST_TFP_cog/oco2-co2_bialystokPl_2015-04-10T110827Z_unfiltered_xco2.tif.aux.xml.\n"
     ]
    },
    {
     "name": "stdout",
     "output_type": "stream",
     "text": [
      "Copied: s3://sdap-dev-zarr/OCO3/outputs/veda/demo-2024.10.28-target/SIMULTEST_TFP_cog/oco2-co2_bialystokPl_2015-06-04T111401Z_unfiltered_xco2.tif to s3://veda-data-store-staging/oco2-co2-target-cogs/oco2-co2_bialystokPl_2015-06-04T111401Z_unfiltered_xco2.tif\n",
      "Copied: s3://sdap-dev-zarr/OCO3/outputs/veda/demo-2024.10.28-target/SIMULTEST_TFP_cog/oco2-co2_bialystokPl_2015-04-10T110829Z_filtered_xco2.tif to s3://veda-data-store-staging/oco2-co2-target-cogs/oco2-co2_bialystokPl_2015-04-10T110829Z_filtered_xco2.tif\n",
      "Copied: s3://sdap-dev-zarr/OCO3/outputs/veda/demo-2024.10.28-target/SIMULTEST_TFP_cog/oco2-co2_bialystokPl_2015-06-04T111401Z_filtered_xco2.tif to s3://veda-data-store-staging/oco2-co2-target-cogs/oco2-co2_bialystokPl_2015-06-04T111401Z_filtered_xco2.tif\n",
      "Copied: s3://sdap-dev-zarr/OCO3/outputs/veda/demo-2024.10.28-target/SIMULTEST_TFP_cog/oco2-co2_bialystokPl_2015-09-10T110237Z_unfiltered_xco2.tif to s3://veda-data-store-staging/oco2-co2-target-cogs/oco2-co2_bialystokPl_2015-09-10T110237Z_unfiltered_xco2.tif\n",
      "Copied: s3://sdap-dev-zarr/OCO3/outputs/veda/demo-2024.10.28-target/SIMULTEST_TFP_cog/oco2-co2_bialystokPl_2015-09-10T110306Z_filtered_xco2.tif to s3://veda-data-store-staging/oco2-co2-target-cogs/oco2-co2_bialystokPl_2015-09-10T110306Z_filtered_xco2.tif\n"
     ]
    },
    {
     "name": "stderr",
     "output_type": "stream",
     "text": [
      "Warning 1: Unable to save auxiliary information in /vsis3/sdap-dev-zarr/OCO3/outputs/veda/demo-2024.10.28-target/SIMULTEST_TFP_cog/oco2-co2_bialystokPl_2015-06-04T111401Z_unfiltered_xco2.tif.aux.xml.\n",
      "Warning 1: Unable to save auxiliary information in /vsis3/sdap-dev-zarr/OCO3/outputs/veda/demo-2024.10.28-target/SIMULTEST_TFP_cog/oco2-co2_bialystokPl_2015-04-10T110829Z_filtered_xco2.tif.aux.xml.\n",
      "Warning 1: Unable to save auxiliary information in /vsis3/sdap-dev-zarr/OCO3/outputs/veda/demo-2024.10.28-target/SIMULTEST_TFP_cog/oco2-co2_bialystokPl_2015-06-04T111401Z_filtered_xco2.tif.aux.xml.\n",
      "Warning 1: Unable to save auxiliary information in /vsis3/sdap-dev-zarr/OCO3/outputs/veda/demo-2024.10.28-target/SIMULTEST_TFP_cog/oco2-co2_bialystokPl_2015-09-10T110237Z_unfiltered_xco2.tif.aux.xml.\n",
      "Warning 1: Unable to save auxiliary information in /vsis3/sdap-dev-zarr/OCO3/outputs/veda/demo-2024.10.28-target/SIMULTEST_TFP_cog/oco2-co2_bialystokPl_2015-09-10T110306Z_filtered_xco2.tif.aux.xml.\n"
     ]
    },
    {
     "name": "stdout",
     "output_type": "stream",
     "text": [
      "Copied: s3://sdap-dev-zarr/OCO3/outputs/veda/demo-2024.10.28-target/SIMULTEST_TFP_cog/oco2-co2_bialystokPl_2016-02-17T110222Z_filtered_xco2.tif to s3://veda-data-store-staging/oco2-co2-target-cogs/oco2-co2_bialystokPl_2016-02-17T110222Z_filtered_xco2.tif\n",
      "Copied: s3://sdap-dev-zarr/OCO3/outputs/veda/demo-2024.10.28-target/SIMULTEST_TFP_cog/oco2-co2_bialystokPl_2016-10-14T110144Z_unfiltered_xco2.tif to s3://veda-data-store-staging/oco2-co2-target-cogs/oco2-co2_bialystokPl_2016-10-14T110144Z_unfiltered_xco2.tif\n",
      "Copied: s3://sdap-dev-zarr/OCO3/outputs/veda/demo-2024.10.28-target/SIMULTEST_TFP_cog/oco2-co2_bialystokPl_2016-02-17T110222Z_unfiltered_xco2.tif to s3://veda-data-store-staging/oco2-co2-target-cogs/oco2-co2_bialystokPl_2016-02-17T110222Z_unfiltered_xco2.tif\n",
      "Copied: s3://sdap-dev-zarr/OCO3/outputs/veda/demo-2024.10.28-target/SIMULTEST_TFP_cog/oco2-co2_bialystokPl_2016-10-14T110148Z_filtered_xco2.tif to s3://veda-data-store-staging/oco2-co2-target-cogs/oco2-co2_bialystokPl_2016-10-14T110148Z_filtered_xco2.tif\n",
      "Copied: s3://sdap-dev-zarr/OCO3/outputs/veda/demo-2024.10.28-target/SIMULTEST_TFP_cog/oco2-co2_bialystokPl_2017-03-30T110835Z_filtered_xco2.tif to s3://veda-data-store-staging/oco2-co2-target-cogs/oco2-co2_bialystokPl_2017-03-30T110835Z_filtered_xco2.tif\n",
      "Copied: s3://sdap-dev-zarr/OCO3/outputs/veda/demo-2024.10.28-target/SIMULTEST_TFP_cog/oco2-co2_bialystokPl_2017-02-10T110829Z_filtered_xco2.tif to s3://veda-data-store-staging/oco2-co2-target-cogs/oco2-co2_bialystokPl_2017-02-10T110829Z_filtered_xco2.tif\n"
     ]
    },
    {
     "name": "stderr",
     "output_type": "stream",
     "text": [
      "Warning 1: Unable to save auxiliary information in /vsis3/sdap-dev-zarr/OCO3/outputs/veda/demo-2024.10.28-target/SIMULTEST_TFP_cog/oco2-co2_bialystokPl_2016-02-17T110222Z_filtered_xco2.tif.aux.xml.\n",
      "Warning 1: Unable to save auxiliary information in /vsis3/sdap-dev-zarr/OCO3/outputs/veda/demo-2024.10.28-target/SIMULTEST_TFP_cog/oco2-co2_bialystokPl_2016-10-14T110144Z_unfiltered_xco2.tif.aux.xml.\n",
      "Warning 1: Unable to save auxiliary information in /vsis3/sdap-dev-zarr/OCO3/outputs/veda/demo-2024.10.28-target/SIMULTEST_TFP_cog/oco2-co2_bialystokPl_2016-02-17T110222Z_unfiltered_xco2.tif.aux.xml.\n",
      "Warning 1: Unable to save auxiliary information in /vsis3/sdap-dev-zarr/OCO3/outputs/veda/demo-2024.10.28-target/SIMULTEST_TFP_cog/oco2-co2_bialystokPl_2016-10-14T110148Z_filtered_xco2.tif.aux.xml.\n",
      "Warning 1: Unable to save auxiliary information in /vsis3/sdap-dev-zarr/OCO3/outputs/veda/demo-2024.10.28-target/SIMULTEST_TFP_cog/oco2-co2_bialystokPl_2017-03-30T110835Z_filtered_xco2.tif.aux.xml.\n",
      "Warning 1: Unable to save auxiliary information in /vsis3/sdap-dev-zarr/OCO3/outputs/veda/demo-2024.10.28-target/SIMULTEST_TFP_cog/oco2-co2_bialystokPl_2017-02-10T110829Z_filtered_xco2.tif.aux.xml.\n",
      "Warning 1: Unable to save auxiliary information in /vsis3/sdap-dev-zarr/OCO3/outputs/veda/demo-2024.10.28-target/SIMULTEST_TFP_cog/oco2-co2_bialystokPl_2017-03-30T110835Z_unfiltered_xco2.tif.aux.xml.\n",
      "Warning 1: Unable to save auxiliary information in /vsis3/sdap-dev-zarr/OCO3/outputs/veda/demo-2024.10.28-target/SIMULTEST_TFP_cog/oco2-co2_bialystokPl_2017-02-10T110829Z_unfiltered_xco2.tif.aux.xml.\n",
      "Warning 1: Unable to save auxiliary information in /vsis3/sdap-dev-zarr/OCO3/outputs/veda/demo-2024.10.28-target/SIMULTEST_TFP_cog/oco2-co2_boulderCO_2019-12-18T200210Z_unfiltered_xco2.tif.aux.xml.\n"
     ]
    },
    {
     "name": "stdout",
     "output_type": "stream",
     "text": [
      "Copied: s3://sdap-dev-zarr/OCO3/outputs/veda/demo-2024.10.28-target/SIMULTEST_TFP_cog/oco2-co2_bialystokPl_2017-03-30T110835Z_unfiltered_xco2.tif to s3://veda-data-store-staging/oco2-co2-target-cogs/oco2-co2_bialystokPl_2017-03-30T110835Z_unfiltered_xco2.tif\n",
      "Copied: s3://sdap-dev-zarr/OCO3/outputs/veda/demo-2024.10.28-target/SIMULTEST_TFP_cog/oco2-co2_boulderCO_2019-12-18T200210Z_unfiltered_xco2.tif to s3://veda-data-store-staging/oco2-co2-target-cogs/oco2-co2_boulderCO_2019-12-18T200210Z_unfiltered_xco2.tif\n",
      "Copied: s3://sdap-dev-zarr/OCO3/outputs/veda/demo-2024.10.28-target/SIMULTEST_TFP_cog/oco2-co2_bialystokPl_2017-02-10T110829Z_unfiltered_xco2.tif to s3://veda-data-store-staging/oco2-co2-target-cogs/oco2-co2_bialystokPl_2017-02-10T110829Z_unfiltered_xco2.tif\n",
      "Copied: s3://sdap-dev-zarr/OCO3/outputs/veda/demo-2024.10.28-target/SIMULTEST_TFP_cog/oco2-co2_bremenDe_2015-03-20T123125Z_unfiltered_xco2.tif to s3://veda-data-store-staging/oco2-co2-target-cogs/oco2-co2_bremenDe_2015-03-20T123125Z_unfiltered_xco2.tif\n"
     ]
    },
    {
     "name": "stderr",
     "output_type": "stream",
     "text": [
      "Warning 1: Unable to save auxiliary information in /vsis3/sdap-dev-zarr/OCO3/outputs/veda/demo-2024.10.28-target/SIMULTEST_TFP_cog/oco2-co2_bremenDe_2015-03-20T123125Z_unfiltered_xco2.tif.aux.xml.\n",
      "Warning 1: Unable to save auxiliary information in /vsis3/sdap-dev-zarr/OCO3/outputs/veda/demo-2024.10.28-target/SIMULTEST_TFP_cog/oco2-co2_boulderCO_2020-03-05T201423Z_filtered_xco2.tif.aux.xml.\n",
      "Warning 1: Unable to save auxiliary information in /vsis3/sdap-dev-zarr/OCO3/outputs/veda/demo-2024.10.28-target/SIMULTEST_TFP_cog/oco2-co2_boulderCO_2020-03-05T201423Z_unfiltered_xco2.tif.aux.xml.\n",
      "Warning 1: Unable to save auxiliary information in /vsis3/sdap-dev-zarr/OCO3/outputs/veda/demo-2024.10.28-target/SIMULTEST_TFP_cog/oco2-co2_burgosPh_2017-04-21T052459Z_filtered_xco2.tif.aux.xml.\n"
     ]
    },
    {
     "name": "stdout",
     "output_type": "stream",
     "text": [
      "Copied: s3://sdap-dev-zarr/OCO3/outputs/veda/demo-2024.10.28-target/SIMULTEST_TFP_cog/oco2-co2_boulderCO_2020-03-05T201423Z_filtered_xco2.tif to s3://veda-data-store-staging/oco2-co2-target-cogs/oco2-co2_boulderCO_2020-03-05T201423Z_filtered_xco2.tif\n",
      "Copied: s3://sdap-dev-zarr/OCO3/outputs/veda/demo-2024.10.28-target/SIMULTEST_TFP_cog/oco2-co2_boulderCO_2020-03-05T201423Z_unfiltered_xco2.tif to s3://veda-data-store-staging/oco2-co2-target-cogs/oco2-co2_boulderCO_2020-03-05T201423Z_unfiltered_xco2.tif\n",
      "Copied: s3://sdap-dev-zarr/OCO3/outputs/veda/demo-2024.10.28-target/SIMULTEST_TFP_cog/oco2-co2_burgosPh_2017-04-21T052459Z_filtered_xco2.tif to s3://veda-data-store-staging/oco2-co2-target-cogs/oco2-co2_burgosPh_2017-04-21T052459Z_filtered_xco2.tif\n",
      "Copied: s3://sdap-dev-zarr/OCO3/outputs/veda/demo-2024.10.28-target/SIMULTEST_TFP_cog/oco2-co2_bremenDe_2016-03-17T121017Z_filtered_xco2.tif to s3://veda-data-store-staging/oco2-co2-target-cogs/oco2-co2_bremenDe_2016-03-17T121017Z_filtered_xco2.tif\n"
     ]
    },
    {
     "name": "stderr",
     "output_type": "stream",
     "text": [
      "Warning 1: Unable to save auxiliary information in /vsis3/sdap-dev-zarr/OCO3/outputs/veda/demo-2024.10.28-target/SIMULTEST_TFP_cog/oco2-co2_bremenDe_2016-03-17T121017Z_filtered_xco2.tif.aux.xml.\n",
      "Warning 1: Unable to save auxiliary information in /vsis3/sdap-dev-zarr/OCO3/outputs/veda/demo-2024.10.28-target/SIMULTEST_TFP_cog/oco2-co2_burgosPh_2017-04-21T052459Z_unfiltered_xco2.tif.aux.xml.\n",
      "Warning 1: Unable to save auxiliary information in /vsis3/sdap-dev-zarr/OCO3/outputs/veda/demo-2024.10.28-target/SIMULTEST_TFP_cog/oco2-co2_bremenDe_2016-03-17T121017Z_unfiltered_xco2.tif.aux.xml.\n",
      "Warning 1: Unable to save auxiliary information in /vsis3/sdap-dev-zarr/OCO3/outputs/veda/demo-2024.10.28-target/SIMULTEST_TFP_cog/oco2-co2_burgosPh_2018-03-07T052556Z_filtered_xco2.tif.aux.xml.\n",
      "Warning 1: Unable to save auxiliary information in /vsis3/sdap-dev-zarr/OCO3/outputs/veda/demo-2024.10.28-target/SIMULTEST_TFP_cog/oco2-co2_burgosPh_2018-05-17T053149Z_filtered_xco2.tif.aux.xml.\n",
      "Warning 1: Unable to save auxiliary information in /vsis3/sdap-dev-zarr/OCO3/outputs/veda/demo-2024.10.28-target/SIMULTEST_TFP_cog/oco2-co2_burgosPh_2018-03-07T052556Z_unfiltered_xco2.tif.aux.xml.\n"
     ]
    },
    {
     "name": "stdout",
     "output_type": "stream",
     "text": [
      "Copied: s3://sdap-dev-zarr/OCO3/outputs/veda/demo-2024.10.28-target/SIMULTEST_TFP_cog/oco2-co2_burgosPh_2017-04-21T052459Z_unfiltered_xco2.tif to s3://veda-data-store-staging/oco2-co2-target-cogs/oco2-co2_burgosPh_2017-04-21T052459Z_unfiltered_xco2.tif\n",
      "Copied: s3://sdap-dev-zarr/OCO3/outputs/veda/demo-2024.10.28-target/SIMULTEST_TFP_cog/oco2-co2_bremenDe_2016-03-17T121017Z_unfiltered_xco2.tif to s3://veda-data-store-staging/oco2-co2-target-cogs/oco2-co2_bremenDe_2016-03-17T121017Z_unfiltered_xco2.tif\n",
      "Copied: s3://sdap-dev-zarr/OCO3/outputs/veda/demo-2024.10.28-target/SIMULTEST_TFP_cog/oco2-co2_burgosPh_2018-03-07T052556Z_filtered_xco2.tif to s3://veda-data-store-staging/oco2-co2-target-cogs/oco2-co2_burgosPh_2018-03-07T052556Z_filtered_xco2.tif\n",
      "Copied: s3://sdap-dev-zarr/OCO3/outputs/veda/demo-2024.10.28-target/SIMULTEST_TFP_cog/oco2-co2_burgosPh_2018-05-17T053149Z_filtered_xco2.tif to s3://veda-data-store-staging/oco2-co2-target-cogs/oco2-co2_burgosPh_2018-05-17T053149Z_filtered_xco2.tif\n",
      "Copied: s3://sdap-dev-zarr/OCO3/outputs/veda/demo-2024.10.28-target/SIMULTEST_TFP_cog/oco2-co2_burgosPh_2018-03-07T052556Z_unfiltered_xco2.tif to s3://veda-data-store-staging/oco2-co2-target-cogs/oco2-co2_burgosPh_2018-03-07T052556Z_unfiltered_xco2.tif\n",
      "Copied: s3://sdap-dev-zarr/OCO3/outputs/veda/demo-2024.10.28-target/SIMULTEST_TFP_cog/oco2-co2_burgosPh_2018-10-24T053110Z_unfiltered_xco2.tif to s3://veda-data-store-staging/oco2-co2-target-cogs/oco2-co2_burgosPh_2018-10-24T053110Z_unfiltered_xco2.tif\n",
      "Copied: s3://sdap-dev-zarr/OCO3/outputs/veda/demo-2024.10.28-target/SIMULTEST_TFP_cog/oco2-co2_burgosPh_2018-10-24T053111Z_filtered_xco2.tif to s3://veda-data-store-staging/oco2-co2-target-cogs/oco2-co2_burgosPh_2018-10-24T053111Z_filtered_xco2.tif\n",
      "Copied: s3://sdap-dev-zarr/OCO3/outputs/veda/demo-2024.10.28-target/SIMULTEST_TFP_cog/oco2-co2_burgosPh_2018-05-17T053149Z_unfiltered_xco2.tif to s3://veda-data-store-staging/oco2-co2-target-cogs/oco2-co2_burgosPh_2018-05-17T053149Z_unfiltered_xco2.tif\n",
      "Copied: s3://sdap-dev-zarr/OCO3/outputs/veda/demo-2024.10.28-target/SIMULTEST_TFP_cog/oco2-co2_burgosPh_2018-12-20T052735Z_unfiltered_xco2.tif to s3://veda-data-store-staging/oco2-co2-target-cogs/oco2-co2_burgosPh_2018-12-20T052735Z_unfiltered_xco2.tif\n",
      "Copied: s3://sdap-dev-zarr/OCO3/outputs/veda/demo-2024.10.28-target/SIMULTEST_TFP_cog/oco2-co2_burgosPh_2018-12-20T052904Z_filtered_xco2.tif to s3://veda-data-store-staging/oco2-co2-target-cogs/oco2-co2_burgosPh_2018-12-20T052904Z_filtered_xco2.tif\n",
      "Copied: s3://sdap-dev-zarr/OCO3/outputs/veda/demo-2024.10.28-target/SIMULTEST_TFP_cog/oco2-co2_burgosPh_2019-01-28T053141Z_unfiltered_xco2.tif to s3://veda-data-store-staging/oco2-co2-target-cogs/oco2-co2_burgosPh_2019-01-28T053141Z_unfiltered_xco2.tif\n"
     ]
    },
    {
     "name": "stderr",
     "output_type": "stream",
     "text": [
      "Warning 1: Unable to save auxiliary information in /vsis3/sdap-dev-zarr/OCO3/outputs/veda/demo-2024.10.28-target/SIMULTEST_TFP_cog/oco2-co2_burgosPh_2018-10-24T053110Z_unfiltered_xco2.tif.aux.xml.\n",
      "Warning 1: Unable to save auxiliary information in /vsis3/sdap-dev-zarr/OCO3/outputs/veda/demo-2024.10.28-target/SIMULTEST_TFP_cog/oco2-co2_burgosPh_2018-10-24T053111Z_filtered_xco2.tif.aux.xml.\n",
      "Warning 1: Unable to save auxiliary information in /vsis3/sdap-dev-zarr/OCO3/outputs/veda/demo-2024.10.28-target/SIMULTEST_TFP_cog/oco2-co2_burgosPh_2018-05-17T053149Z_unfiltered_xco2.tif.aux.xml.\n",
      "Warning 1: Unable to save auxiliary information in /vsis3/sdap-dev-zarr/OCO3/outputs/veda/demo-2024.10.28-target/SIMULTEST_TFP_cog/oco2-co2_burgosPh_2018-12-20T052735Z_unfiltered_xco2.tif.aux.xml.\n",
      "Warning 1: Unable to save auxiliary information in /vsis3/sdap-dev-zarr/OCO3/outputs/veda/demo-2024.10.28-target/SIMULTEST_TFP_cog/oco2-co2_burgosPh_2018-12-20T052904Z_filtered_xco2.tif.aux.xml.\n",
      "Warning 1: Unable to save auxiliary information in /vsis3/sdap-dev-zarr/OCO3/outputs/veda/demo-2024.10.28-target/SIMULTEST_TFP_cog/oco2-co2_burgosPh_2019-01-28T053141Z_unfiltered_xco2.tif.aux.xml.\n"
     ]
    },
    {
     "name": "stdout",
     "output_type": "stream",
     "text": [
      "Copied: s3://sdap-dev-zarr/OCO3/outputs/veda/demo-2024.10.28-target/SIMULTEST_TFP_cog/oco2-co2_burgosPh_2019-02-15T051936Z_filtered_xco2.tif to s3://veda-data-store-staging/oco2-co2-target-cogs/oco2-co2_burgosPh_2019-02-15T051936Z_filtered_xco2.tif\n",
      "Copied: s3://sdap-dev-zarr/OCO3/outputs/veda/demo-2024.10.28-target/SIMULTEST_TFP_cog/oco2-co2_burgosPh_2019-02-15T051922Z_unfiltered_xco2.tif to s3://veda-data-store-staging/oco2-co2-target-cogs/oco2-co2_burgosPh_2019-02-15T051922Z_unfiltered_xco2.tif\n",
      "Copied: s3://sdap-dev-zarr/OCO3/outputs/veda/demo-2024.10.28-target/SIMULTEST_TFP_cog/oco2-co2_burgosPh_2019-01-28T053143Z_filtered_xco2.tif to s3://veda-data-store-staging/oco2-co2-target-cogs/oco2-co2_burgosPh_2019-01-28T053143Z_filtered_xco2.tif\n",
      "Copied: s3://sdap-dev-zarr/OCO3/outputs/veda/demo-2024.10.28-target/SIMULTEST_TFP_cog/oco2-co2_burgosPh_2019-04-18T053122Z_filtered_xco2.tif to s3://veda-data-store-staging/oco2-co2-target-cogs/oco2-co2_burgosPh_2019-04-18T053122Z_filtered_xco2.tif\n",
      "Copied: s3://sdap-dev-zarr/OCO3/outputs/veda/demo-2024.10.28-target/SIMULTEST_TFP_cog/oco2-co2_burgosPh_2019-04-18T053112Z_unfiltered_xco2.tif to s3://veda-data-store-staging/oco2-co2-target-cogs/oco2-co2_burgosPh_2019-04-18T053112Z_unfiltered_xco2.tif\n"
     ]
    },
    {
     "name": "stderr",
     "output_type": "stream",
     "text": [
      "Warning 1: Unable to save auxiliary information in /vsis3/sdap-dev-zarr/OCO3/outputs/veda/demo-2024.10.28-target/SIMULTEST_TFP_cog/oco2-co2_burgosPh_2019-02-15T051936Z_filtered_xco2.tif.aux.xml.\n",
      "Warning 1: Unable to save auxiliary information in /vsis3/sdap-dev-zarr/OCO3/outputs/veda/demo-2024.10.28-target/SIMULTEST_TFP_cog/oco2-co2_burgosPh_2019-02-15T051922Z_unfiltered_xco2.tif.aux.xml.\n",
      "Warning 1: Unable to save auxiliary information in /vsis3/sdap-dev-zarr/OCO3/outputs/veda/demo-2024.10.28-target/SIMULTEST_TFP_cog/oco2-co2_burgosPh_2019-01-28T053143Z_filtered_xco2.tif.aux.xml.\n",
      "Warning 1: Unable to save auxiliary information in /vsis3/sdap-dev-zarr/OCO3/outputs/veda/demo-2024.10.28-target/SIMULTEST_TFP_cog/oco2-co2_burgosPh_2019-04-18T053122Z_filtered_xco2.tif.aux.xml.\n",
      "Warning 1: Unable to save auxiliary information in /vsis3/sdap-dev-zarr/OCO3/outputs/veda/demo-2024.10.28-target/SIMULTEST_TFP_cog/oco2-co2_burgosPh_2019-04-18T053112Z_unfiltered_xco2.tif.aux.xml.\n"
     ]
    },
    {
     "name": "stdout",
     "output_type": "stream",
     "text": [
      "Copied: s3://sdap-dev-zarr/OCO3/outputs/veda/demo-2024.10.28-target/SIMULTEST_TFP_cog/oco2-co2_burgosPh_2020-01-15T053034Z_filtered_xco2.tif to s3://veda-data-store-staging/oco2-co2-target-cogs/oco2-co2_burgosPh_2020-01-15T053034Z_filtered_xco2.tif\n",
      "Copied: s3://sdap-dev-zarr/OCO3/outputs/veda/demo-2024.10.28-target/SIMULTEST_TFP_cog/oco2-co2_burgosPh_2020-02-25T052437Z_unfiltered_xco2.tif to s3://veda-data-store-staging/oco2-co2-target-cogs/oco2-co2_burgosPh_2020-02-25T052437Z_unfiltered_xco2.tif\n",
      "Copied: s3://sdap-dev-zarr/OCO3/outputs/veda/demo-2024.10.28-target/SIMULTEST_TFP_cog/oco2-co2_burgosPh_2020-02-25T052437Z_filtered_xco2.tif to s3://veda-data-store-staging/oco2-co2-target-cogs/oco2-co2_burgosPh_2020-02-25T052437Z_filtered_xco2.tif\n",
      "Copied: s3://sdap-dev-zarr/OCO3/outputs/veda/demo-2024.10.28-target/SIMULTEST_TFP_cog/oco2-co2_burgosPh_2020-01-15T053034Z_unfiltered_xco2.tif to s3://veda-data-store-staging/oco2-co2-target-cogs/oco2-co2_burgosPh_2020-01-15T053034Z_unfiltered_xco2.tif\n",
      "Copied: s3://sdap-dev-zarr/OCO3/outputs/veda/demo-2024.10.28-target/SIMULTEST_TFP_cog/oco2-co2_burgosPh_2020-04-29T052511Z_unfiltered_xco2.tif to s3://veda-data-store-staging/oco2-co2-target-cogs/oco2-co2_burgosPh_2020-04-29T052511Z_unfiltered_xco2.tif\n"
     ]
    },
    {
     "name": "stderr",
     "output_type": "stream",
     "text": [
      "Warning 1: Unable to save auxiliary information in /vsis3/sdap-dev-zarr/OCO3/outputs/veda/demo-2024.10.28-target/SIMULTEST_TFP_cog/oco2-co2_burgosPh_2020-01-15T053034Z_filtered_xco2.tif.aux.xml.\n",
      "Warning 1: Unable to save auxiliary information in /vsis3/sdap-dev-zarr/OCO3/outputs/veda/demo-2024.10.28-target/SIMULTEST_TFP_cog/oco2-co2_burgosPh_2020-02-25T052437Z_unfiltered_xco2.tif.aux.xml.\n",
      "Warning 1: Unable to save auxiliary information in /vsis3/sdap-dev-zarr/OCO3/outputs/veda/demo-2024.10.28-target/SIMULTEST_TFP_cog/oco2-co2_burgosPh_2020-02-25T052437Z_filtered_xco2.tif.aux.xml.\n",
      "Warning 1: Unable to save auxiliary information in /vsis3/sdap-dev-zarr/OCO3/outputs/veda/demo-2024.10.28-target/SIMULTEST_TFP_cog/oco2-co2_burgosPh_2020-01-15T053034Z_unfiltered_xco2.tif.aux.xml.\n",
      "Warning 1: Unable to save auxiliary information in /vsis3/sdap-dev-zarr/OCO3/outputs/veda/demo-2024.10.28-target/SIMULTEST_TFP_cog/oco2-co2_burgosPh_2020-04-29T052511Z_unfiltered_xco2.tif.aux.xml.\n"
     ]
    },
    {
     "name": "stdout",
     "output_type": "stream",
     "text": [
      "Copied: s3://sdap-dev-zarr/OCO3/outputs/veda/demo-2024.10.28-target/SIMULTEST_TFP_cog/oco2-co2_burgosPh_2020-04-29T052645Z_filtered_xco2.tif to s3://veda-data-store-staging/oco2-co2-target-cogs/oco2-co2_burgosPh_2020-04-29T052645Z_filtered_xco2.tif\n",
      "Copied: s3://sdap-dev-zarr/OCO3/outputs/veda/demo-2024.10.28-target/SIMULTEST_TFP_cog/oco2-co2_caltechCA_2014-09-21T210201Z_filtered_xco2.tif to s3://veda-data-store-staging/oco2-co2-target-cogs/oco2-co2_caltechCA_2014-09-21T210201Z_filtered_xco2.tif\n",
      "Copied: s3://sdap-dev-zarr/OCO3/outputs/veda/demo-2024.10.28-target/SIMULTEST_TFP_cog/oco2-co2_caltechCA_2014-09-12T210756Z_filtered_xco2.tif to s3://veda-data-store-staging/oco2-co2-target-cogs/oco2-co2_caltechCA_2014-09-12T210756Z_filtered_xco2.tif\n",
      "Copied: s3://sdap-dev-zarr/OCO3/outputs/veda/demo-2024.10.28-target/SIMULTEST_TFP_cog/oco2-co2_caltechCA_2014-09-12T210756Z_unfiltered_xco2.tif to s3://veda-data-store-staging/oco2-co2-target-cogs/oco2-co2_caltechCA_2014-09-12T210756Z_unfiltered_xco2.tif\n"
     ]
    },
    {
     "name": "stderr",
     "output_type": "stream",
     "text": [
      "Warning 1: Unable to save auxiliary information in /vsis3/sdap-dev-zarr/OCO3/outputs/veda/demo-2024.10.28-target/SIMULTEST_TFP_cog/oco2-co2_burgosPh_2020-04-29T052645Z_filtered_xco2.tif.aux.xml.\n",
      "Warning 1: Unable to save auxiliary information in /vsis3/sdap-dev-zarr/OCO3/outputs/veda/demo-2024.10.28-target/SIMULTEST_TFP_cog/oco2-co2_caltechCA_2014-09-21T210201Z_filtered_xco2.tif.aux.xml.\n",
      "Warning 1: Unable to save auxiliary information in /vsis3/sdap-dev-zarr/OCO3/outputs/veda/demo-2024.10.28-target/SIMULTEST_TFP_cog/oco2-co2_caltechCA_2014-09-12T210756Z_filtered_xco2.tif.aux.xml.\n",
      "Warning 1: Unable to save auxiliary information in /vsis3/sdap-dev-zarr/OCO3/outputs/veda/demo-2024.10.28-target/SIMULTEST_TFP_cog/oco2-co2_caltechCA_2014-09-12T210756Z_unfiltered_xco2.tif.aux.xml.\n"
     ]
    },
    {
     "name": "stdout",
     "output_type": "stream",
     "text": [
      "Copied: s3://sdap-dev-zarr/OCO3/outputs/veda/demo-2024.10.28-target/SIMULTEST_TFP_cog/oco2-co2_caltechCA_2014-09-21T210201Z_unfiltered_xco2.tif to s3://veda-data-store-staging/oco2-co2-target-cogs/oco2-co2_caltechCA_2014-09-21T210201Z_unfiltered_xco2.tif\n",
      "Copied: s3://sdap-dev-zarr/OCO3/outputs/veda/demo-2024.10.28-target/SIMULTEST_TFP_cog/oco2-co2_caltechCA_2014-10-14T210901Z_unfiltered_xco2.tif to s3://veda-data-store-staging/oco2-co2-target-cogs/oco2-co2_caltechCA_2014-10-14T210901Z_unfiltered_xco2.tif\n",
      "Copied: s3://sdap-dev-zarr/OCO3/outputs/veda/demo-2024.10.28-target/SIMULTEST_TFP_cog/oco2-co2_caltechCA_2014-10-07T210156Z_filtered_xco2.tif to s3://veda-data-store-staging/oco2-co2-target-cogs/oco2-co2_caltechCA_2014-10-07T210156Z_filtered_xco2.tif\n"
     ]
    },
    {
     "name": "stderr",
     "output_type": "stream",
     "text": [
      "Warning 1: Unable to save auxiliary information in /vsis3/sdap-dev-zarr/OCO3/outputs/veda/demo-2024.10.28-target/SIMULTEST_TFP_cog/oco2-co2_caltechCA_2014-09-21T210201Z_unfiltered_xco2.tif.aux.xml.\n",
      "Warning 1: Unable to save auxiliary information in /vsis3/sdap-dev-zarr/OCO3/outputs/veda/demo-2024.10.28-target/SIMULTEST_TFP_cog/oco2-co2_caltechCA_2014-10-14T210901Z_unfiltered_xco2.tif.aux.xml.\n",
      "Warning 1: Unable to save auxiliary information in /vsis3/sdap-dev-zarr/OCO3/outputs/veda/demo-2024.10.28-target/SIMULTEST_TFP_cog/oco2-co2_caltechCA_2014-10-07T210156Z_filtered_xco2.tif.aux.xml.\n"
     ]
    },
    {
     "name": "stdout",
     "output_type": "stream",
     "text": [
      "Copied: s3://sdap-dev-zarr/OCO3/outputs/veda/demo-2024.10.28-target/SIMULTEST_TFP_cog/oco2-co2_caltechCA_2014-10-07T210156Z_unfiltered_xco2.tif to s3://veda-data-store-staging/oco2-co2-target-cogs/oco2-co2_caltechCA_2014-10-07T210156Z_unfiltered_xco2.tif\n",
      "Copied: s3://sdap-dev-zarr/OCO3/outputs/veda/demo-2024.10.28-target/SIMULTEST_TFP_cog/oco2-co2_caltechCA_2014-10-30T210714Z_filtered_xco2.tif to s3://veda-data-store-staging/oco2-co2-target-cogs/oco2-co2_caltechCA_2014-10-30T210714Z_filtered_xco2.tif\n"
     ]
    },
    {
     "name": "stderr",
     "output_type": "stream",
     "text": [
      "Warning 1: Unable to save auxiliary information in /vsis3/sdap-dev-zarr/OCO3/outputs/veda/demo-2024.10.28-target/SIMULTEST_TFP_cog/oco2-co2_caltechCA_2014-10-07T210156Z_unfiltered_xco2.tif.aux.xml.\n",
      "Warning 1: Unable to save auxiliary information in /vsis3/sdap-dev-zarr/OCO3/outputs/veda/demo-2024.10.28-target/SIMULTEST_TFP_cog/oco2-co2_caltechCA_2014-10-30T210714Z_filtered_xco2.tif.aux.xml.\n"
     ]
    },
    {
     "name": "stdout",
     "output_type": "stream",
     "text": [
      "Copied: s3://sdap-dev-zarr/OCO3/outputs/veda/demo-2024.10.28-target/SIMULTEST_TFP_cog/oco2-co2_caltechCA_2014-10-30T210714Z_unfiltered_xco2.tif to s3://veda-data-store-staging/oco2-co2-target-cogs/oco2-co2_caltechCA_2014-10-30T210714Z_unfiltered_xco2.tif\n",
      "Copied: s3://sdap-dev-zarr/OCO3/outputs/veda/demo-2024.10.28-target/SIMULTEST_TFP_cog/oco2-co2_caltechCA_2015-01-02T210740Z_filtered_xco2.tif to s3://veda-data-store-staging/oco2-co2-target-cogs/oco2-co2_caltechCA_2015-01-02T210740Z_filtered_xco2.tif\n",
      "Copied: s3://sdap-dev-zarr/OCO3/outputs/veda/demo-2024.10.28-target/SIMULTEST_TFP_cog/oco2-co2_caltechCA_2015-01-02T210740Z_unfiltered_xco2.tif to s3://veda-data-store-staging/oco2-co2-target-cogs/oco2-co2_caltechCA_2015-01-02T210740Z_unfiltered_xco2.tif\n",
      "Copied: s3://sdap-dev-zarr/OCO3/outputs/veda/demo-2024.10.28-target/SIMULTEST_TFP_cog/oco2-co2_caltechCA_2015-01-27T210135Z_filtered_xco2.tif to s3://veda-data-store-staging/oco2-co2-target-cogs/oco2-co2_caltechCA_2015-01-27T210135Z_filtered_xco2.tif\n"
     ]
    },
    {
     "name": "stderr",
     "output_type": "stream",
     "text": [
      "Warning 1: Unable to save auxiliary information in /vsis3/sdap-dev-zarr/OCO3/outputs/veda/demo-2024.10.28-target/SIMULTEST_TFP_cog/oco2-co2_caltechCA_2014-10-30T210714Z_unfiltered_xco2.tif.aux.xml.\n",
      "Warning 1: Unable to save auxiliary information in /vsis3/sdap-dev-zarr/OCO3/outputs/veda/demo-2024.10.28-target/SIMULTEST_TFP_cog/oco2-co2_caltechCA_2015-01-02T210740Z_filtered_xco2.tif.aux.xml.\n",
      "Warning 1: Unable to save auxiliary information in /vsis3/sdap-dev-zarr/OCO3/outputs/veda/demo-2024.10.28-target/SIMULTEST_TFP_cog/oco2-co2_caltechCA_2015-01-02T210740Z_unfiltered_xco2.tif.aux.xml.\n",
      "Warning 1: Unable to save auxiliary information in /vsis3/sdap-dev-zarr/OCO3/outputs/veda/demo-2024.10.28-target/SIMULTEST_TFP_cog/oco2-co2_caltechCA_2015-01-27T210135Z_filtered_xco2.tif.aux.xml.\n"
     ]
    },
    {
     "name": "stdout",
     "output_type": "stream",
     "text": [
      "Copied: s3://sdap-dev-zarr/OCO3/outputs/veda/demo-2024.10.28-target/SIMULTEST_TFP_cog/oco2-co2_caltechCA_2015-03-07T210821Z_filtered_xco2.tif to s3://veda-data-store-staging/oco2-co2-target-cogs/oco2-co2_caltechCA_2015-03-07T210821Z_filtered_xco2.tif\n",
      "Copied: s3://sdap-dev-zarr/OCO3/outputs/veda/demo-2024.10.28-target/SIMULTEST_TFP_cog/oco2-co2_caltechCA_2015-01-27T210135Z_unfiltered_xco2.tif to s3://veda-data-store-staging/oco2-co2-target-cogs/oco2-co2_caltechCA_2015-01-27T210135Z_unfiltered_xco2.tif\n",
      "Copied: s3://sdap-dev-zarr/OCO3/outputs/veda/demo-2024.10.28-target/SIMULTEST_TFP_cog/oco2-co2_caltechCA_2015-03-07T210821Z_unfiltered_xco2.tif to s3://veda-data-store-staging/oco2-co2-target-cogs/oco2-co2_caltechCA_2015-03-07T210821Z_unfiltered_xco2.tif\n",
      "Copied: s3://sdap-dev-zarr/OCO3/outputs/veda/demo-2024.10.28-target/SIMULTEST_TFP_cog/oco2-co2_caltechCA_2015-08-05T211508Z_filtered_xco2.tif to s3://veda-data-store-staging/oco2-co2-target-cogs/oco2-co2_caltechCA_2015-08-05T211508Z_filtered_xco2.tif\n",
      "Copied: s3://sdap-dev-zarr/OCO3/outputs/veda/demo-2024.10.28-target/SIMULTEST_TFP_cog/oco2-co2_caltechCA_2015-07-04T211858Z_filtered_xco2.tif to s3://veda-data-store-staging/oco2-co2-target-cogs/oco2-co2_caltechCA_2015-07-04T211858Z_filtered_xco2.tif\n"
     ]
    },
    {
     "name": "stderr",
     "output_type": "stream",
     "text": [
      "Warning 1: Unable to save auxiliary information in /vsis3/sdap-dev-zarr/OCO3/outputs/veda/demo-2024.10.28-target/SIMULTEST_TFP_cog/oco2-co2_caltechCA_2015-03-07T210821Z_filtered_xco2.tif.aux.xml.\n",
      "Warning 1: Unable to save auxiliary information in /vsis3/sdap-dev-zarr/OCO3/outputs/veda/demo-2024.10.28-target/SIMULTEST_TFP_cog/oco2-co2_caltechCA_2015-01-27T210135Z_unfiltered_xco2.tif.aux.xml.\n",
      "Warning 1: Unable to save auxiliary information in /vsis3/sdap-dev-zarr/OCO3/outputs/veda/demo-2024.10.28-target/SIMULTEST_TFP_cog/oco2-co2_caltechCA_2015-03-07T210821Z_unfiltered_xco2.tif.aux.xml.\n",
      "Warning 1: Unable to save auxiliary information in /vsis3/sdap-dev-zarr/OCO3/outputs/veda/demo-2024.10.28-target/SIMULTEST_TFP_cog/oco2-co2_caltechCA_2015-08-05T211508Z_filtered_xco2.tif.aux.xml.\n",
      "Warning 1: Unable to save auxiliary information in /vsis3/sdap-dev-zarr/OCO3/outputs/veda/demo-2024.10.28-target/SIMULTEST_TFP_cog/oco2-co2_caltechCA_2015-07-04T211858Z_filtered_xco2.tif.aux.xml.\n"
     ]
    },
    {
     "name": "stdout",
     "output_type": "stream",
     "text": [
      "Copied: s3://sdap-dev-zarr/OCO3/outputs/veda/demo-2024.10.28-target/SIMULTEST_TFP_cog/oco2-co2_caltechCA_2015-07-04T211527Z_unfiltered_xco2.tif to s3://veda-data-store-staging/oco2-co2-target-cogs/oco2-co2_caltechCA_2015-07-04T211527Z_unfiltered_xco2.tif\n"
     ]
    },
    {
     "name": "stderr",
     "output_type": "stream",
     "text": [
      "Warning 1: Unable to save auxiliary information in /vsis3/sdap-dev-zarr/OCO3/outputs/veda/demo-2024.10.28-target/SIMULTEST_TFP_cog/oco2-co2_caltechCA_2015-07-04T211527Z_unfiltered_xco2.tif.aux.xml.\n"
     ]
    }
   ],
   "source": [
    "def main():\n",
    "    failures = []\n",
    "    with concurrent.futures.ThreadPoolExecutor(max_workers=NUM_WORKERS) as executor:\n",
    "        futures = {\n",
    "            executor.submit(process_file, object_key): object_key\n",
    "            for object_key in all_objects[0:100]\n",
    "        }\n",
    "\n",
    "        for idx, future in enumerate(as_completed(futures)):\n",
    "            if idx % 100 == 0:\n",
    "                print(f\"processed file {idx}\")\n",
    "            result = future.result()\n",
    "            if result[\"status\"] == \"error\":\n",
    "                object_key = result[\"object_key\"]\n",
    "                failures.append((object_key, result))\n",
    "                # print(f\"{object_key}: {result['error_message']}\")\n",
    "\n",
    "    # Save results to a log file\n",
    "    with open(\"failed_files.log\", \"w\") as f:\n",
    "        for object_key, result in failures:\n",
    "            f.write(f\"{object_key}\\n\")\n",
    "\n",
    "\n",
    "main()"
   ]
  }
 ],
 "metadata": {
  "kernelspec": {
   "display_name": "Python 3 (ipykernel)",
   "language": "python",
   "name": "python3"
  },
  "language_info": {
   "codemirror_mode": {
    "name": "ipython",
    "version": 3
   },
   "file_extension": ".py",
   "mimetype": "text/x-python",
   "name": "python",
   "nbconvert_exporter": "python",
   "pygments_lexer": "ipython3",
   "version": "3.12.7"
  }
 },
 "nbformat": 4,
 "nbformat_minor": 5
}
